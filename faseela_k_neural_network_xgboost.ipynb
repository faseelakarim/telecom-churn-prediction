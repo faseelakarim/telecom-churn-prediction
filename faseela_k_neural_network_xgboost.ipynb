{
 "cells": [
  {
   "cell_type": "markdown",
   "id": "1dca9620",
   "metadata": {},
   "source": [
    "### Telecom churn prediction:\n",
    "**Faseela K Karim**"
   ]
  },
  {
   "cell_type": "markdown",
   "id": "9uaqa1RaA5_J",
   "metadata": {
    "id": "9uaqa1RaA5_J"
   },
   "source": [
    "## Introduction\n",
    "\n",
    "This section is part of our project, and here we aim to train different neural networks on customer churn data. \n",
    "The codes given defines and trains several neural network models using the TensorFlow library. The models have varying levels of complexity and regularization to prevent overfitting. The code also uses callbacks such as EarlyStopping to stop training the model when there is no improvement in performance on the validation set. Finally, the code evaluates the trained models on the test set and displays the confusion matrix using seaborn.\n",
    "\n",
    "This notebook also contains one XGBoost model and a Naive bays classifier.\n",
    "\n",
    "Overall, this notebook aims to compare the performance of different neural network models on customer churn data and explore techniques to improve model accuracy."
   ]
  },
  {
   "cell_type": "markdown",
   "id": "q6OCNy8hDXqB",
   "metadata": {
    "id": "q6OCNy8hDXqB"
   },
   "source": [
    "## Table of Contents\n",
    "1. [Neural Network -1](#n1)\n",
    "2. [Neural Network -2](#n2)\n",
    "3. [Neural Network -3](#n3)\n",
    "4. [Neural Network -4](#n4)\n",
    "5. [XGBoost](#xg)\n",
    "6. [Trying a Naive Bayes Classifier](#nb)\n",
    "7. [Conclusion](#con)\n"
   ]
  },
  {
   "cell_type": "code",
   "execution_count": 1,
   "id": "fdeead4d",
   "metadata": {
    "id": "fdeead4d"
   },
   "outputs": [],
   "source": [
    "#import required libraries\n",
    "import pandas as pd\n",
    "import numpy as np\n",
    "import matplotlib.pyplot as plt\n",
    "import seaborn as sns\n",
    "%matplotlib inline\n",
    "from sklearn.preprocessing import StandardScaler"
   ]
  },
  {
   "cell_type": "code",
   "execution_count": null,
   "id": "ccc61f77",
   "metadata": {
    "id": "ccc61f77"
   },
   "outputs": [],
   "source": [
    "#import required libraries\n",
    "import tensorflow as tf\n",
    "from tensorflow import keras\n",
    "from tensorflow.keras import layers\n",
    "from tensorflow.keras.models import Sequential\n",
    "from tensorflow.keras.layers import Dense\n",
    "from tensorflow.keras.metrics import MeanAbsoluteError\n",
    "from tensorflow.keras.callbacks import EarlyStopping\n",
    "from tensorflow.keras import regularizers\n",
    "from sklearn.metrics import confusion_matrix\n",
    "from sklearn.metrics import classification_report"
   ]
  },
  {
   "cell_type": "code",
   "execution_count": null,
   "id": "LmYlcJGY24rp",
   "metadata": {
    "colab": {
     "base_uri": "https://localhost:8080/"
    },
    "id": "LmYlcJGY24rp",
    "outputId": "43f51ed7-7979-4576-9881-4a153a8f86aa"
   },
   "outputs": [
    {
     "name": "stdout",
     "output_type": "stream",
     "text": [
      "Mounted at /content/drive\n"
     ]
    }
   ],
   "source": [
    "# #connecting to ggogle drive\n",
    "# from google.colab import drive\n",
    "# drive.mount('/content/drive')"
   ]
  },
  {
   "cell_type": "code",
   "execution_count": null,
   "id": "ArVR5jyD28zC",
   "metadata": {
    "id": "ArVR5jyD28zC"
   },
   "outputs": [],
   "source": [
    "\n",
    "# #uploading the dataset\n",
    "# #output of onehot encoding used here,no columns deleted based on collinearity\n",
    "# df_train=pd.read_csv('/content/drive/My Drive/final_capstone/train_data_onehot.csv',index_col=0)\n",
    "# df_test=pd.read_csv('/content/drive/My Drive/final_capstone/test_data_onehot.csv',index_col=0)"
   ]
  },
  {
   "cell_type": "code",
   "execution_count": 2,
   "id": "xW5-Fhe_4Ugp",
   "metadata": {
    "id": "xW5-Fhe_4Ugp"
   },
   "outputs": [],
   "source": [
    "#uploading the dataset from local drive\n",
    "#output of vif encoding used here,output after columns deleted based on collinearity\n",
    "df_train=pd.read_csv('data/train_data_onehot.csv',index_col=0)\n",
    "df_test=pd.read_csv('data/test_data_onehot.csv',index_col=0)"
   ]
  },
  {
   "cell_type": "code",
   "execution_count": 3,
   "id": "7Hb7UPSj3clA",
   "metadata": {
    "id": "7Hb7UPSj3clA"
   },
   "outputs": [],
   "source": [
    "#seperating target variable from test and train data\n",
    "X_train =df_train.drop('churn',axis=1)\n",
    "X_test=df_test.drop('churn',axis=1)\n",
    "y_train=df_train.churn\n",
    "y_test=df_test.churn"
   ]
  },
  {
   "cell_type": "code",
   "execution_count": 4,
   "id": "3LMe6StOKu_a",
   "metadata": {
    "colab": {
     "base_uri": "https://localhost:8080/"
    },
    "id": "3LMe6StOKu_a",
    "outputId": "f9159cdf-8603-41cc-a007-331b6aabffef"
   },
   "outputs": [
    {
     "data": {
      "text/plain": [
       "(75000, 125)"
      ]
     },
     "execution_count": 4,
     "metadata": {},
     "output_type": "execute_result"
    }
   ],
   "source": [
    "X_train.shape\n",
    "#X_test.shape"
   ]
  },
  {
   "cell_type": "markdown",
   "id": "XoZLT3Xt1VV2",
   "metadata": {
    "id": "XoZLT3Xt1VV2"
   },
   "source": [
    "**Scaling**\n",
    "\n",
    "In machine learning, it is important to scale the data to avoid bias towards features with larger magnitude. The StandardScaler function is a common way to normalize data, by subtracting the mean and dividing by the standard deviation. This ensures that each feature has a similar scale and distribution, making it easier for the machine learning model to learn the relationships between the features and the target variable. In this code snippet, the StandardScaler is applied to the training data to obtain X_train_scaled, and the same scaling is applied to the test data using the transform method of the scaler object to obtain X_test_scaled."
   ]
  },
  {
   "cell_type": "code",
   "execution_count": null,
   "id": "caa1bb5c",
   "metadata": {
    "id": "caa1bb5c"
   },
   "outputs": [],
   "source": [
    "scaler=StandardScaler()\n",
    "X_train_scaled=scaler.fit_transform(X_train)\n",
    "X_test_scaled=scaler.transform(X_test)"
   ]
  },
  {
   "cell_type": "markdown",
   "id": "otgN8dPlyZPt",
   "metadata": {
    "id": "otgN8dPlyZPt"
   },
   "source": [
    "## Neural Network -1<a name=\"n1\"></a>\n",
    "\n",
    "This code creates a neural network model using the Keras API with multiple dense layers of varying sizes and activations. The input shape is determined by the number of features in the training data. The dropout layer is used to prevent overfitting by randomly dropping out nodes during training. The final layer uses a sigmoid activation function to output a probability between 0 and 1, indicating the likelihood of a binary classification (in this case, customer churn). Overall, the model aims to find patterns and relationships in the data to accurately predict whether a customer will churn or not."
   ]
  },
  {
   "cell_type": "code",
   "execution_count": null,
   "id": "BjTHoPDO0zIc",
   "metadata": {
    "id": "BjTHoPDO0zIc"
   },
   "outputs": [],
   "source": [
    "\n",
    "\n",
    "# Create a simple neural network model\n",
    "model = tf.keras.Sequential([\n",
    "    tf.keras.layers.Dense(256, activation='relu', input_shape=(X_train_scaled.shape[1],)),\n",
    "    tf.keras.layers.Dropout(0.2),\n",
    "    #tf.keras.layers.Dense(524, activation='relu'),\n",
    "    #tf.keras.layers.Dropout(0.1),\n",
    "    tf.keras.layers.Dense(256, activation='relu'),\n",
    "    tf.keras.layers.Dropout(0.2),\n",
    "    tf.keras.layers.Dense(128, activation='relu'),\n",
    "    tf.keras.layers.Dropout(0.2),\n",
    "    tf.keras.layers.Dense(64, activation='relu'),\n",
    "    tf.keras.layers.Dropout(0.2),\n",
    "    tf.keras.layers.Dense(1, activation='sigmoid')\n",
    "])\n",
    "\n"
   ]
  },
  {
   "cell_type": "code",
   "execution_count": null,
   "id": "h1vjRczHxgmL",
   "metadata": {
    "colab": {
     "base_uri": "https://localhost:8080/"
    },
    "id": "h1vjRczHxgmL",
    "outputId": "cbef8f12-ee7e-4db5-b0ea-62878e3438f7"
   },
   "outputs": [
    {
     "name": "stdout",
     "output_type": "stream",
     "text": [
      "Epoch 1/2\n",
      "2110/2110 [==============================] - 13s 4ms/step - loss: 0.6802 - accuracy: 0.5711 - val_loss: 0.6704 - val_accuracy: 0.5937\n",
      "Epoch 2/2\n",
      "2110/2110 [==============================] - 9s 4ms/step - loss: 0.6677 - accuracy: 0.5980 - val_loss: 0.6663 - val_accuracy: 0.5985\n",
      "782/782 [==============================] - 2s 2ms/step - loss: 0.6647 - accuracy: 0.5985\n",
      "Test Loss: 0.664667010307312, Test Accuracy: 0.5984799861907959\n"
     ]
    }
   ],
   "source": [
    "# Compile the model\n",
    "model.compile(optimizer='adam', loss='binary_crossentropy', metrics=['accuracy'])\n",
    "\n",
    "# Train the model\n",
    "model.fit(X_train_scaled, y_train, epochs=2, batch_size=32, validation_split=0.1)\n",
    "\n",
    "# Evaluate the model on the test set\n",
    "test_loss, test_accuracy = model.evaluate(X_test_scaled, y_test)\n",
    "print(f'Test Loss: {test_loss}, Test Accuracy: {test_accuracy}')\n"
   ]
  },
  {
   "cell_type": "markdown",
   "id": "N-GWNl7x5qIZ",
   "metadata": {
    "id": "N-GWNl7x5qIZ"
   },
   "source": [
    "This model has 59.8% of test accuracy"
   ]
  },
  {
   "cell_type": "markdown",
   "id": "zCQYFUfZE1cj",
   "metadata": {
    "id": "zCQYFUfZE1cj"
   },
   "source": [
    "##Neural Network-2<a name=\"n2\"></a>\n",
    "\n",
    "This code creates a more complex neural network model with five dense layers and dropout regularization between each layer. The number of neurons in the dense layers decreases from 512 to 32. The activation function used for all the dense layers is the rectified linear unit (ReLU), and the final dense layer has a sigmoid activation function to output the binary classification probability.\n",
    "\n",
    "The model is compiled with the Stochastic Gradient Descent (SGD) optimizer with a learning rate of 0.01 and momentum of 0.9. The loss function used is binary crossentropy, and the metric used to evaluate the performance of the model is accuracy.\n",
    "\n",
    "The model is trained on the scaled training data for 10 epochs with a batch size of 32 and a validation split of 0.1. Finally, the model is evaluated on the scaled test data and the test loss and test accuracy are printed."
   ]
  },
  {
   "cell_type": "code",
   "execution_count": null,
   "id": "x_9OUj9F5T8L",
   "metadata": {
    "id": "x_9OUj9F5T8L"
   },
   "outputs": [],
   "source": [
    "# Create a more complex neural network model\n",
    "model = tf.keras.Sequential([\n",
    "    tf.keras.layers.Dense(512, activation='relu', input_shape=(X_train_scaled.shape[1],)),\n",
    "    tf.keras.layers.Dropout(0.5),\n",
    "    tf.keras.layers.Dense(256, activation='relu'),\n",
    "    tf.keras.layers.Dropout(0.5),\n",
    "    tf.keras.layers.Dense(128, activation='relu'),\n",
    "    tf.keras.layers.Dropout(0.5),\n",
    "    tf.keras.layers.Dense(64, activation='relu'),\n",
    "    tf.keras.layers.Dropout(0.5),\n",
    "    tf.keras.layers.Dense(32, activation='relu'),\n",
    "    tf.keras.layers.Dropout(0.5),\n",
    "    tf.keras.layers.Dense(1, activation='sigmoid')\n",
    "])\n",
    "\n",
    "# Compile the model with the SGD optimizer\n",
    "sgd = tf.keras.optimizers.SGD(learning_rate=0.01, momentum=0.9)\n",
    "model.compile(optimizer=sgd, loss='binary_crossentropy', metrics=['accuracy'])\n",
    "\n"
   ]
  },
  {
   "cell_type": "code",
   "execution_count": null,
   "id": "rrWyNaRH5aaQ",
   "metadata": {
    "colab": {
     "base_uri": "https://localhost:8080/"
    },
    "id": "rrWyNaRH5aaQ",
    "outputId": "bcd349bc-9f3c-46d8-f2ff-e99f022264fc"
   },
   "outputs": [
    {
     "name": "stdout",
     "output_type": "stream",
     "text": [
      "Epoch 1/10\n",
      "2110/2110 [==============================] - 11s 5ms/step - loss: 0.6962 - accuracy: 0.5026 - val_loss: 0.6932 - val_accuracy: 0.4961\n",
      "Epoch 2/10\n",
      "2110/2110 [==============================] - 10s 5ms/step - loss: 0.6934 - accuracy: 0.5058 - val_loss: 0.6927 - val_accuracy: 0.5137\n",
      "Epoch 3/10\n",
      "2110/2110 [==============================] - 8s 4ms/step - loss: 0.6927 - accuracy: 0.5137 - val_loss: 0.6910 - val_accuracy: 0.5667\n",
      "Epoch 4/10\n",
      "2110/2110 [==============================] - 9s 4ms/step - loss: 0.6897 - accuracy: 0.5346 - val_loss: 0.6845 - val_accuracy: 0.5773\n",
      "Epoch 5/10\n",
      "2110/2110 [==============================] - 9s 4ms/step - loss: 0.6849 - accuracy: 0.5584 - val_loss: 0.6832 - val_accuracy: 0.5836\n",
      "Epoch 6/10\n",
      "2110/2110 [==============================] - 9s 4ms/step - loss: 0.6807 - accuracy: 0.5719 - val_loss: 0.6787 - val_accuracy: 0.5892\n",
      "Epoch 7/10\n",
      "2110/2110 [==============================] - 9s 4ms/step - loss: 0.6775 - accuracy: 0.5805 - val_loss: 0.6747 - val_accuracy: 0.5895\n",
      "Epoch 8/10\n",
      "2110/2110 [==============================] - 9s 4ms/step - loss: 0.6747 - accuracy: 0.5857 - val_loss: 0.6769 - val_accuracy: 0.5920\n",
      "Epoch 9/10\n",
      "2110/2110 [==============================] - 8s 4ms/step - loss: 0.6730 - accuracy: 0.5917 - val_loss: 0.6740 - val_accuracy: 0.5929\n",
      "Epoch 10/10\n",
      "2110/2110 [==============================] - 10s 5ms/step - loss: 0.6711 - accuracy: 0.5940 - val_loss: 0.6699 - val_accuracy: 0.5911\n",
      "782/782 [==============================] - 2s 2ms/step - loss: 0.6692 - accuracy: 0.5898\n",
      "Test Loss: 0.6692014336585999, Test Accuracy: 0.5897600054740906\n"
     ]
    }
   ],
   "source": [
    "# Train the model\n",
    "model.fit(X_train_scaled, y_train, epochs=10, batch_size=32, validation_split=0.1)\n",
    "\n",
    "# Evaluate the model on the test set\n",
    "test_loss, test_accuracy = model.evaluate(X_test_scaled, y_test)\n",
    "print(f'Test Loss: {test_loss}, Test Accuracy: {test_accuracy}')\n"
   ]
  },
  {
   "cell_type": "markdown",
   "id": "RujkphAT59TE",
   "metadata": {
    "id": "RujkphAT59TE"
   },
   "source": [
    "Neural Network-2 model has 58.9% of test accuracy"
   ]
  },
  {
   "cell_type": "markdown",
   "id": "7B9nHBYJGGu7",
   "metadata": {
    "id": "7B9nHBYJGGu7"
   },
   "source": [
    "## Neural Network-3<a name=\"n3\"></a>\n",
    "\n",
    "This code creates a simple neural network model with L2 regularization to prevent overfitting. The model has four dense layers with ReLU activation and dropout regularization to reduce the risk of overfitting. The final dense layer has a sigmoid activation to output a probability between 0 and 1. The model is compiled with the Adam optimizer and binary cross-entropy loss function, and accuracy is used as the evaluation metric. The model is trained on the training set with early stopping to prevent overfitting, and the validation split is set to 0.1. The test set is then used to evaluate the model's performance by calculating the loss and accuracy."
   ]
  },
  {
   "cell_type": "code",
   "execution_count": null,
   "id": "QSdwvkDSb9lY",
   "metadata": {
    "colab": {
     "base_uri": "https://localhost:8080/"
    },
    "id": "QSdwvkDSb9lY",
    "outputId": "538ae4fa-60d3-40ae-9a6d-142071212686"
   },
   "outputs": [
    {
     "name": "stdout",
     "output_type": "stream",
     "text": [
      "Epoch 1/15\n",
      "2110/2110 [==============================] - 12s 5ms/step - loss: 0.8077 - accuracy: 0.5731 - val_loss: 0.6895 - val_accuracy: 0.5841\n",
      "Epoch 2/15\n",
      "2110/2110 [==============================] - 9s 4ms/step - loss: 0.6841 - accuracy: 0.5877 - val_loss: 0.6815 - val_accuracy: 0.5935\n",
      "Epoch 3/15\n",
      "2110/2110 [==============================] - 11s 5ms/step - loss: 0.6803 - accuracy: 0.5922 - val_loss: 0.6842 - val_accuracy: 0.5812\n",
      "Epoch 4/15\n",
      "2110/2110 [==============================] - 10s 5ms/step - loss: 0.6793 - accuracy: 0.5925 - val_loss: 0.6786 - val_accuracy: 0.5939\n",
      "Epoch 5/15\n",
      "2110/2110 [==============================] - 9s 4ms/step - loss: 0.6787 - accuracy: 0.5927 - val_loss: 0.6779 - val_accuracy: 0.5921\n",
      "Epoch 6/15\n",
      "2110/2110 [==============================] - 9s 4ms/step - loss: 0.6782 - accuracy: 0.5951 - val_loss: 0.6771 - val_accuracy: 0.5877\n",
      "Epoch 7/15\n",
      "2110/2110 [==============================] - 9s 4ms/step - loss: 0.6775 - accuracy: 0.5967 - val_loss: 0.6780 - val_accuracy: 0.5887\n",
      "Epoch 8/15\n",
      "2110/2110 [==============================] - 10s 5ms/step - loss: 0.6764 - accuracy: 0.6004 - val_loss: 0.6764 - val_accuracy: 0.5920\n",
      "Epoch 9/15\n",
      "2110/2110 [==============================] - 9s 4ms/step - loss: 0.6750 - accuracy: 0.6000 - val_loss: 0.6733 - val_accuracy: 0.6043\n",
      "Epoch 10/15\n",
      "2110/2110 [==============================] - 9s 4ms/step - loss: 0.6754 - accuracy: 0.6004 - val_loss: 0.6739 - val_accuracy: 0.6043\n",
      "Epoch 11/15\n",
      "2110/2110 [==============================] - 10s 5ms/step - loss: 0.6753 - accuracy: 0.5998 - val_loss: 0.6766 - val_accuracy: 0.5933\n",
      "Epoch 12/15\n",
      "2110/2110 [==============================] - 9s 4ms/step - loss: 0.6746 - accuracy: 0.6006 - val_loss: 0.6748 - val_accuracy: 0.5969\n",
      "Epoch 13/15\n",
      "2110/2110 [==============================] - 10s 5ms/step - loss: 0.6739 - accuracy: 0.6011 - val_loss: 0.6753 - val_accuracy: 0.5981\n",
      "Epoch 14/15\n",
      "2110/2110 [==============================] - 10s 5ms/step - loss: 0.6743 - accuracy: 0.6002 - val_loss: 0.6790 - val_accuracy: 0.5931\n",
      "Epoch 15/15\n",
      "2110/2110 [==============================] - 9s 4ms/step - loss: 0.6738 - accuracy: 0.6021 - val_loss: 0.6736 - val_accuracy: 0.6019\n",
      "782/782 [==============================] - 2s 2ms/step - loss: 0.6745 - accuracy: 0.5956\n",
      "Test Loss: 0.674506664276123, Test Accuracy: 0.5955600142478943\n"
     ]
    }
   ],
   "source": [
    "# Create a simple neural network model with regularization\n",
    "model = tf.keras.Sequential([\n",
    "    tf.keras.layers.Dense(128, activation='relu', input_shape=(125,), kernel_regularizer=tf.keras.regularizers.l2(0.001)),\n",
    "    tf.keras.layers.Dropout(0.2),\n",
    "    tf.keras.layers.Dense(256, activation='relu', kernel_regularizer=tf.keras.regularizers.l2(0.001)),\n",
    "    tf.keras.layers.Dropout(0.2),\n",
    "    tf.keras.layers.Dense(128, activation='relu', kernel_regularizer=tf.keras.regularizers.l2(0.001)),\n",
    "    tf.keras.layers.Dropout(0.2),\n",
    "    tf.keras.layers.Dense(64, activation='relu', kernel_regularizer=tf.keras.regularizers.l2(0.001)),\n",
    "    tf.keras.layers.Dropout(0.2),\n",
    "    tf.keras.layers.Dense(1, activation='sigmoid')\n",
    "])\n",
    "\n",
    "# Compile the model\n",
    "model.compile(optimizer='adam', loss='binary_crossentropy', metrics=['accuracy'])\n",
    "\n",
    "# Define callbacks for early stopping\n",
    "early_stopping = tf.keras.callbacks.EarlyStopping(patience=10)\n",
    "\n",
    "# Train the model with early stopping\n",
    "history = model.fit(X_train_scaled, y_train, epochs=15, batch_size=32, validation_split=0.1, callbacks=[early_stopping])\n",
    "\n",
    "# Evaluate the model on the test set\n",
    "test_loss, test_accuracy = model.evaluate(X_test_scaled, y_test)\n",
    "print(f'Test Loss: {test_loss}, Test Accuracy: {test_accuracy}')"
   ]
  },
  {
   "cell_type": "markdown",
   "id": "MlxR4n5z8WKR",
   "metadata": {
    "id": "MlxR4n5z8WKR"
   },
   "source": [
    "Neural Network-3 model has 59.5% of test accuracy"
   ]
  },
  {
   "cell_type": "markdown",
   "id": "CNpS9virTsi7",
   "metadata": {
    "id": "CNpS9virTsi7"
   },
   "source": [
    "## Neural Network-4<a name=\"n4\"></a>\n",
    "code builds a neural network model for binary classification with several modifications. It adds L2 regularization to the dense layers, changes the optimizer to RMSprop with a learning rate of 0.0005, and adds early stopping to the model training.\n",
    "\n",
    "After compiling the model, it is trained using the fit() method with the modified optimizer and the early_stopping callback. Finally, the model is evaluated on the test set and its test loss and accuracy are printed.\n",
    "\n",
    "The confusion matrix is calculated and displayed using seaborn library and confusion_matrix() function from sklearn.metrics to better understand how the model is performing on the test set."
   ]
  },
  {
   "cell_type": "code",
   "execution_count": null,
   "id": "WTfESQseO-an",
   "metadata": {
    "colab": {
     "base_uri": "https://localhost:8080/",
     "height": 1000
    },
    "id": "WTfESQseO-an",
    "outputId": "c1ac07a6-90fe-4618-a3cd-59b9d70eb8f1"
   },
   "outputs": [
    {
     "name": "stdout",
     "output_type": "stream",
     "text": [
      "Epoch 1/20\n",
      "2110/2110 [==============================] - 13s 5ms/step - loss: 0.8357 - accuracy: 0.5695 - val_loss: 0.6933 - val_accuracy: 0.5841\n",
      "Epoch 2/20\n",
      "2110/2110 [==============================] - 9s 4ms/step - loss: 0.6859 - accuracy: 0.5941 - val_loss: 0.6837 - val_accuracy: 0.5905\n",
      "Epoch 3/20\n",
      "2110/2110 [==============================] - 10s 5ms/step - loss: 0.6800 - accuracy: 0.5964 - val_loss: 0.6794 - val_accuracy: 0.5919\n",
      "Epoch 4/20\n",
      "2110/2110 [==============================] - 10s 5ms/step - loss: 0.6784 - accuracy: 0.6026 - val_loss: 0.6782 - val_accuracy: 0.6000\n",
      "Epoch 5/20\n",
      "2110/2110 [==============================] - 10s 5ms/step - loss: 0.6764 - accuracy: 0.6017 - val_loss: 0.6829 - val_accuracy: 0.5868\n",
      "Epoch 6/20\n",
      "2110/2110 [==============================] - 10s 5ms/step - loss: 0.6755 - accuracy: 0.6049 - val_loss: 0.6758 - val_accuracy: 0.5963\n",
      "Epoch 7/20\n",
      "2110/2110 [==============================] - 10s 5ms/step - loss: 0.6744 - accuracy: 0.6063 - val_loss: 0.6756 - val_accuracy: 0.6015\n",
      "Epoch 8/20\n",
      "2110/2110 [==============================] - 10s 5ms/step - loss: 0.6737 - accuracy: 0.6087 - val_loss: 0.6754 - val_accuracy: 0.6035\n",
      "Epoch 9/20\n",
      "2110/2110 [==============================] - 10s 5ms/step - loss: 0.6726 - accuracy: 0.6075 - val_loss: 0.6773 - val_accuracy: 0.5964\n",
      "Epoch 10/20\n",
      "2110/2110 [==============================] - 9s 4ms/step - loss: 0.6717 - accuracy: 0.6092 - val_loss: 0.6749 - val_accuracy: 0.5987\n",
      "Epoch 11/20\n",
      "2110/2110 [==============================] - 10s 5ms/step - loss: 0.6719 - accuracy: 0.6111 - val_loss: 0.6753 - val_accuracy: 0.6044\n",
      "Epoch 12/20\n",
      "2110/2110 [==============================] - 10s 5ms/step - loss: 0.6718 - accuracy: 0.6109 - val_loss: 0.6724 - val_accuracy: 0.6075\n",
      "Epoch 13/20\n",
      "2110/2110 [==============================] - 10s 5ms/step - loss: 0.6713 - accuracy: 0.6131 - val_loss: 0.6756 - val_accuracy: 0.5996\n",
      "Epoch 14/20\n",
      "2110/2110 [==============================] - 10s 5ms/step - loss: 0.6708 - accuracy: 0.6116 - val_loss: 0.6737 - val_accuracy: 0.6048\n",
      "Epoch 15/20\n",
      "2110/2110 [==============================] - 10s 5ms/step - loss: 0.6688 - accuracy: 0.6160 - val_loss: 0.6743 - val_accuracy: 0.6025\n",
      "Epoch 16/20\n",
      "2110/2110 [==============================] - 10s 5ms/step - loss: 0.6695 - accuracy: 0.6147 - val_loss: 0.6772 - val_accuracy: 0.5972\n",
      "Epoch 17/20\n",
      "2110/2110 [==============================] - 10s 5ms/step - loss: 0.6701 - accuracy: 0.6156 - val_loss: 0.6758 - val_accuracy: 0.6005\n",
      "782/782 [==============================] - 2s 2ms/step - loss: 0.6715 - accuracy: 0.6050\n",
      "782/782 [==============================] - 1s 1ms/step\n"
     ]
    },
    {
     "data": {
      "image/png": "[encoded data removed]",
      "text/plain": [
       "<Figure size 640x480 with 2 Axes>"
      ]
     },
     "metadata": {},
     "output_type": "display_data"
    },
    {
     "name": "stdout",
     "output_type": "stream",
     "text": [
      "Test Loss: 0.6714892387390137, Test Accuracy: 0.6050000190734863\n",
      "              precision    recall  f1-score   support\n",
      "\n",
      "           0       0.61      0.62      0.61     12609\n",
      "           1       0.60      0.59      0.60     12391\n",
      "\n",
      "    accuracy                           0.60     25000\n",
      "   macro avg       0.60      0.60      0.60     25000\n",
      "weighted avg       0.60      0.60      0.60     25000\n",
      "\n"
     ]
    }
   ],
   "source": [
    "from sklearn.metrics import confusion_matrix\n",
    "from sklearn.metrics import classification_report\n",
    "\n",
    "# Add early stopping\n",
    "\n",
    "early_stopping = tf.keras.callbacks.EarlyStopping(\n",
    "    monitor='val_loss',\n",
    "    patience=5,\n",
    "    restore_best_weights=True\n",
    ")\n",
    "\n",
    "# Change optimizer to RMSprop with a different learning rate\n",
    "optimizer = tf.keras.optimizers.RMSprop(learning_rate=0.0005)\n",
    "\n",
    "# Add L2 regularization to dense layers\n",
    "regularizer = tf.keras.regularizers.l2(0.001)\n",
    "\n",
    "model = tf.keras.Sequential([\n",
    "    tf.keras.layers.Dense(256, activation='relu', input_shape=(X_train_scaled.shape[1],), kernel_regularizer=regularizer),\n",
    "    tf.keras.layers.Dropout(0.2),\n",
    "    tf.keras.layers.Dense(524, activation='relu'),\n",
    "    #tf.keras.layers.Dropout(0.3),\n",
    "    tf.keras.layers.Dense(256, activation='relu', kernel_regularizer=regularizer),\n",
    "    tf.keras.layers.Dropout(0.2),\n",
    "    tf.keras.layers.Dense(128, activation='relu', kernel_regularizer=regularizer),\n",
    "    tf.keras.layers.Dropout(0.2),\n",
    "    tf.keras.layers.Dense(64, activation='relu', kernel_regularizer=regularizer),\n",
    "    tf.keras.layers.Dropout(0.2),\n",
    "    tf.keras.layers.Dense(8, activation='relu', kernel_regularizer=regularizer),\n",
    "    tf.keras.layers.Dropout(0.2),\n",
    "    tf.keras.layers.Dense(1, activation='sigmoid')\n",
    "])\n",
    "\n",
    "# Compile the model with the new optimizer\n",
    "model.compile(optimizer=optimizer, loss='binary_crossentropy', metrics=['accuracy'])\n",
    "\n",
    "# Train the model with early stopping\n",
    "model.fit(X_train_scaled, y_train, epochs=20, batch_size=32, validation_split=0.1, callbacks=[early_stopping])\n",
    "# Evaluate the model on the test set\n",
    "test_loss, test_accuracy = model.evaluate(X_test_scaled, y_test)\n",
    "# Make predictions on the test set\n",
    "y_pred = model.predict(X_test_scaled)\n",
    "y_pred_classes = np.where(y_pred > 0.5, 1, 0)\n",
    "\n",
    "# Calculate the confusion matrix\n",
    "conf_mat = confusion_matrix(y_test, y_pred_classes)\n",
    "\n",
    "# Display the confusion matrix\n",
    "sns.heatmap(conf_mat, annot=True, fmt='g', cmap='Blues')\n",
    "plt.xlabel('Predicted labels')\n",
    "plt.ylabel('True labels')\n",
    "plt.title('Confusion matrix')\n",
    "plt.show()\n",
    "\n",
    "# Print the test loss and test accuracy\n",
    "print(f'Test Loss: {test_loss}, Test Accuracy: {test_accuracy}')\n",
    "\n",
    "# Calculate the classification report\n",
    "report = classification_report(y_test, y_pred_classes)\n",
    "\n",
    "# Print the classification report\n",
    "print(report)\n",
    "\n"
   ]
  },
  {
   "cell_type": "markdown",
   "id": "2DMixEc49Pbe",
   "metadata": {
    "id": "2DMixEc49Pbe"
   },
   "source": [
    "Test accuracy is 60.5 % here."
   ]
  },
  {
   "cell_type": "markdown",
   "id": "oFAW8YNG96g5",
   "metadata": {
    "id": "oFAW8YNG96g5"
   },
   "source": [
    "### **XGBoost**<a name=\"xg\"></a>"
   ]
  },
  {
   "cell_type": "markdown",
   "id": "yGxKkvIpDUTF",
   "metadata": {
    "id": "yGxKkvIpDUTF"
   },
   "source": [
    "This code defines an XGBoost classifier with a maximum depth of 4, trains the model on the training data (X_train_scaled and y_train), makes predictions on the test data (X_test_scaled), and calculates the accuracy score using the accuracy_score function from sklearn.metrics. The accuracy score is then printed to the console."
   ]
  },
  {
   "cell_type": "code",
   "execution_count": null,
   "id": "8TDcwLDbpdNv",
   "metadata": {
    "colab": {
     "base_uri": "https://localhost:8080/",
     "height": 646
    },
    "id": "8TDcwLDbpdNv",
    "outputId": "20aa17e9-768e-44d9-eb66-89a5282dfa2f"
   },
   "outputs": [
    {
     "name": "stdout",
     "output_type": "stream",
     "text": [
      "Test Accuracy: 0.63264\n"
     ]
    },
    {
     "data": {
      "image/png": "[encoded data removed]",
      "text/plain": [
       "<Figure size 640x480 with 2 Axes>"
      ]
     },
     "metadata": {},
     "output_type": "display_data"
    },
    {
     "name": "stdout",
     "output_type": "stream",
     "text": [
      "              precision    recall  f1-score   support\n",
      "\n",
      "           0       0.64      0.63      0.63     12609\n",
      "           1       0.63      0.64      0.63     12391\n",
      "\n",
      "    accuracy                           0.63     25000\n",
      "   macro avg       0.63      0.63      0.63     25000\n",
      "weighted avg       0.63      0.63      0.63     25000\n",
      "\n"
     ]
    }
   ],
   "source": [
    "import xgboost as xgb\n",
    "from sklearn.metrics import accuracy_score\n",
    "from sklearn.metrics import classification_report\n",
    "from sklearn.metrics import confusion_matrix\n",
    "\n",
    "\n",
    "\n",
    "# Define the XGBoost classifier\n",
    "model = xgb.XGBClassifier(max_depth=4)\n",
    "\n",
    "# Train the model\n",
    "model.fit(X_train_scaled, y_train)\n",
    "\n",
    "# Make predictions on the test set\n",
    "y_pred = model.predict(X_test_scaled)\n",
    "y_pred_classes = np.where(y_pred > 0.5, 1, 0)\n",
    "\n",
    "# Calculate the accuracy score\n",
    "accuracy = accuracy_score(y_test, y_pred)\n",
    "print(f'Test Accuracy: {accuracy}')\n",
    "\n",
    "\n",
    "# Calculate the confusion matrix\n",
    "conf_mat = confusion_matrix(y_test, y_pred)\n",
    "\n",
    "# Display the confusion matrix\n",
    "sns.heatmap(conf_mat, annot=True, fmt='g', cmap='Blues')\n",
    "plt.xlabel('Predicted labels')\n",
    "plt.ylabel('True labels')\n",
    "plt.title('Confusion matrix')\n",
    "plt.show()\n",
    "\n",
    "\n",
    "\n",
    "# Calculate the classification report\n",
    "report = classification_report(y_test, y_pred_classes)\n",
    "\n",
    "# Print the classification report\n",
    "print(report)\n"
   ]
  },
  {
   "cell_type": "markdown",
   "id": "zTp_-21L-dhK",
   "metadata": {
    "id": "zTp_-21L-dhK"
   },
   "source": [
    "The XGBoost classifier has more accuracy than the above neural network models. Accuracy of XGBoost is 63.264 here.The recall score of 0.64 for class 1 indicates that out of all the actual churn customers in the test set, the model correctly identified 64% of them as churned. The precision score of 0.63 for class 1 indicates that out of all the predicted churn customers in the test set, only 63% of them actually churned. The F1 score of 0.63 for both classes indicates a balance between precision and recall for the model's predictions. The macro and weighted average scores of 0.63 also indicate a balanced performance of the model for both classes. Overall, the accuracy of 0.63 indicates that the model is correctly predicting the churn status of 63% of the customers in the test set."
   ]
  },
  {
   "cell_type": "markdown",
   "id": "TRcfN8iRsdFC",
   "metadata": {
    "id": "TRcfN8iRsdFC"
   },
   "source": [
    "## Trying a Naive Bayes Classifier<a name=\"nb\"></a>\n",
    "\n",
    "This code creates a Gaussian Naive Bayes classifier object, trains the classifier on the training data, predicts the class labels of the test data using the trained classifier, and then calculates the accuracy of the classifier on the test data. The predicted class labels of the test data are stored in y_pred and the accuracy of the classifier on the test data is printed. The confusion matrix is also calculated and displayed using seaborn and matplotlib."
   ]
  },
  {
   "cell_type": "code",
   "execution_count": null,
   "id": "BKN9iLB8sKWf",
   "metadata": {
    "colab": {
     "base_uri": "https://localhost:8080/"
    },
    "id": "BKN9iLB8sKWf",
    "outputId": "4c93c763-83e5-478f-cb92-07f870d50171"
   },
   "outputs": [
    {
     "name": "stdout",
     "output_type": "stream",
     "text": [
      "Accuracy: 0.52484\n"
     ]
    }
   ],
   "source": [
    "from sklearn.naive_bayes import GaussianNB\n",
    "from sklearn.metrics import confusion_matrix\n",
    "from sklearn.metrics import classification_report\n",
    "\n",
    "\n",
    "# Create a Naive Bayes classifier object\n",
    "nb_clf = GaussianNB()\n",
    "\n",
    "# Train the classifier on the training data\n",
    "nb_clf.fit(X_train_scaled, y_train)\n",
    "\n",
    "# Predict the class labels of the test data\n",
    "y_pred_n = nb_clf.predict(X_test_scaled)\n",
    "\n",
    "# Calculate the accuracy of the classifier on the test data\n",
    "accuracy_1 = nb_clf.score(X_test_scaled, y_test)\n",
    "print(f\"Accuracy: {accuracy_1}\")\n",
    "\n",
    "# # Calculate the confusion matrix\n",
    "# conf_mat_n = confusion_matrix(y_test, y_pred_n)\n",
    "\n",
    "# # Display the confusion matrix\n",
    "# sns.heatmap(conf_mat_n, annot=True, fmt='g', cmap='Blues')\n",
    "# plt.xlabel('Predicted labels')\n",
    "# plt.ylabel('True labels')\n",
    "# plt.title('Confusion matrix')\n",
    "# plt.show()\n",
    "\n",
    "\n",
    "# # Calculate the classification report\n",
    "# report = classification_report(y_test, y_pred_classes)\n",
    "\n",
    "# # Print the classification report\n",
    "# print(report)\n"
   ]
  },
  {
   "cell_type": "markdown",
   "id": "JlNv6VwS_v1z",
   "metadata": {
    "id": "JlNv6VwS_v1z"
   },
   "source": [
    "The accuracy of naive bayes classifier is only 52 percentage."
   ]
  },
  {
   "cell_type": "markdown",
   "id": "cUkdFNa8PiCW",
   "metadata": {
    "id": "cUkdFNa8PiCW"
   },
   "source": [
    "## Conclusion<a name=\"con\"></a>\n",
    "\n",
    "The results from testing different neural networks show that none of the models achieved a very high accuracy, with all of them hovering around 60%. The first model had a simple architecture with four dense layers, but only achieved an accuracy of 59.8% after two epochs. The second model had a similar architecture with the addition of L2 regularization, but only achieved a slightly lower accuracy of 58.9% after 15 epochs. The third model had a more complex architecture with six dense layers, but only achieved an accuracy of 59.5% after 10 epochs. The final model had a similar architecture to the second model with the addition of early stopping, RMSprop optimizer with a different learning rate, and L2 regularization, but only achieved an accuracy of 60.5% after 20 epochs.\n",
    "\n",
    "In addition to testing different neural network models, a Naive Bayes classifier was also tested on the same dataset, achieving an accuracy of 52.5%. These results suggest that the dataset may be particularly challenging for machine learning algorithms to accurately predict customer churn. It may be necessary to explore additional features or preprocessing steps, as well as other machine learning algorithms, such as  SVM, to improve the accuracy of the models. \n",
    "\n",
    "The XGBoost classifier gave maximum accuracy compared to other models,which is 63.2 percentage.\n",
    "\n",
    "In conclusion, it seems that none of the tested neural network models were able to achieve a high accuracy on this particular dataset. It may be worth exploring other machine learning algorithms, such as SVM or Random Forest, to see if they can perform better on the given data. Additionally, further exploration could be done to determine if there are any additional features or preprocessing steps that could improve the accuracy of the models."
   ]
  }
 ],
 "metadata": {
  "accelerator": "GPU",
  "colab": {
   "provenance": []
  },
  "gpuClass": "standard",
  "kernelspec": {
   "display_name": "deeplearning_new",
   "language": "python",
   "name": "deeplearning_new"
  },
  "language_info": {
   "codemirror_mode": {
    "name": "ipython",
    "version": 3
   },
   "file_extension": ".py",
   "mimetype": "text/x-python",
   "name": "python",
   "nbconvert_exporter": "python",
   "pygments_lexer": "ipython3",
   "version": "3.8.16"
  }
 },
 "nbformat": 4,
 "nbformat_minor": 5
}
