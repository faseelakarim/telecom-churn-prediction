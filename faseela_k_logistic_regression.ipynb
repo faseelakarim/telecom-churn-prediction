{
 "cells": [
  {
   "cell_type": "markdown",
   "metadata": {},
   "source": [
    "### Telecom churn prediction:\n",
    "**Faseela K Karim**"
   ]
  },
  {
   "cell_type": "code",
   "execution_count": 60,
   "metadata": {
    "id": "RV2shtpucQ-S"
   },
   "outputs": [],
   "source": [
    "#import the required package\n",
    "import pandas as pd\n",
    "import numpy as np\n",
    "import matplotlib.pyplot as plt\n",
    "import seaborn as sns\n",
    "%matplotlib inline\n",
    "import statsmodels.api as sm\n",
    "from sklearn.preprocessing import StandardScaler\n",
    "from sklearn.linear_model import LogisticRegression\n",
    "from sklearn.metrics import accuracy_score, precision_score, recall_score, f1_score\n",
    "from sklearn.metrics import roc_auc_score, roc_curve, confusion_matrix, classification_report,ConfusionMatrixDisplay\n",
    "\n"
   ]
  },
  {
   "cell_type": "markdown",
   "metadata": {
    "id": "E-al9Kf40cjs"
   },
   "source": [
    "### **Introduction**\n",
    "Logistic regression is a statistical method used to analyze a dataset with a binary outcome variable, often referred to as the dependent variable. The aim of logistic regression is to estimate the probability of the binary outcome based on one or more predictor variables, also known as independent variables. The logistic regression model estimates the relationship between the dependent variable and independent variables by fitting a sigmoidal curve to the data. The sigmoidal curve allows the model to predict the probability of an event, which can then be used to make predictions about the binary outcome.\n",
    "\n",
    "Logistic regression can be used for various purposes such as predicting customer churn.Logistic regression requires a binary outcome variable and predictor variables that are either continuous or categorical. Categorical variables are often encoded using one-hot encoding, where each unique category is converted into a binary variable. This allows the logistic regression model to handle categorical variables and estimate the impact of each category on the binary outcome.\n",
    "\n",
    "In this context, it is important to note that logistic regression is a form of supervised learning, where the model is trained on a labeled dataset to make predictions about new, unlabeled data. Overall, logistic regression is a powerful tool for analyzing binary outcomes and has a wide range of applications in various fields"
   ]
  },
  {
   "cell_type": "markdown",
   "metadata": {
    "id": "8RjEWgTwUPn9"
   },
   "source": [
    "## Table of Contents\n",
    "1. [Logistic Regression Model 0](#model0)\n",
    "2. [Logistic Regression Model 1](#model1)\n",
    "3. [Logistic Regression Model 2](#model2)\n",
    "4. [Logistic Regression Model 3](#model3)\n",
    "5. [Hyper parameter optimization using grid search](#grid)\n",
    "6. [Final logistic regression model](#final)\n",
    "7. [Evaluation of the Final model](#eval)\n",
    "8. [Conclusion](#conclusion)\n",
    "\n",
    "\n"
   ]
  },
  {
   "cell_type": "code",
   "execution_count": null,
   "metadata": {
    "colab": {
     "base_uri": "https://localhost:8080/"
    },
    "id": "Yd3RqFC0cbnX",
    "outputId": "6044b243-09e1-4395-fdb9-b990d51f0cc3"
   },
   "outputs": [
    {
     "name": "stdout",
     "output_type": "stream",
     "text": [
      "Mounted at /content/drive\n"
     ]
    }
   ],
   "source": [
    "# from google.colab import drive\n",
    "# drive.mount('/content/drive')"
   ]
  },
  {
   "cell_type": "code",
   "execution_count": null,
   "metadata": {
    "id": "azB6mc0bcbqF"
   },
   "outputs": [],
   "source": [
    "# df_train=pd.read_csv('/content/drive/My Drive/final_capstone/train_data_vif_out.csv',index_col=0)\n",
    "# df_test=pd.read_csv('/content/drive/My Drive/final_capstone/test_data_vif_out.csv',index_col=0)"
   ]
  },
  {
   "cell_type": "code",
   "execution_count": 61,
   "metadata": {},
   "outputs": [],
   "source": [
    "df_train=pd.read_csv('data/train_data_vif_out.csv',index_col=0)\n",
    "df_test=pd.read_csv('data/test_data_vif_out.csv',index_col=0)"
   ]
  },
  {
   "cell_type": "code",
   "execution_count": 62,
   "metadata": {
    "id": "rNo3JkIVcbsz"
   },
   "outputs": [],
   "source": [
    "#seperating target variables and other features into X and Y variables seperately for test and train data\n",
    "X_train=df_train.drop('churn',axis=1)\n",
    "y_train=df_train.churn\n",
    "X_test=df_test.drop('churn',axis=1)\n",
    "y_test=df_test.churn\n"
   ]
  },
  {
   "cell_type": "code",
   "execution_count": null,
   "metadata": {
    "id": "jun8AQhAT_xf"
   },
   "outputs": [],
   "source": [
    "#scale the data using standard scaler\n",
    "scaler=StandardScaler()\n",
    "#fit and transform train data\n",
    "X_train_scaled=scaler.fit_transform(X_train)\n",
    "#transform the test data\n",
    "X_test_scaled=scaler.transform(X_test)"
   ]
  },
  {
   "cell_type": "markdown",
   "metadata": {
    "id": "l-ZxDxVP7kwS"
   },
   "source": [
    "#### **Logistic Regression Model 0**<a name=\"model0\"></a>"
   ]
  },
  {
   "cell_type": "markdown",
   "metadata": {
    "id": "K00aH6j31AlF"
   },
   "source": [
    "The below given code is performing logistic regression analysis using statsmodels package. First, a constant term is added to the training and testing sets of the independent variables using the add_constant() function. Then, a new DataFrame is created with the original column names of the independent variables. Next, the logistic regression model is instantiated using the Logit() function and is fit using the fit() function. The summary() function is used to display the results of the logistic regression analysis, which include the coefficient estimates, standard errors, p-values, and other statistical information for each independent variable in the model."
   ]
  },
  {
   "cell_type": "code",
   "execution_count": 63,
   "metadata": {
    "id": "LnCHtG_lT_3I"
   },
   "outputs": [],
   "source": [
    "# !! Add constant to our X_test_scaled and X-trained_scaled !!\n",
    "X_train_const_0 = sm.add_constant(X_train_scaled)\n",
    "X_test_const_0 = sm.add_constant(X_test_scaled)\n"
   ]
  },
  {
   "cell_type": "code",
   "execution_count": 64,
   "metadata": {
    "colab": {
     "base_uri": "https://localhost:8080/"
    },
    "id": "2xfoXWTxxkWA",
    "outputId": "35a62e10-ae33-4ba7-f7ad-d36bda6768e0"
   },
   "outputs": [
    {
     "name": "stdout",
     "output_type": "stream",
     "text": [
      "Optimization terminated successfully.\n",
      "         Current function value: 0.673439\n",
      "         Iterations 6\n",
      "                           Logit Regression Results                           \n",
      "==============================================================================\n",
      "Dep. Variable:                  churn   No. Observations:                75000\n",
      "Model:                          Logit   Df Residuals:                    74919\n",
      "Method:                           MLE   Df Model:                           80\n",
      "Date:                Mon, 10 Apr 2023   Pseudo R-squ.:                 0.02838\n",
      "Time:                        16:47:58   Log-Likelihood:                -50508.\n",
      "converged:                       True   LL-Null:                       -51983.\n",
      "Covariance Type:            nonrobust   LLR p-value:                     0.000\n",
      "======================================================================================\n",
      "                         coef    std err          z      P>|z|      [0.025      0.975]\n",
      "--------------------------------------------------------------------------------------\n",
      "const                 -0.0191      0.007     -2.560      0.010      -0.034      -0.004\n",
      "totmrc_Mean           -0.0935      0.009    -10.299      0.000      -0.111      -0.076\n",
      "da_Mean                0.0071      0.009      0.822      0.411      -0.010       0.024\n",
      "vceovr_Mean            0.1124      0.009     12.342      0.000       0.095       0.130\n",
      "datovr_Mean            0.0106      0.009      1.167      0.243      -0.007       0.028\n",
      "roam_Mean              0.0502      0.011      4.462      0.000       0.028       0.072\n",
      "change_mou            -0.0851      0.008    -10.257      0.000      -0.101      -0.069\n",
      "drop_vce_Mean          0.0649      0.010      6.479      0.000       0.045       0.085\n",
      "blck_vce_Mean          0.0253      0.008      3.068      0.002       0.009       0.041\n",
      "unan_vce_Mean         -0.0246      0.011     -2.293      0.022      -0.046      -0.004\n",
      "custcare_Mean         -0.0330      0.010     -3.234      0.001      -0.053      -0.013\n",
      "threeway_Mean         -0.0373      0.009     -4.167      0.000      -0.055      -0.020\n",
      "mouowylisv_Mean       -0.0204      0.011     -1.913      0.056      -0.041       0.001\n",
      "iwylis_vce_Mean       -0.0674      0.011     -6.041      0.000      -0.089      -0.046\n",
      "peak_dat_Mean          0.0006      0.009      0.069      0.945      -0.016       0.017\n",
      "mou_opkd_Mean         -0.0028      0.008     -0.332      0.740      -0.019       0.014\n",
      "callwait_Mean         -0.0340      0.011     -3.113      0.002      -0.055      -0.013\n",
      "months                -0.2005      0.013    -15.679      0.000      -0.226      -0.175\n",
      "uniqsubs               0.0799      0.008     10.198      0.000       0.065       0.095\n",
      "asl_flag              -0.0864      0.009     -9.768      0.000      -0.104      -0.069\n",
      "adjqty                 0.0633      0.012      5.336      0.000       0.040       0.087\n",
      "dualband              -0.0282      0.008     -3.357      0.001      -0.045      -0.012\n",
      "refurb_new            -0.0738      0.009     -8.558      0.000      -0.091      -0.057\n",
      "hnd_price             -0.0872      0.010     -8.332      0.000      -0.108      -0.067\n",
      "phones                 0.0878      0.012      7.510      0.000       0.065       0.111\n",
      "hnd_webcap            -0.0057      0.009     -0.640      0.522      -0.023       0.012\n",
      "truck                  0.0024      0.008      0.294      0.768      -0.014       0.019\n",
      "lor                   -0.0768      0.008     -9.212      0.000      -0.093      -0.060\n",
      "dwlltype               0.0554      0.012      4.677      0.000       0.032       0.079\n",
      "adults                 0.0098      0.009      1.064      0.287      -0.008       0.028\n",
      "income                -0.0078      0.008     -0.960      0.337      -0.024       0.008\n",
      "numbcars               0.0168      0.008      2.035      0.042       0.001       0.033\n",
      "creditcd              -0.0353      0.010     -3.425      0.001      -0.056      -0.015\n",
      "eqpdays                0.3034      0.013     23.917      0.000       0.279       0.328\n",
      "number_of_kids         0.0287      0.008      3.396      0.001       0.012       0.045\n",
      "new_cell_N            -0.0089      0.008     -1.137      0.256      -0.024       0.006\n",
      "new_cell_Y            -0.0162      0.008     -2.098      0.036      -0.031      -0.001\n",
      "crclscod_B            -0.0265      0.008     -3.214      0.001      -0.043      -0.010\n",
      "crclscod_C            -0.0121      0.008     -1.545      0.122      -0.027       0.003\n",
      "prizm_social_one_C     0.0145      0.009      1.590      0.112      -0.003       0.032\n",
      "prizm_social_one_R     0.0433      0.008      5.214      0.000       0.027       0.060\n",
      "prizm_social_one_S     0.0038      0.010      0.389      0.697      -0.015       0.023\n",
      "prizm_social_one_T     0.0307      0.009      3.278      0.001       0.012       0.049\n",
      "area_Rural             0.0084      0.009      0.970      0.332      -0.009       0.025\n",
      "area_Urban            -0.0053      0.009     -0.600      0.549      -0.022       0.012\n",
      "marital_M             -0.0302      0.011     -2.631      0.009      -0.053      -0.008\n",
      "marital_N             -0.0356      0.010     -3.520      0.000      -0.055      -0.016\n",
      "HHstatin_A             0.0163      0.009      1.893      0.058      -0.001       0.033\n",
      "HHstatin_B            -0.0131      0.008     -1.569      0.117      -0.030       0.003\n",
      "HHstatin_C             0.0013      0.009      0.142      0.887      -0.017       0.020\n",
      "HHstatin_G             0.0059      0.008      0.741      0.458      -0.010       0.021\n",
      "HHstatin_H             0.0110      0.008      1.439      0.150      -0.004       0.026\n",
      "dwllsize_B            -0.0151      0.008     -1.842      0.065      -0.031       0.001\n",
      "dwllsize_C            -0.0132      0.008     -1.710      0.087      -0.028       0.002\n",
      "dwllsize_D             0.0065      0.008      0.841      0.400      -0.009       0.022\n",
      "dwllsize_E            -0.0118      0.008     -1.565      0.118      -0.027       0.003\n",
      "dwllsize_F            -0.0061      0.008     -0.805      0.421      -0.021       0.009\n",
      "dwllsize_G             0.0002      0.008      0.033      0.974      -0.015       0.015\n",
      "dwllsize_H            -0.0033      0.008     -0.442      0.659      -0.018       0.011\n",
      "dwllsize_I             0.0104      0.008      1.378      0.168      -0.004       0.025\n",
      "dwllsize_J             0.0040      0.008      0.521      0.602      -0.011       0.019\n",
      "dwllsize_K            -0.0086      0.008     -1.140      0.254      -0.023       0.006\n",
      "dwllsize_L            -0.0158      0.008     -2.093      0.036      -0.031      -0.001\n",
      "dwllsize_M             0.0047      0.008      0.625      0.532      -0.010       0.020\n",
      "dwllsize_N            -0.0057      0.008     -0.751      0.453      -0.021       0.009\n",
      "dwllsize_O            -0.0140      0.008     -1.823      0.068      -0.029       0.001\n",
      "ethnic_B               0.0420      0.008      5.515      0.000       0.027       0.057\n",
      "ethnic_C              -0.0254      0.008     -3.174      0.002      -0.041      -0.010\n",
      "ethnic_D               0.0181      0.008      2.416      0.016       0.003       0.033\n",
      "ethnic_F               0.0083      0.008      1.094      0.274      -0.007       0.023\n",
      "ethnic_G               0.0044      0.008      0.572      0.567      -0.011       0.020\n",
      "ethnic_H               0.0523      0.008      6.272      0.000       0.036       0.069\n",
      "ethnic_I               0.0194      0.008      2.529      0.011       0.004       0.034\n",
      "ethnic_J               0.0215      0.008      2.822      0.005       0.007       0.036\n",
      "ethnic_M               0.0118      0.007      1.578      0.114      -0.003       0.026\n",
      "ethnic_O               0.0811      0.008     10.292      0.000       0.066       0.097\n",
      "ethnic_P              -0.0186      0.008     -2.417      0.016      -0.034      -0.004\n",
      "ethnic_R               0.0233      0.008      3.083      0.002       0.008       0.038\n",
      "ethnic_S               0.0111      0.008      1.387      0.165      -0.005       0.027\n",
      "ethnic_U               0.0198      0.008      2.487      0.013       0.004       0.035\n",
      "ethnic_X              -0.0118      0.008     -1.507      0.132      -0.027       0.004\n",
      "======================================================================================\n"
     ]
    }
   ],
   "source": [
    "\n",
    "# Create a new DataFrame with the original column names\n",
    "X_train_const_named = pd.DataFrame(X_train_const_0, columns=[\"const\"] + list(X_train.columns))\n",
    "\n",
    "# Instantiate the logistic regression model with the new DataFrame\n",
    "logreg_0_named = sm.Logit(y_train, X_train_const_named)\n",
    "\n",
    "# Fit the model (this returns a separate object with the parameters)\n",
    "logreg_results_0_named = logreg_0_named.fit()\n",
    "\n",
    "# Display the results \n",
    "print(logreg_results_0_named.summary())\n"
   ]
  },
  {
   "cell_type": "markdown",
   "metadata": {
    "id": "fqfjrETv1cxu"
   },
   "source": [
    "The below code gets the model predictions as probabilities and saves them to y_proba_0. Then, it sets the threshold to 0.5 and converts soft predictions (probabilities) to hard predictions (0 and 1) using np.where(). Next, it calculates the accuracy by evaluating the two arrays to find where the predicted value matches the actual churn value and divides by the total number of predictions. Finally, it prints the accuracy score."
   ]
  },
  {
   "cell_type": "code",
   "execution_count": null,
   "metadata": {
    "id": "I6lZOLnQWVQo"
   },
   "outputs": [],
   "source": [
    "# Getting the model predictions as probabilities and saving to 'y_proba'\n",
    "y_proba_0 = logreg_results_0_named.predict(X_train_const_0)"
   ]
  },
  {
   "cell_type": "code",
   "execution_count": null,
   "metadata": {
    "id": "svy9c39KWVTY"
   },
   "outputs": [],
   "source": [
    "# Going from soft predictions (probabilities) to hard predictions (1 or 0)\n",
    "# We will set our threshold to 0.5 \n",
    "y_pred_0 = np.where(y_proba_0 >= 0.5, 1, 0)\n",
    "\n"
   ]
  },
  {
   "cell_type": "code",
   "execution_count": null,
   "metadata": {
    "colab": {
     "base_uri": "https://localhost:8080/"
    },
    "id": "0V0OweosWVWa",
    "outputId": "05ae05f2-1849-4ad7-9231-d5a82d483673"
   },
   "outputs": [
    {
     "name": "stdout",
     "output_type": "stream",
     "text": [
      "Model accuracy = 0.5832266666666667\n"
     ]
    }
   ],
   "source": [
    "# Calculating accuracy - Evaluate the two arrays to find where predicted = true chuurn\n",
    "# Then divide by the number of predictions/number of customers\n",
    "acc_0 = (y_pred_0 == y_train).mean()\n",
    "\n",
    "# Print the accuracy score\n",
    "print(f'Model accuracy = {acc_0}')"
   ]
  },
  {
   "cell_type": "markdown",
   "metadata": {
    "id": "-5B69Z5N7JI-"
   },
   "source": [
    "Lets try to find the prediction accuracy for different threshold values.The below given code is creating a list of accuracy scores for different decision thresholds. The threshold_list contains the different decision thresholds to be evaluated, and for each threshold, the code calculates the accuracy score .The accuracy scores for each threshold are saved in a DataFrame named accuracy_df_0 with the columns 'Decision Threshold' and 'Accuracy'."
   ]
  },
  {
   "cell_type": "code",
   "execution_count": null,
   "metadata": {
    "id": "Dq7cR3abWVZC"
   },
   "outputs": [],
   "source": [
    "accuracy_list = []\n",
    "threshold_list = [0.1, 0.2, 0.3, 0.4, 0.5, 0.6, 0.7, 0.8, 0.9]\n",
    "\n",
    "for threshold in threshold_list:\n",
    "    y_pred_0 = np.where(y_proba_0 >= threshold, 1, 0)\n",
    "\n",
    "    # Calculating accuracy \n",
    "    acc = 100*(y_pred_0 == y_train).mean()\n",
    "\n",
    "    # Add the accuracy to our dictionary\n",
    "    accuracy_list.append(acc)\n",
    "\n",
    "accuracy_df_0 = pd.DataFrame(index=range(len(threshold_list)), \n",
    "                           data=zip(threshold_list, accuracy_list), \n",
    "                           columns=['Decision Threshold', 'Accuracy'])\n"
   ]
  },
  {
   "cell_type": "markdown",
   "metadata": {
    "id": "vnrionVN7ZPb"
   },
   "source": [
    "Plot the prediction accuracy for different threshold values"
   ]
  },
  {
   "cell_type": "code",
   "execution_count": null,
   "metadata": {
    "colab": {
     "base_uri": "https://localhost:8080/",
     "height": 502
    },
    "id": "7SpCamw3WVca",
    "outputId": "79bd560d-7225-4800-9f7d-d309ca9560ce"
   },
   "outputs": [
    {
     "data": {
      "image/png": "[encoded data removed]",
      "text/plain": [
       "<Figure size 640x480 with 1 Axes>"
      ]
     },
     "metadata": {},
     "output_type": "display_data"
    }
   ],
   "source": [
    "plt.figure()\n",
    "plt.plot(accuracy_df_0['Decision Threshold'], accuracy_df_0['Accuracy'], marker='o')\n",
    "plt.suptitle('Logistic Regression Accuracy at Various Decision Thresholds', size=18)\n",
    "plt.title('Model 0.0', size=14)\n",
    "plt.xlabel('Decision Threshold', size=14)\n",
    "plt.ylabel('Model Accuracy (%)', size=14)\n",
    "plt.yticks()\n",
    "plt.show()"
   ]
  },
  {
   "cell_type": "markdown",
   "metadata": {
    "id": "F6RQ33IFXJ45"
   },
   "source": [
    "From the above graph we can see that the prediction accuracy of train data is maximum at 0.5 threshold. "
   ]
  },
  {
   "cell_type": "markdown",
   "metadata": {
    "id": "EdnIWVyR7uGk"
   },
   "source": [
    "**Make prediction for the test dataset**"
   ]
  },
  {
   "cell_type": "code",
   "execution_count": null,
   "metadata": {
    "colab": {
     "base_uri": "https://localhost:8080/"
    },
    "id": "jmAK0JGqcb1D",
    "outputId": "87f14bdf-e120-4c1d-ce3f-392b3fb1f708"
   },
   "outputs": [
    {
     "name": "stdout",
     "output_type": "stream",
     "text": [
      "Accuracy: 0.58076\n"
     ]
    }
   ],
   "source": [
    "# Make predictions on the test set\n",
    "y_pred_0 = logreg_results_0_named.predict(X_test_const_0)\n",
    "\n",
    "# Since the predictions are probabilities, you need to convert them to class labels (0 or 1)\n",
    "y_pred_labels_0 = np.round(y_pred_0)\n",
    "\n",
    "# Calculate the accuracy\n",
    "accuracy_0 = accuracy_score(y_test, y_pred_labels_0)\n",
    "print(f\"Accuracy: {accuracy_0}\")"
   ]
  },
  {
   "cell_type": "markdown",
   "metadata": {
    "id": "TJtsfh8J1WuZ"
   },
   "source": [
    "### **Drop the columns based on p value**"
   ]
  },
  {
   "cell_type": "markdown",
   "metadata": {
    "id": "5FikB7A19OHl"
   },
   "source": [
    "In logistic regression, p-value is a statistical measure used to determine the significance of each feature or independent variable in predicting the dependent variable or target class. A p-value less than the pre-defined significance level (usually 0.05) indicates that the feature is statistically significant in predicting the target class.\n",
    "\n",
    "Therefore, we need to drop variables based on p-value because including insignificant variables in the model can lead to overfitting, reducing the model's accuracy and interpretability. A variable with a high p-value indicates that it is not significantly associated with the target class and including it in the model can lead to inaccurate predictions. By dropping such variables, we can build a more efficient and accurate model.\n",
    "\n",
    "The p-value is also used to test the null hypothesis, which assumes that there is no significant relationship between the independent variable and the dependent variable. If the p-value is less than the significance level, the null hypothesis is rejected, indicating that there is a significant relationship between the independent variable and the dependent variable.\n",
    "\n",
    "In summary, p-value is an important statistical measure in logistic regression, and it helps us to determine the significance of each variable in predicting the target class. Dropping variables based on p-value can improve the accuracy and interpretability of the model."
   ]
  },
  {
   "cell_type": "code",
   "execution_count": null,
   "metadata": {
    "id": "W7WSl45d1xai"
   },
   "outputs": [],
   "source": [
    "#dwllsize_J has highest p_value ,so drop that column from train data\n",
    "X_train_1=X_train.drop('dwllsize_J',axis=1) \n"
   ]
  },
  {
   "cell_type": "code",
   "execution_count": null,
   "metadata": {
    "id": "I0Hw45Mv2w3u"
   },
   "outputs": [],
   "source": [
    "#dwllsize_J has highest p_value ,so drop that column from test data\n",
    "X_test_1=X_test.drop('dwllsize_J',axis=1) "
   ]
  },
  {
   "cell_type": "code",
   "execution_count": null,
   "metadata": {
    "id": "tCZLbJLb2oXq"
   },
   "outputs": [],
   "source": [
    "#scale the test and train data again after dropping the column\n",
    "scaler=StandardScaler()\n",
    "X_train_1_scaled=scaler.fit_transform(X_train_1)\n",
    "X_test_1_scaled=scaler.transform(X_test_1)"
   ]
  },
  {
   "cell_type": "markdown",
   "metadata": {
    "id": "3HgcHRQe-0XJ"
   },
   "source": [
    "#### **Logistic Regression Model 1**<a name=\"model1\"></a>\n",
    "\n",
    "Logistic regression model for new dataframe after deleting columns based on p-value."
   ]
  },
  {
   "cell_type": "code",
   "execution_count": null,
   "metadata": {
    "id": "t8YgF7ti2oXr"
   },
   "outputs": [],
   "source": [
    "# !! Add constant to our X_train_1_scaled and X_test_1_scaled !!\n",
    "X_train_const_1 = sm.add_constant(X_train_1_scaled)\n",
    "X_test_const_1 = sm.add_constant(X_test_1_scaled)\n"
   ]
  },
  {
   "cell_type": "code",
   "execution_count": null,
   "metadata": {
    "colab": {
     "base_uri": "https://localhost:8080/"
    },
    "id": "xsoosxqmn6WD",
    "outputId": "809d8bc9-6cdc-4dec-a4c7-96ee0b3839d2"
   },
   "outputs": [
    {
     "name": "stdout",
     "output_type": "stream",
     "text": [
      "Optimization terminated successfully.\n",
      "         Current function value: 0.673441\n",
      "         Iterations 6\n",
      "                           Logit Regression Results                           \n",
      "==============================================================================\n",
      "Dep. Variable:                  churn   No. Observations:                75000\n",
      "Model:                          Logit   Df Residuals:                    74920\n",
      "Method:                           MLE   Df Model:                           79\n",
      "Date:                Mon, 10 Apr 2023   Pseudo R-squ.:                 0.02838\n",
      "Time:                        14:07:57   Log-Likelihood:                -50508.\n",
      "converged:                       True   LL-Null:                       -51983.\n",
      "Covariance Type:            nonrobust   LLR p-value:                     0.000\n",
      "======================================================================================\n",
      "                         coef    std err          z      P>|z|      [0.025      0.975]\n",
      "--------------------------------------------------------------------------------------\n",
      "const                 -0.0191      0.007     -2.560      0.010      -0.034      -0.004\n",
      "totmrc_Mean           -0.0935      0.009    -10.303      0.000      -0.111      -0.076\n",
      "da_Mean                0.0071      0.009      0.823      0.411      -0.010       0.024\n",
      "vceovr_Mean            0.1124      0.009     12.341      0.000       0.095       0.130\n",
      "datovr_Mean            0.0106      0.009      1.166      0.243      -0.007       0.028\n",
      "roam_Mean              0.0503      0.011      4.477      0.000       0.028       0.072\n",
      "change_mou            -0.0851      0.008    -10.258      0.000      -0.101      -0.069\n",
      "drop_vce_Mean          0.0650      0.010      6.483      0.000       0.045       0.085\n",
      "blck_vce_Mean          0.0252      0.008      3.064      0.002       0.009       0.041\n",
      "unan_vce_Mean         -0.0247      0.011     -2.296      0.022      -0.046      -0.004\n",
      "custcare_Mean         -0.0330      0.010     -3.233      0.001      -0.053      -0.013\n",
      "threeway_Mean         -0.0374      0.009     -4.169      0.000      -0.055      -0.020\n",
      "mouowylisv_Mean       -0.0204      0.011     -1.912      0.056      -0.041       0.001\n",
      "iwylis_vce_Mean       -0.0674      0.011     -6.042      0.000      -0.089      -0.046\n",
      "peak_dat_Mean          0.0006      0.009      0.069      0.945      -0.016       0.017\n",
      "mou_opkd_Mean         -0.0028      0.008     -0.333      0.739      -0.019       0.014\n",
      "callwait_Mean         -0.0340      0.011     -3.114      0.002      -0.055      -0.013\n",
      "months                -0.2004      0.013    -15.675      0.000      -0.225      -0.175\n",
      "uniqsubs               0.0799      0.008     10.200      0.000       0.065       0.095\n",
      "asl_flag              -0.0864      0.009     -9.772      0.000      -0.104      -0.069\n",
      "adjqty                 0.0633      0.012      5.335      0.000       0.040       0.087\n",
      "dualband              -0.0282      0.008     -3.357      0.001      -0.045      -0.012\n",
      "refurb_new            -0.0738      0.009     -8.558      0.000      -0.091      -0.057\n",
      "hnd_price             -0.0872      0.010     -8.330      0.000      -0.108      -0.067\n",
      "phones                 0.0878      0.012      7.509      0.000       0.065       0.111\n",
      "hnd_webcap            -0.0057      0.009     -0.640      0.522      -0.023       0.012\n",
      "truck                  0.0025      0.008      0.303      0.762      -0.014       0.019\n",
      "lor                   -0.0769      0.008     -9.233      0.000      -0.093      -0.061\n",
      "dwlltype               0.0567      0.012      4.905      0.000       0.034       0.079\n",
      "adults                 0.0098      0.009      1.064      0.287      -0.008       0.028\n",
      "income                -0.0081      0.008     -0.997      0.319      -0.024       0.008\n",
      "numbcars               0.0168      0.008      2.037      0.042       0.001       0.033\n",
      "creditcd              -0.0350      0.010     -3.398      0.001      -0.055      -0.015\n",
      "eqpdays                0.3035      0.013     23.919      0.000       0.279       0.328\n",
      "number_of_kids         0.0287      0.008      3.395      0.001       0.012       0.045\n",
      "new_cell_N            -0.0089      0.008     -1.137      0.255      -0.024       0.006\n",
      "new_cell_Y            -0.0162      0.008     -2.095      0.036      -0.031      -0.001\n",
      "crclscod_B            -0.0265      0.008     -3.215      0.001      -0.043      -0.010\n",
      "crclscod_C            -0.0121      0.008     -1.553      0.121      -0.027       0.003\n",
      "prizm_social_one_C     0.0145      0.009      1.587      0.113      -0.003       0.032\n",
      "prizm_social_one_R     0.0433      0.008      5.207      0.000       0.027       0.060\n",
      "prizm_social_one_S     0.0038      0.010      0.386      0.700      -0.015       0.023\n",
      "prizm_social_one_T     0.0306      0.009      3.275      0.001       0.012       0.049\n",
      "area_Rural             0.0084      0.009      0.971      0.331      -0.009       0.025\n",
      "area_Urban            -0.0052      0.009     -0.592      0.554      -0.022       0.012\n",
      "marital_M             -0.0298      0.011     -2.601      0.009      -0.052      -0.007\n",
      "marital_N             -0.0351      0.010     -3.490      0.000      -0.055      -0.015\n",
      "HHstatin_A             0.0163      0.009      1.893      0.058      -0.001       0.033\n",
      "HHstatin_B            -0.0130      0.008     -1.560      0.119      -0.029       0.003\n",
      "HHstatin_C             0.0014      0.009      0.145      0.885      -0.017       0.020\n",
      "HHstatin_G             0.0059      0.008      0.745      0.456      -0.010       0.021\n",
      "HHstatin_H             0.0111      0.008      1.444      0.149      -0.004       0.026\n",
      "dwllsize_B            -0.0157      0.008     -1.929      0.054      -0.032       0.000\n",
      "dwllsize_C            -0.0136      0.008     -1.763      0.078      -0.029       0.002\n",
      "dwllsize_D             0.0062      0.008      0.797      0.425      -0.009       0.021\n",
      "dwllsize_E            -0.0121      0.008     -1.600      0.110      -0.027       0.003\n",
      "dwllsize_F            -0.0063      0.008     -0.833      0.405      -0.021       0.008\n",
      "dwllsize_G           5.67e-05      0.008      0.008      0.994      -0.015       0.015\n",
      "dwllsize_H            -0.0035      0.008     -0.465      0.642      -0.018       0.011\n",
      "dwllsize_I             0.0102      0.008      1.356      0.175      -0.005       0.025\n",
      "dwllsize_K            -0.0089      0.008     -1.176      0.240      -0.024       0.006\n",
      "dwllsize_L            -0.0161      0.008     -2.125      0.034      -0.031      -0.001\n",
      "dwllsize_M             0.0045      0.008      0.601      0.548      -0.010       0.019\n",
      "dwllsize_N            -0.0060      0.008     -0.791      0.429      -0.021       0.009\n",
      "dwllsize_O            -0.0143      0.008     -1.870      0.061      -0.029       0.001\n",
      "ethnic_B               0.0421      0.008      5.516      0.000       0.027       0.057\n",
      "ethnic_C              -0.0254      0.008     -3.172      0.002      -0.041      -0.010\n",
      "ethnic_D               0.0182      0.008      2.418      0.016       0.003       0.033\n",
      "ethnic_F               0.0083      0.008      1.095      0.274      -0.007       0.023\n",
      "ethnic_G               0.0044      0.008      0.567      0.571      -0.011       0.020\n",
      "ethnic_H               0.0523      0.008      6.272      0.000       0.036       0.069\n",
      "ethnic_I               0.0194      0.008      2.529      0.011       0.004       0.034\n",
      "ethnic_J               0.0215      0.008      2.824      0.005       0.007       0.036\n",
      "ethnic_M               0.0118      0.007      1.584      0.113      -0.003       0.026\n",
      "ethnic_O               0.0811      0.008     10.294      0.000       0.066       0.097\n",
      "ethnic_P              -0.0186      0.008     -2.408      0.016      -0.034      -0.003\n",
      "ethnic_R               0.0233      0.008      3.086      0.002       0.008       0.038\n",
      "ethnic_S               0.0111      0.008      1.387      0.165      -0.005       0.027\n",
      "ethnic_U               0.0198      0.008      2.488      0.013       0.004       0.035\n",
      "ethnic_X              -0.0118      0.008     -1.505      0.132      -0.027       0.004\n",
      "======================================================================================\n"
     ]
    }
   ],
   "source": [
    "\n",
    "# Create a new DataFrame with the original column names\n",
    "X_train_const_named = pd.DataFrame(X_train_const_1, columns=[\"const\"] + list(X_train_1.columns))\n",
    "\n",
    "# Instantiate the logistic regression model with the new DataFrame\n",
    "logreg_1_named = sm.Logit(y_train, X_train_const_named)\n",
    "\n",
    "# Fit the model (this returns a separate object with the parameters)\n",
    "logreg_results_1_named = logreg_1_named.fit()\n",
    "\n",
    "# Display the results \n",
    "print(logreg_results_1_named.summary())"
   ]
  },
  {
   "cell_type": "code",
   "execution_count": null,
   "metadata": {
    "id": "IPeZeuJn_VGt"
   },
   "outputs": [],
   "source": [
    "# Getting the model predictions as probabilities and saving to 'y_proba'\n",
    "y_proba_1 = logreg_results_1_named.predict(X_train_const_1)"
   ]
  },
  {
   "cell_type": "code",
   "execution_count": null,
   "metadata": {
    "id": "2urjNDSm_VGt"
   },
   "outputs": [],
   "source": [
    "# Going from soft predictions (probabilities) to hard predictions (1 or 0)\n",
    "# We will set our threshold to 0.5 \n",
    "y_pred_1 = np.where(y_proba_1 >= 0.5, 1, 0)\n",
    "\n"
   ]
  },
  {
   "cell_type": "code",
   "execution_count": null,
   "metadata": {
    "colab": {
     "base_uri": "https://localhost:8080/"
    },
    "id": "kXExI-Zs_VGt",
    "outputId": "ba23391b-282f-48d0-d906-f961573f720e"
   },
   "outputs": [
    {
     "name": "stdout",
     "output_type": "stream",
     "text": [
      "Model accuracy = 0.5831466666666667\n"
     ]
    }
   ],
   "source": [
    "# Calculating accuracy - Evaluate the two arrays to find where predicted = true chuurn\n",
    "# Then divide by the number of predictions/number of customers\n",
    "acc_1 = (y_pred_1 == y_train).mean()\n",
    "\n",
    "# Print the accuracy score\n",
    "print(f'Model accuracy = {acc_1}')"
   ]
  },
  {
   "cell_type": "code",
   "execution_count": null,
   "metadata": {
    "colab": {
     "base_uri": "https://localhost:8080/"
    },
    "id": "Dmc1fZY6_VGu",
    "outputId": "05421857-b57f-463a-d28b-9145352410d7"
   },
   "outputs": [
    {
     "name": "stdout",
     "output_type": "stream",
     "text": [
      "Accuracy: 0.58028\n"
     ]
    }
   ],
   "source": [
    "# Make predictions on the test set\n",
    "y_pred_1 = logreg_results_1_named.predict(X_test_const_1)\n",
    "\n",
    "# Since the predictions are probabilities, we need to convert them to class labels (0 or 1)\n",
    "y_pred_labels_1 = np.round(y_pred_1)\n",
    "\n",
    "# Calculate the accuracy\n",
    "accuracy_1 = accuracy_score(y_test, y_pred_labels_1)\n",
    "print(f\"Accuracy: {accuracy_1}\")"
   ]
  },
  {
   "cell_type": "code",
   "execution_count": null,
   "metadata": {
    "id": "7HkXCzRun6br"
   },
   "outputs": [],
   "source": [
    "#Based on p-value we can delete below given columns\n",
    "columns_delete_pvalue=['peak_dat_Mean','mou_opkd_Mean','hnd_webcap','truck','HHstatin_B','dwllsize_E',\n",
    "                       'dwllsize_F' ,'dwllsize_G' ,'dwllsize_H' ,'dwllsize_I' ,'dwllsize_K',\"dwllsize_L\",'dwllsize_N','dwllsize_M' ]"
   ]
  },
  {
   "cell_type": "code",
   "execution_count": null,
   "metadata": {
    "id": "stEHiuC875z2"
   },
   "outputs": [],
   "source": [
    "#drop the columns with high p-value from the dataset\n",
    "X_train_1=X_train_1.drop(columns=columns_delete_pvalue,axis=1) \n"
   ]
  },
  {
   "cell_type": "code",
   "execution_count": null,
   "metadata": {
    "id": "QpB9Atuk75z3"
   },
   "outputs": [],
   "source": [
    "#drop the columns with high p-value from the test dataset\n",
    "X_test_1=X_test_1.drop(columns=columns_delete_pvalue,axis=1) "
   ]
  },
  {
   "cell_type": "code",
   "execution_count": null,
   "metadata": {
    "id": "-WBLDBAu75z3"
   },
   "outputs": [],
   "source": [
    "#scale the data again after dropping columns based on p-value\n",
    "scaler=StandardScaler()\n",
    "X_train_2_scaled=scaler.fit_transform(X_train_1)\n",
    "X_test_2_scaled=scaler.transform(X_test_1)"
   ]
  },
  {
   "cell_type": "markdown",
   "metadata": {
    "id": "y4mFI6igDbmO"
   },
   "source": [
    "#### **Logistic Regression Model 2**<a name=\"model2\"></a>"
   ]
  },
  {
   "cell_type": "markdown",
   "metadata": {
    "id": "AaPpd0MKz9Yl"
   },
   "source": [
    "Logistic regression model for new dataframe after deleting columns based on p-value."
   ]
  },
  {
   "cell_type": "code",
   "execution_count": null,
   "metadata": {
    "id": "BBFWU6TV75z3"
   },
   "outputs": [],
   "source": [
    "# !! Add constant to our X_train_1_scaled,X_test_1_scaled !!\n",
    "X_train_const_2 = sm.add_constant(X_train_2_scaled)\n",
    "X_test_const_2 = sm.add_constant(X_test_2_scaled)\n"
   ]
  },
  {
   "cell_type": "code",
   "execution_count": null,
   "metadata": {
    "colab": {
     "base_uri": "https://localhost:8080/"
    },
    "id": "bH16tLEQ75z3",
    "outputId": "e08c492b-82bb-4de6-ba15-5c6be7868370"
   },
   "outputs": [
    {
     "name": "stdout",
     "output_type": "stream",
     "text": [
      "Optimization terminated successfully.\n",
      "         Current function value: 0.673540\n",
      "         Iterations 6\n",
      "                           Logit Regression Results                           \n",
      "==============================================================================\n",
      "Dep. Variable:                  churn   No. Observations:                75000\n",
      "Model:                          Logit   Df Residuals:                    74934\n",
      "Method:                           MLE   Df Model:                           65\n",
      "Date:                Mon, 10 Apr 2023   Pseudo R-squ.:                 0.02823\n",
      "Time:                        14:24:09   Log-Likelihood:                -50516.\n",
      "converged:                       True   LL-Null:                       -51983.\n",
      "Covariance Type:            nonrobust   LLR p-value:                     0.000\n",
      "======================================================================================\n",
      "                         coef    std err          z      P>|z|      [0.025      0.975]\n",
      "--------------------------------------------------------------------------------------\n",
      "const                 -0.0191      0.007     -2.562      0.010      -0.034      -0.004\n",
      "totmrc_Mean           -0.0937      0.009    -10.341      0.000      -0.111      -0.076\n",
      "da_Mean                0.0072      0.009      0.836      0.403      -0.010       0.024\n",
      "vceovr_Mean            0.1125      0.009     12.360      0.000       0.095       0.130\n",
      "datovr_Mean            0.0098      0.008      1.195      0.232      -0.006       0.026\n",
      "roam_Mean              0.0504      0.011      4.483      0.000       0.028       0.072\n",
      "change_mou            -0.0851      0.008    -10.263      0.000      -0.101      -0.069\n",
      "drop_vce_Mean          0.0648      0.010      6.470      0.000       0.045       0.084\n",
      "blck_vce_Mean          0.0255      0.008      3.098      0.002       0.009       0.042\n",
      "unan_vce_Mean         -0.0244      0.011     -2.273      0.023      -0.045      -0.003\n",
      "custcare_Mean         -0.0330      0.010     -3.242      0.001      -0.053      -0.013\n",
      "threeway_Mean         -0.0377      0.009     -4.202      0.000      -0.055      -0.020\n",
      "mouowylisv_Mean       -0.0207      0.011     -1.942      0.052      -0.042       0.000\n",
      "iwylis_vce_Mean       -0.0670      0.011     -6.005      0.000      -0.089      -0.045\n",
      "callwait_Mean         -0.0339      0.011     -3.106      0.002      -0.055      -0.012\n",
      "months                -0.2004      0.013    -15.689      0.000      -0.225      -0.175\n",
      "uniqsubs               0.0799      0.008     10.211      0.000       0.065       0.095\n",
      "asl_flag              -0.0863      0.009     -9.760      0.000      -0.104      -0.069\n",
      "adjqty                 0.0634      0.012      5.346      0.000       0.040       0.087\n",
      "dualband              -0.0293      0.008     -3.569      0.000      -0.045      -0.013\n",
      "refurb_new            -0.0737      0.009     -8.559      0.000      -0.091      -0.057\n",
      "hnd_price             -0.0892      0.010     -8.944      0.000      -0.109      -0.070\n",
      "phones                 0.0876      0.012      7.496      0.000       0.065       0.110\n",
      "lor                   -0.0757      0.008     -9.108      0.000      -0.092      -0.059\n",
      "dwlltype               0.0502      0.011      4.628      0.000       0.029       0.071\n",
      "adults                 0.0103      0.009      1.131      0.258      -0.008       0.028\n",
      "income                -0.0064      0.008     -0.792      0.428      -0.022       0.009\n",
      "numbcars               0.0172      0.008      2.087      0.037       0.001       0.033\n",
      "creditcd              -0.0358      0.010     -3.499      0.000      -0.056      -0.016\n",
      "eqpdays                0.3040      0.013     24.064      0.000       0.279       0.329\n",
      "number_of_kids         0.0293      0.008      3.481      0.000       0.013       0.046\n",
      "new_cell_N            -0.0092      0.008     -1.175      0.240      -0.025       0.006\n",
      "new_cell_Y            -0.0164      0.008     -2.113      0.035      -0.032      -0.001\n",
      "crclscod_B            -0.0266      0.008     -3.217      0.001      -0.043      -0.010\n",
      "crclscod_C            -0.0119      0.008     -1.523      0.128      -0.027       0.003\n",
      "prizm_social_one_C     0.0150      0.009      1.642      0.101      -0.003       0.033\n",
      "prizm_social_one_R     0.0439      0.008      5.296      0.000       0.028       0.060\n",
      "prizm_social_one_S     0.0046      0.010      0.468      0.640      -0.015       0.024\n",
      "prizm_social_one_T     0.0315      0.009      3.368      0.001       0.013       0.050\n",
      "area_Rural             0.0084      0.009      0.977      0.328      -0.008       0.025\n",
      "area_Urban            -0.0057      0.009     -0.653      0.514      -0.023       0.011\n",
      "marital_M             -0.0311      0.011     -2.734      0.006      -0.053      -0.009\n",
      "marital_N             -0.0371      0.010     -3.708      0.000      -0.057      -0.017\n",
      "HHstatin_A             0.0199      0.008      2.388      0.017       0.004       0.036\n",
      "HHstatin_C             0.0078      0.008      0.923      0.356      -0.009       0.024\n",
      "HHstatin_G             0.0080      0.008      1.022      0.307      -0.007       0.023\n",
      "HHstatin_H             0.0126      0.008      1.658      0.097      -0.002       0.027\n",
      "dwllsize_B            -0.0130      0.008     -1.637      0.102      -0.029       0.003\n",
      "dwllsize_C            -0.0120      0.008     -1.573      0.116      -0.027       0.003\n",
      "dwllsize_D             0.0080      0.008      1.045      0.296      -0.007       0.023\n",
      "dwllsize_O            -0.0127      0.008     -1.679      0.093      -0.028       0.002\n",
      "ethnic_B               0.0420      0.008      5.516      0.000       0.027       0.057\n",
      "ethnic_C              -0.0256      0.008     -3.196      0.001      -0.041      -0.010\n",
      "ethnic_D               0.0180      0.008      2.397      0.017       0.003       0.033\n",
      "ethnic_F               0.0083      0.008      1.092      0.275      -0.007       0.023\n",
      "ethnic_G               0.0043      0.008      0.557      0.578      -0.011       0.020\n",
      "ethnic_H               0.0520      0.008      6.236      0.000       0.036       0.068\n",
      "ethnic_I               0.0191      0.008      2.497      0.013       0.004       0.034\n",
      "ethnic_J               0.0214      0.008      2.804      0.005       0.006       0.036\n",
      "ethnic_M               0.0119      0.007      1.591      0.112      -0.003       0.027\n",
      "ethnic_O               0.0810      0.008     10.294      0.000       0.066       0.096\n",
      "ethnic_P              -0.0186      0.008     -2.413      0.016      -0.034      -0.003\n",
      "ethnic_R               0.0230      0.008      3.050      0.002       0.008       0.038\n",
      "ethnic_S               0.0111      0.008      1.389      0.165      -0.005       0.027\n",
      "ethnic_U               0.0197      0.008      2.471      0.013       0.004       0.035\n",
      "ethnic_X              -0.0117      0.008     -1.500      0.134      -0.027       0.004\n",
      "======================================================================================\n"
     ]
    }
   ],
   "source": [
    "# Create a new DataFrame with the original column names\n",
    "X_train_const_named = pd.DataFrame(X_train_const_2, columns=[\"const\"] + list(X_train_1.columns))\n",
    "\n",
    "# Instantiate the logistic regression model with the new DataFrame\n",
    "logreg_2_named = sm.Logit(y_train, X_train_const_named)\n",
    "\n",
    "# Fit the model (this returns a separate object with the parameters)\n",
    "logreg_results_2_named = logreg_2_named.fit()\n",
    "\n",
    "# Display the results \n",
    "print(logreg_results_2_named.summary())"
   ]
  },
  {
   "cell_type": "code",
   "execution_count": null,
   "metadata": {
    "id": "SIOJ0I1U8dym"
   },
   "outputs": [],
   "source": [
    "# Getting the model predictions as probabilities and saving to 'y_proba'\n",
    "y_proba_2 = logreg_results_2_named.predict(X_train_const_2)"
   ]
  },
  {
   "cell_type": "code",
   "execution_count": null,
   "metadata": {
    "id": "XqQuRFsJ8dyn"
   },
   "outputs": [],
   "source": [
    "# Going from soft predictions (probabilities) to hard predictions (1 or 0)\n",
    "# We will set our threshold to 0.5 \n",
    "y_pred_2 = np.where(y_proba_2 >= 0.5, 1, 0)\n",
    "\n"
   ]
  },
  {
   "cell_type": "code",
   "execution_count": null,
   "metadata": {
    "colab": {
     "base_uri": "https://localhost:8080/"
    },
    "id": "c240I-ua8dyo",
    "outputId": "d56d5896-1b16-42f6-ac77-c684d0ee6da1"
   },
   "outputs": [
    {
     "name": "stdout",
     "output_type": "stream",
     "text": [
      "Model accuracy = 0.5830266666666667\n"
     ]
    }
   ],
   "source": [
    "# Calculating accuracy - Evaluate the two arrays to find where predicted = true survival\n",
    "# Then divide by the number of predictions/passengers\n",
    "acc_2 = (y_pred_2 == y_train).mean()\n",
    "\n",
    "# Print the accuracy score\n",
    "print(f'Model accuracy = {acc_2}')"
   ]
  },
  {
   "cell_type": "code",
   "execution_count": null,
   "metadata": {
    "colab": {
     "base_uri": "https://localhost:8080/"
    },
    "id": "zmrtovZm8dyp",
    "outputId": "d4e2c7f1-74a5-4b98-84f9-41bcae2cc913"
   },
   "outputs": [
    {
     "name": "stdout",
     "output_type": "stream",
     "text": [
      "Accuracy: 0.57928\n"
     ]
    }
   ],
   "source": [
    "# Make predictions on the test set\n",
    "y_pred_2 = logreg_results_2_named.predict(X_test_const_2)\n",
    "\n",
    "# Since the predictions are probabilities, you need to convert them to class labels (0 or 1)\n",
    "y_pred_labels_2 = np.round(y_pred_2)\n",
    "\n",
    "# Calculate the accuracy\n",
    "accuracy_2 = accuracy_score(y_test, y_pred_labels_2)\n",
    "print(f\"Accuracy: {accuracy_2}\")"
   ]
  },
  {
   "cell_type": "code",
   "execution_count": null,
   "metadata": {
    "id": "gD_zjpHPcb4o"
   },
   "outputs": [],
   "source": [
    "#Based on p-value we can delete below given columns\n",
    "columns_delete_pvalue_1=['dwllsize_C','HHstatin_G','datovr_Mean',\"da_Mean\",'adults','income','new_cell_N','crclscod_C','prizm_social_one_S',\n",
    "                               'area_Rural','area_Urban','HHstatin_A','HHstatin_C','prizm_social_one_C','dwllsize_B','dwllsize_D','dwllsize_O',\n",
    "                         'ethnic_F','ethnic_G','ethnic_M','ethnic_S','ethnic_M','ethnic_X']"
   ]
  },
  {
   "cell_type": "code",
   "execution_count": null,
   "metadata": {
    "id": "zWqSifvE_3s-"
   },
   "outputs": [],
   "source": [
    "#delete the columns from the dataframe\n",
    "X_train_1=X_train_1.drop(columns=columns_delete_pvalue_1,axis=1) \n"
   ]
  },
  {
   "cell_type": "code",
   "execution_count": null,
   "metadata": {
    "id": "DPoFNKJM_3s_"
   },
   "outputs": [],
   "source": [
    "#delete the columns with high p-value from test data\n",
    "X_test_1=X_test_1.drop(columns=columns_delete_pvalue_1,axis=1) "
   ]
  },
  {
   "cell_type": "code",
   "execution_count": null,
   "metadata": {
    "id": "DNpO3Lrp_3s_"
   },
   "outputs": [],
   "source": [
    "#scale test and train data\n",
    "scaler=StandardScaler()\n",
    "X_train_3_scaled=scaler.fit_transform(X_train_1)\n",
    "X_test_3_scaled=scaler.transform(X_test_1)"
   ]
  },
  {
   "cell_type": "markdown",
   "metadata": {
    "id": "QCZVOZ_oGRtv"
   },
   "source": [
    "#### **Logistic Regression Model 3**<a name=\"model3\"></a>"
   ]
  },
  {
   "cell_type": "markdown",
   "metadata": {
    "id": "Wl_AqlR_0BV5"
   },
   "source": [
    "Logistic regression model for new dataframe after deleting columns based on p-value."
   ]
  },
  {
   "cell_type": "code",
   "execution_count": null,
   "metadata": {
    "id": "Nz1FdWQ9_3s_"
   },
   "outputs": [],
   "source": [
    "# !! Add constant to our X !!\n",
    "X_train_const_3 = sm.add_constant(X_train_3_scaled)\n",
    "X_test_const_3 = sm.add_constant(X_test_3_scaled)\n"
   ]
  },
  {
   "cell_type": "code",
   "execution_count": null,
   "metadata": {
    "colab": {
     "base_uri": "https://localhost:8080/"
    },
    "id": "H7ffItVH_3s_",
    "outputId": "41e2b5bb-3cf8-4b59-d096-a70aca0773f5"
   },
   "outputs": [
    {
     "name": "stdout",
     "output_type": "stream",
     "text": [
      "Optimization terminated successfully.\n",
      "         Current function value: 0.673781\n",
      "         Iterations 6\n",
      "                           Logit Regression Results                           \n",
      "==============================================================================\n",
      "Dep. Variable:                  churn   No. Observations:                75000\n",
      "Model:                          Logit   Df Residuals:                    74956\n",
      "Method:                           MLE   Df Model:                           43\n",
      "Date:                Mon, 10 Apr 2023   Pseudo R-squ.:                 0.02789\n",
      "Time:                        14:32:31   Log-Likelihood:                -50534.\n",
      "converged:                       True   LL-Null:                       -51983.\n",
      "Covariance Type:            nonrobust   LLR p-value:                     0.000\n",
      "======================================================================================\n",
      "                         coef    std err          z      P>|z|      [0.025      0.975]\n",
      "--------------------------------------------------------------------------------------\n",
      "const                 -0.0191      0.007     -2.560      0.010      -0.034      -0.004\n",
      "totmrc_Mean           -0.0932      0.009    -10.418      0.000      -0.111      -0.076\n",
      "vceovr_Mean            0.1140      0.009     12.697      0.000       0.096       0.132\n",
      "roam_Mean              0.0512      0.012      4.358      0.000       0.028       0.074\n",
      "change_mou            -0.0848      0.008    -10.221      0.000      -0.101      -0.069\n",
      "drop_vce_Mean          0.0632      0.010      6.351      0.000       0.044       0.083\n",
      "blck_vce_Mean          0.0255      0.008      3.107      0.002       0.009       0.042\n",
      "unan_vce_Mean         -0.0226      0.011     -2.119      0.034      -0.043      -0.002\n",
      "custcare_Mean         -0.0328      0.010     -3.228      0.001      -0.053      -0.013\n",
      "threeway_Mean         -0.0384      0.009     -4.286      0.000      -0.056      -0.021\n",
      "mouowylisv_Mean       -0.0200      0.011     -1.879      0.060      -0.041       0.001\n",
      "iwylis_vce_Mean       -0.0676      0.011     -6.085      0.000      -0.089      -0.046\n",
      "callwait_Mean         -0.0325      0.011     -3.002      0.003      -0.054      -0.011\n",
      "months                -0.2045      0.013    -16.269      0.000      -0.229      -0.180\n",
      "uniqsubs               0.0798      0.008     10.258      0.000       0.065       0.095\n",
      "asl_flag              -0.0879      0.009    -10.076      0.000      -0.105      -0.071\n",
      "adjqty                 0.0638      0.012      5.407      0.000       0.041       0.087\n",
      "dualband              -0.0271      0.008     -3.321      0.001      -0.043      -0.011\n",
      "refurb_new            -0.0737      0.009     -8.565      0.000      -0.091      -0.057\n",
      "hnd_price             -0.0892      0.010     -8.974      0.000      -0.109      -0.070\n",
      "phones                 0.0872      0.012      7.477      0.000       0.064       0.110\n",
      "lor                   -0.0739      0.008     -9.266      0.000      -0.089      -0.058\n",
      "dwlltype               0.0396      0.010      4.053      0.000       0.020       0.059\n",
      "numbcars               0.0179      0.008      2.212      0.027       0.002       0.034\n",
      "creditcd              -0.0393      0.010     -3.907      0.000      -0.059      -0.020\n",
      "eqpdays                0.3043      0.013     24.142      0.000       0.280       0.329\n",
      "number_of_kids         0.0290      0.008      3.477      0.001       0.013       0.045\n",
      "new_cell_Y            -0.0144      0.008     -1.909      0.056      -0.029       0.000\n",
      "crclscod_B            -0.0236      0.008     -2.919      0.004      -0.039      -0.008\n",
      "prizm_social_one_R     0.0416      0.008      5.499      0.000       0.027       0.056\n",
      "prizm_social_one_T     0.0266      0.008      3.486      0.000       0.012       0.042\n",
      "marital_M             -0.0352      0.011     -3.144      0.002      -0.057      -0.013\n",
      "marital_N             -0.0399      0.010     -4.112      0.000      -0.059      -0.021\n",
      "HHstatin_H             0.0107      0.007      1.441      0.150      -0.004       0.025\n",
      "ethnic_B               0.0406      0.008      5.366      0.000       0.026       0.055\n",
      "ethnic_C              -0.0266      0.008     -3.315      0.001      -0.042      -0.011\n",
      "ethnic_D               0.0168      0.007      2.247      0.025       0.002       0.031\n",
      "ethnic_H               0.0488      0.008      6.211      0.000       0.033       0.064\n",
      "ethnic_I               0.0163      0.008      2.162      0.031       0.002       0.031\n",
      "ethnic_J               0.0190      0.008      2.534      0.011       0.004       0.034\n",
      "ethnic_O               0.0785      0.008     10.177      0.000       0.063       0.094\n",
      "ethnic_P              -0.0199      0.008     -2.591      0.010      -0.035      -0.005\n",
      "ethnic_R               0.0215      0.008      2.865      0.004       0.007       0.036\n",
      "ethnic_U               0.0162      0.008      2.113      0.035       0.001       0.031\n",
      "======================================================================================\n"
     ]
    }
   ],
   "source": [
    "\n",
    "# Create a new DataFrame with the original column names\n",
    "X_train_const_named = pd.DataFrame(X_train_const_3, columns=[\"const\"] + list(X_train_1.columns))\n",
    "\n",
    "# Instantiate the logistic regression model with the new DataFrame\n",
    "logreg_3_named = sm.Logit(y_train, X_train_const_named)\n",
    "\n",
    "# Fit the model (this returns a separate object with the parameters)\n",
    "logreg_results_3_named = logreg_3_named.fit()\n",
    "\n",
    "# Display the results \n",
    "print(logreg_results_3_named.summary())"
   ]
  },
  {
   "cell_type": "code",
   "execution_count": null,
   "metadata": {
    "id": "HOjEfV1m_3s_"
   },
   "outputs": [],
   "source": []
  },
  {
   "cell_type": "code",
   "execution_count": null,
   "metadata": {
    "id": "puUl3T4e_3tA"
   },
   "outputs": [],
   "source": [
    "# Getting the model predictions as probabilities and saving to 'y_proba'\n",
    "y_proba_3 = logreg_results_3_named.predict(X_train_const_3)"
   ]
  },
  {
   "cell_type": "code",
   "execution_count": null,
   "metadata": {
    "id": "rADtgW6k_3tA"
   },
   "outputs": [],
   "source": [
    "# Going from soft predictions (probabilities) to hard predictions (1 or 0)\n",
    "# We will set our threshold to 0.5 \n",
    "y_pred_3 = np.where(y_proba_3 >= 0.5, 1, 0)\n",
    "\n"
   ]
  },
  {
   "cell_type": "code",
   "execution_count": null,
   "metadata": {
    "colab": {
     "base_uri": "https://localhost:8080/"
    },
    "id": "_WVKlS9mDq7c",
    "outputId": "7d838ae2-423b-4e94-ca41-135c6b91eff8"
   },
   "outputs": [
    {
     "name": "stdout",
     "output_type": "stream",
     "text": [
      "Model accuracy = 0.5819333333333333\n"
     ]
    }
   ],
   "source": [
    "# Calculating accuracy - Evaluate the two arrays to find where predicted = true survival\n",
    "# Then divide by the number of predictions/passengers\n",
    "acc_3 = (y_pred_3 == y_train).mean()\n",
    "\n",
    "# Print the accuracy score\n",
    "print(f'Model accuracy = {acc_3}')"
   ]
  },
  {
   "cell_type": "markdown",
   "metadata": {
    "id": "_laiL5V3ldvh"
   },
   "source": [
    "Find accuracy for different threshold"
   ]
  },
  {
   "cell_type": "code",
   "execution_count": null,
   "metadata": {
    "id": "JJ32J8EVDq7d"
   },
   "outputs": [],
   "source": [
    "accuracy_list = []\n",
    "threshold_list = [0.1, 0.2, 0.3, 0.4, 0.5, 0.6, 0.7, 0.8, 0.9]\n",
    "\n",
    "for threshold in threshold_list:\n",
    "    y_pred_3 = np.where(y_proba_3 >= threshold, 1, 0)\n",
    "\n",
    "    # Calculating accuracy \n",
    "    acc = 100*(y_pred_3 == y_train).mean()\n",
    "\n",
    "    # Add the accuracy to our dictionary\n",
    "    accuracy_list.append(acc)\n",
    "\n",
    "accuracy_df = pd.DataFrame(index=range(len(threshold_list)), \n",
    "                           data=zip(threshold_list, accuracy_list), \n",
    "                           columns=['Decision Threshold', 'Accuracy'])\n"
   ]
  },
  {
   "cell_type": "code",
   "execution_count": null,
   "metadata": {
    "colab": {
     "base_uri": "https://localhost:8080/",
     "height": 502
    },
    "id": "_STYUbpoDq7d",
    "outputId": "77b79690-64a1-4802-db34-3725372363fb"
   },
   "outputs": [
    {
     "data": {
      "image/png": "[encoded data removed]",
      "text/plain": [
       "<Figure size 640x480 with 1 Axes>"
      ]
     },
     "metadata": {},
     "output_type": "display_data"
    }
   ],
   "source": [
    "#plot different threshold and their accuracy\n",
    "plt.figure()\n",
    "plt.plot(accuracy_df['Decision Threshold'], accuracy_df['Accuracy'], marker='o')\n",
    "plt.suptitle('Logistic Regression Accuracy at Various Decision Thresholds', size=18)\n",
    "plt.title('Model 1.0', size=14)\n",
    "plt.xlabel('Decision Threshold', size=14)\n",
    "plt.ylabel('Model Accuracy (%)', size=14)\n",
    "plt.yticks()\n",
    "plt.show()"
   ]
  },
  {
   "cell_type": "code",
   "execution_count": null,
   "metadata": {
    "colab": {
     "base_uri": "https://localhost:8080/"
    },
    "id": "lE-wOAtcDq7d",
    "outputId": "e3704c27-3e20-4ee8-bd34-94978550a979"
   },
   "outputs": [
    {
     "name": "stdout",
     "output_type": "stream",
     "text": [
      "Accuracy: 0.57828\n"
     ]
    }
   ],
   "source": [
    "# Make predictions on the test set\n",
    "y_pred_3 = logreg_results_3_named.predict(X_test_const_3)\n",
    "\n",
    "# Since the predictions are probabilities, you need to convert them to class labels (0 or 1)\n",
    "y_pred_labels_3 = np.round(y_pred_3)\n",
    "\n",
    "# Calculate the accuracy\n",
    "accuracy_3 = accuracy_score(y_test, y_pred_labels_3)\n",
    "print(f\"Accuracy: {accuracy_3}\")"
   ]
  },
  {
   "cell_type": "markdown",
   "metadata": {
    "id": "TuGpRg7UoC2R"
   },
   "source": [
    "Shape of test dataframe and train dataframe after deleting columns with high p value"
   ]
  },
  {
   "cell_type": "code",
   "execution_count": null,
   "metadata": {
    "colab": {
     "base_uri": "https://localhost:8080/"
    },
    "id": "zcDdiLv0n3E5",
    "outputId": "769e76a9-5efd-4183-d701-b485550df221"
   },
   "outputs": [
    {
     "data": {
      "text/plain": [
       "(75000, 43)"
      ]
     },
     "execution_count": 47,
     "metadata": {},
     "output_type": "execute_result"
    }
   ],
   "source": [
    "X_train_1.shape"
   ]
  },
  {
   "cell_type": "code",
   "execution_count": null,
   "metadata": {
    "colab": {
     "base_uri": "https://localhost:8080/"
    },
    "id": "EPF_AL54n3KV",
    "outputId": "d44cf00b-955c-4c7f-f225-88f024369075"
   },
   "outputs": [
    {
     "data": {
      "text/plain": [
       "(25000, 43)"
      ]
     },
     "execution_count": 62,
     "metadata": {},
     "output_type": "execute_result"
    }
   ],
   "source": [
    "X_test_1.shape"
   ]
  },
  {
   "cell_type": "code",
   "execution_count": null,
   "metadata": {
    "id": "VdKYtdtP_ZNL"
   },
   "outputs": [],
   "source": [
    "df_train_log=pd.concat([X_train_1,y_train],axis=1)\n",
    "df_test_log=pd.concat([X_test_1,y_test],axis=1)"
   ]
  },
  {
   "cell_type": "code",
   "execution_count": null,
   "metadata": {
    "colab": {
     "base_uri": "https://localhost:8080/"
    },
    "id": "WKIG8169_sCm",
    "outputId": "77b7d362-1c30-4e3b-df75-bfa397adbff7"
   },
   "outputs": [
    {
     "data": {
      "text/plain": [
       "(75000, 44)"
      ]
     },
     "execution_count": 65,
     "metadata": {},
     "output_type": "execute_result"
    }
   ],
   "source": [
    "df_train_log.shape"
   ]
  },
  {
   "cell_type": "code",
   "execution_count": null,
   "metadata": {
    "colab": {
     "base_uri": "https://localhost:8080/"
    },
    "id": "Mm7dzpkQ_x9M",
    "outputId": "c55aff1f-16bf-4056-c14b-81a5ac3ac073"
   },
   "outputs": [
    {
     "data": {
      "text/plain": [
       "(25000, 44)"
      ]
     },
     "execution_count": 66,
     "metadata": {},
     "output_type": "execute_result"
    }
   ],
   "source": [
    "df_test_log.shape"
   ]
  },
  {
   "cell_type": "code",
   "execution_count": null,
   "metadata": {
    "id": "0CfY0x2XoMIE"
   },
   "outputs": [],
   "source": [
    "#save this dataframe\n",
    "df_train_log.to_csv('train_logistic_regression_output.csv')\n",
    "df_test_log.to_csv('test_logistic_regression_output.csv')"
   ]
  },
  {
   "cell_type": "markdown",
   "metadata": {
    "id": "KswN6lLsK-9G"
   },
   "source": [
    "### **Hyper parameter optimization using grid search**<a name=\"grid\"></a>"
   ]
  },
  {
   "cell_type": "markdown",
   "metadata": {
    "id": "LBIx9n3umOGZ"
   },
   "source": [
    "Hyperparameter optimization for logistic regression involves tuning the parameters that are not learned during the model training process. These parameters are set prior to the model training and can significantly impact the performance of the model. In logistic regression, hyperparameters such as regularization strength, penalty, solver, and max iterations can be tuned to improve model performance.\n",
    "\n",
    "Hyperparameter optimization involves exploring different values of these hyperparameters and selecting the best set of hyperparameters that maximize the model's performance on a validation set. This can be done using techniques such as grid search or randomized search.\n",
    "\n",
    "Grid search involves defining a grid of hyperparameter values and training and evaluating the model for each combination of hyperparameters.\n",
    "\n",
    "Hyperparameter optimization can significantly improve the performance of logistic regression models and should be a crucial step in the model-building process."
   ]
  },
  {
   "cell_type": "markdown",
   "metadata": {
    "id": "AWZdYMOQsyFo"
   },
   "source": [
    "The below given code is performing hyperparameter tuning for a logistic regression model using GridSearchCV. It is creating a pipeline with three steps - normalization, standardization, and logistic regression, and tuning the hyperparameters of the logistic regression model using the specified parameter grid. The best model is then fit to the training data using 5-fold cross-validation."
   ]
  },
  {
   "cell_type": "code",
   "execution_count": null,
   "metadata": {
    "colab": {
     "base_uri": "https://localhost:8080/"
    },
    "id": "pNHA2oH4niAW",
    "outputId": "8e6a4a22-0854-467e-da64-259ad9a54fa5"
   },
   "outputs": [
    {
     "name": "stderr",
     "output_type": "stream",
     "text": [
      "/usr/local/lib/python3.9/dist-packages/sklearn/model_selection/_validation.py:378: FitFailedWarning: \n",
      "30 fits failed out of a total of 180.\n",
      "The score on these train-test partitions for these parameters will be set to nan.\n",
      "If these failures are not expected, you can try to debug them by setting error_score='raise'.\n",
      "\n",
      "Below are more details about the failures:\n",
      "--------------------------------------------------------------------------------\n",
      "30 fits failed with the following error:\n",
      "Traceback (most recent call last):\n",
      "  File \"/usr/local/lib/python3.9/dist-packages/sklearn/model_selection/_validation.py\", line 686, in _fit_and_score\n",
      "    estimator.fit(X_train, y_train, **fit_params)\n",
      "  File \"/usr/local/lib/python3.9/dist-packages/sklearn/pipeline.py\", line 405, in fit\n",
      "    self._final_estimator.fit(Xt, y, **fit_params_last_step)\n",
      "  File \"/usr/local/lib/python3.9/dist-packages/sklearn/linear_model/_logistic.py\", line 1162, in fit\n",
      "    solver = _check_solver(self.solver, self.penalty, self.dual)\n",
      "  File \"/usr/local/lib/python3.9/dist-packages/sklearn/linear_model/_logistic.py\", line 54, in _check_solver\n",
      "    raise ValueError(\n",
      "ValueError: Solver lbfgs supports only 'l2' or 'none' penalties, got l1 penalty.\n",
      "\n",
      "  warnings.warn(some_fits_failed_message, FitFailedWarning)\n",
      "/usr/local/lib/python3.9/dist-packages/sklearn/model_selection/_search.py:952: UserWarning: One or more of the test scores are non-finite: [       nan 0.56129333 0.55898667 0.58016    0.58002667 0.58014667\n",
      "        nan 0.57922667 0.57910667 0.58025333 0.58026667 0.58022667\n",
      "        nan 0.58018667 0.58026667 0.58054667 0.58052    0.58054667\n",
      "        nan 0.58046667 0.58049333 0.58041333 0.58041333 0.58046667\n",
      "        nan 0.58044    0.58044    0.5804     0.58042667 0.58042667\n",
      "        nan 0.58041333 0.58041333 0.5804     0.58042667 0.58041333]\n",
      "  warnings.warn(\n"
     ]
    }
   ],
   "source": [
    "from sklearn.model_selection import GridSearchCV\n",
    "from sklearn.pipeline import Pipeline\n",
    "from sklearn.preprocessing import MinMaxScaler\n",
    "\n",
    "estimators = [('normalize', MinMaxScaler()),\n",
    "              ('standardize', StandardScaler()),\n",
    "               ('model', LogisticRegression())]\n",
    "pipe = Pipeline(estimators)\n",
    "\n",
    "param_grid =     { \n",
    "        'model__C': [0.001, 0.01, 0.1, 1, 10, 100],\n",
    "        'model__penalty': ['l1', 'l2'],\n",
    "        'model__solver': ['lbfgs', 'liblinear','saga'],\n",
    "        'model__max_iter':[1000]\n",
    "    }\n",
    "     \n",
    "grid = GridSearchCV(pipe, param_grid, cv=5)\n",
    "fittedgrid = grid.fit(X_train_1, y_train)\n",
    "\n"
   ]
  },
  {
   "cell_type": "code",
   "execution_count": null,
   "metadata": {
    "colab": {
     "base_uri": "https://localhost:8080/",
     "height": 158
    },
    "id": "HaBKp1mL_iso",
    "outputId": "86b2973c-91d7-411f-f682-a3a12ae07c10"
   },
   "outputs": [
    {
     "data": {
      "text/html": [
       "<style>#sk-container-id-2 {color: black;background-color: white;}#sk-container-id-2 pre{padding: 0;}#sk-container-id-2 div.sk-toggleable {background-color: white;}#sk-container-id-2 label.sk-toggleable__label {cursor: pointer;display: block;width: 100%;margin-bottom: 0;padding: 0.3em;box-sizing: border-box;text-align: center;}#sk-container-id-2 label.sk-toggleable__label-arrow:before {content: \"▸\";float: left;margin-right: 0.25em;color: #696969;}#sk-container-id-2 label.sk-toggleable__label-arrow:hover:before {color: black;}#sk-container-id-2 div.sk-estimator:hover label.sk-toggleable__label-arrow:before {color: black;}#sk-container-id-2 div.sk-toggleable__content {max-height: 0;max-width: 0;overflow: hidden;text-align: left;background-color: #f0f8ff;}#sk-container-id-2 div.sk-toggleable__content pre {margin: 0.2em;color: black;border-radius: 0.25em;background-color: #f0f8ff;}#sk-container-id-2 input.sk-toggleable__control:checked~div.sk-toggleable__content {max-height: 200px;max-width: 100%;overflow: auto;}#sk-container-id-2 input.sk-toggleable__control:checked~label.sk-toggleable__label-arrow:before {content: \"▾\";}#sk-container-id-2 div.sk-estimator input.sk-toggleable__control:checked~label.sk-toggleable__label {background-color: #d4ebff;}#sk-container-id-2 div.sk-label input.sk-toggleable__control:checked~label.sk-toggleable__label {background-color: #d4ebff;}#sk-container-id-2 input.sk-hidden--visually {border: 0;clip: rect(1px 1px 1px 1px);clip: rect(1px, 1px, 1px, 1px);height: 1px;margin: -1px;overflow: hidden;padding: 0;position: absolute;width: 1px;}#sk-container-id-2 div.sk-estimator {font-family: monospace;background-color: #f0f8ff;border: 1px dotted black;border-radius: 0.25em;box-sizing: border-box;margin-bottom: 0.5em;}#sk-container-id-2 div.sk-estimator:hover {background-color: #d4ebff;}#sk-container-id-2 div.sk-parallel-item::after {content: \"\";width: 100%;border-bottom: 1px solid gray;flex-grow: 1;}#sk-container-id-2 div.sk-label:hover label.sk-toggleable__label {background-color: #d4ebff;}#sk-container-id-2 div.sk-serial::before {content: \"\";position: absolute;border-left: 1px solid gray;box-sizing: border-box;top: 0;bottom: 0;left: 50%;z-index: 0;}#sk-container-id-2 div.sk-serial {display: flex;flex-direction: column;align-items: center;background-color: white;padding-right: 0.2em;padding-left: 0.2em;position: relative;}#sk-container-id-2 div.sk-item {position: relative;z-index: 1;}#sk-container-id-2 div.sk-parallel {display: flex;align-items: stretch;justify-content: center;background-color: white;position: relative;}#sk-container-id-2 div.sk-item::before, #sk-container-id-2 div.sk-parallel-item::before {content: \"\";position: absolute;border-left: 1px solid gray;box-sizing: border-box;top: 0;bottom: 0;left: 50%;z-index: -1;}#sk-container-id-2 div.sk-parallel-item {display: flex;flex-direction: column;z-index: 1;position: relative;background-color: white;}#sk-container-id-2 div.sk-parallel-item:first-child::after {align-self: flex-end;width: 50%;}#sk-container-id-2 div.sk-parallel-item:last-child::after {align-self: flex-start;width: 50%;}#sk-container-id-2 div.sk-parallel-item:only-child::after {width: 0;}#sk-container-id-2 div.sk-dashed-wrapped {border: 1px dashed gray;margin: 0 0.4em 0.5em 0.4em;box-sizing: border-box;padding-bottom: 0.4em;background-color: white;}#sk-container-id-2 div.sk-label label {font-family: monospace;font-weight: bold;display: inline-block;line-height: 1.2em;}#sk-container-id-2 div.sk-label-container {text-align: center;}#sk-container-id-2 div.sk-container {/* jupyter's `normalize.less` sets `[hidden] { display: none; }` but bootstrap.min.css set `[hidden] { display: none !important; }` so we also need the `!important` here to be able to override the default hidden behavior on the sphinx rendered scikit-learn.org. See: https://github.com/scikit-learn/scikit-learn/issues/21755 */display: inline-block !important;position: relative;}#sk-container-id-2 div.sk-text-repr-fallback {display: none;}</style><div id=\"sk-container-id-2\" class=\"sk-top-container\"><div class=\"sk-text-repr-fallback\"><pre>Pipeline(steps=[(&#x27;normalize&#x27;, MinMaxScaler()),\n",
       "                (&#x27;standardize&#x27;, StandardScaler()),\n",
       "                (&#x27;model&#x27;, LogisticRegression(C=0.1, max_iter=1000))])</pre><b>In a Jupyter environment, please rerun this cell to show the HTML representation or trust the notebook. <br />On GitHub, the HTML representation is unable to render, please try loading this page with nbviewer.org.</b></div><div class=\"sk-container\" hidden><div class=\"sk-item sk-dashed-wrapped\"><div class=\"sk-label-container\"><div class=\"sk-label sk-toggleable\"><input class=\"sk-toggleable__control sk-hidden--visually\" id=\"sk-estimator-id-5\" type=\"checkbox\" ><label for=\"sk-estimator-id-5\" class=\"sk-toggleable__label sk-toggleable__label-arrow\">Pipeline</label><div class=\"sk-toggleable__content\"><pre>Pipeline(steps=[(&#x27;normalize&#x27;, MinMaxScaler()),\n",
       "                (&#x27;standardize&#x27;, StandardScaler()),\n",
       "                (&#x27;model&#x27;, LogisticRegression(C=0.1, max_iter=1000))])</pre></div></div></div><div class=\"sk-serial\"><div class=\"sk-item\"><div class=\"sk-estimator sk-toggleable\"><input class=\"sk-toggleable__control sk-hidden--visually\" id=\"sk-estimator-id-6\" type=\"checkbox\" ><label for=\"sk-estimator-id-6\" class=\"sk-toggleable__label sk-toggleable__label-arrow\">MinMaxScaler</label><div class=\"sk-toggleable__content\"><pre>MinMaxScaler()</pre></div></div></div><div class=\"sk-item\"><div class=\"sk-estimator sk-toggleable\"><input class=\"sk-toggleable__control sk-hidden--visually\" id=\"sk-estimator-id-7\" type=\"checkbox\" ><label for=\"sk-estimator-id-7\" class=\"sk-toggleable__label sk-toggleable__label-arrow\">StandardScaler</label><div class=\"sk-toggleable__content\"><pre>StandardScaler()</pre></div></div></div><div class=\"sk-item\"><div class=\"sk-estimator sk-toggleable\"><input class=\"sk-toggleable__control sk-hidden--visually\" id=\"sk-estimator-id-8\" type=\"checkbox\" ><label for=\"sk-estimator-id-8\" class=\"sk-toggleable__label sk-toggleable__label-arrow\">LogisticRegression</label><div class=\"sk-toggleable__content\"><pre>LogisticRegression(C=0.1, max_iter=1000)</pre></div></div></div></div></div></div></div>"
      ],
      "text/plain": [
       "Pipeline(steps=[('normalize', MinMaxScaler()),\n",
       "                ('standardize', StandardScaler()),\n",
       "                ('model', LogisticRegression(C=0.1, max_iter=1000))])"
      ]
     },
     "execution_count": 54,
     "metadata": {},
     "output_type": "execute_result"
    }
   ],
   "source": [
    "#best estimator to predict the target variable for the test dataset.\n",
    "fittedgrid.best_estimator_"
   ]
  },
  {
   "cell_type": "code",
   "execution_count": null,
   "metadata": {
    "colab": {
     "base_uri": "https://localhost:8080/"
    },
    "id": "eb9783Ip_ivY",
    "outputId": "2543bf1e-a3fd-43f8-e35c-f877132ce356"
   },
   "outputs": [
    {
     "data": {
      "text/plain": [
       "{'model__C': 0.1,\n",
       " 'model__max_iter': 1000,\n",
       " 'model__penalty': 'l2',\n",
       " 'model__solver': 'lbfgs'}"
      ]
     },
     "execution_count": 55,
     "metadata": {},
     "output_type": "execute_result"
    }
   ],
   "source": [
    "#This will return a dictionary with the best parameters for the model.\n",
    "fittedgrid.best_params_"
   ]
  },
  {
   "cell_type": "markdown",
   "metadata": {
    "id": "XTdvs8fGLIrE"
   },
   "source": [
    "### **Final logistic regression model**<a name=\"final\"></a>\n",
    "\n",
    "Based on the parameter obtained from grid search created a new model. The below code is training a logistic regression model on the training set using the fit method. The hyperparameters used for the model are specified in the initialization of my_logreg1. After training the model, the score method is used to calculate the accuracy of the model on the training set. This accuracy score indicates how well the model fits the training data."
   ]
  },
  {
   "cell_type": "code",
   "execution_count": null,
   "metadata": {
    "colab": {
     "base_uri": "https://localhost:8080/"
    },
    "id": "Q6mSA6ef_iyC",
    "outputId": "a27aee0a-deb2-4826-eaed-5fc325b12732"
   },
   "outputs": [
    {
     "data": {
      "text/plain": [
       "0.5818933333333334"
      ]
     },
     "execution_count": 56,
     "metadata": {},
     "output_type": "execute_result"
    }
   ],
   "source": [
    "my_logreg1 = LogisticRegression(random_state=1,C=.1,solver='lbfgs',penalty='l2',max_iter=1000)\n",
    "my_logreg1.fit(X_train_3_scaled,y_train)\n",
    "    \n",
    "# train on traning set\n",
    "my_logreg1.score(X_train_3_scaled,y_train)\n"
   ]
  },
  {
   "cell_type": "code",
   "execution_count": null,
   "metadata": {
    "colab": {
     "base_uri": "https://localhost:8080/"
    },
    "id": "VCE799qs_i07",
    "outputId": "4c9dbf4d-cafd-4269-d98b-864c4ccd3781"
   },
   "outputs": [
    {
     "data": {
      "text/plain": [
       "0.57824"
      ]
     },
     "execution_count": 61,
     "metadata": {},
     "output_type": "execute_result"
    }
   ],
   "source": [
    "#returns the mean accuracy on the given test data\n",
    "my_logreg1.score(X_test_3_scaled,y_test)"
   ]
  },
  {
   "cell_type": "markdown",
   "metadata": {
    "id": "7a-laKcELaIo"
   },
   "source": [
    "### **Evaluation of the Final model**<a name=\"eval\"></a>"
   ]
  },
  {
   "cell_type": "markdown",
   "metadata": {
    "id": "TE_FIEttt8P2"
   },
   "source": [
    "Evaluating the performance of a logistic regression model is crucial to determine its effectiveness in predicting the target variable. There are various evaluation methods for logistic regression models, such as the F1 score, ROC curve, precision, recall, confusion matrix, and classification report. These methods help in assessing the accuracy, precision, and recall of the model, as well as identifying false positives and false negatives. By using these evaluation methods, we can understand the strengths and weaknesses of the model and take appropriate steps to improve its performance."
   ]
  },
  {
   "cell_type": "code",
   "execution_count": null,
   "metadata": {
    "colab": {
     "base_uri": "https://localhost:8080/"
    },
    "id": "URzmF5XU_i3i",
    "outputId": "ef55680f-0c8a-48c8-8c08-6f74d2674d20"
   },
   "outputs": [
    {
     "name": "stdout",
     "output_type": "stream",
     "text": [
      "Accuracy: 0.58\n",
      "Precision: 0.57\n",
      "Recall: 0.58\n",
      "F1-score: 0.57\n",
      "AUC-ROC: 0.61\n"
     ]
    }
   ],
   "source": [
    "# Make predictions on the test set\n",
    "y_pred = my_logreg1.predict(X_test_3_scaled)\n",
    "y_pred_proba = my_logreg1.predict_proba(X_test_3_scaled)[:, 1]\n",
    "\n",
    "# Calculate performance metrics\n",
    "accuracy = accuracy_score(y_test, y_pred)\n",
    "precision = precision_score(y_test, y_pred)\n",
    "recall = recall_score(y_test, y_pred)\n",
    "f1 = f1_score(y_test, y_pred)\n",
    "roc_auc = roc_auc_score(y_test, y_pred_proba)\n",
    "\n",
    "# Print performance metrics\n",
    "print(f\"Accuracy: {accuracy:.2f}\")\n",
    "print(f\"Precision: {precision:.2f}\")\n",
    "print(f\"Recall: {recall:.2f}\")\n",
    "print(f\"F1-score: {f1:.2f}\")\n",
    "print(f\"AUC-ROC: {roc_auc:.2f}\")"
   ]
  },
  {
   "cell_type": "markdown",
   "metadata": {
    "id": "eRnStMxpvUCA"
   },
   "source": [
    "The values suggest that the model is not performing well in predicting customer churn. The accuracy of 0.58 indicates that the model correctly predicted 58% of the customer churn cases, while the remaining 42% of the predictions were incorrect. The precision of 0.57 suggests that among the predicted positive cases (i.e., customers predicted to churn), 57% of them were actually churned customers. The recall of 0.58 suggests that the model was able to identify only 58% of the actual churned customers. The F1-score of 0.57 is the harmonic mean of precision and recall and is a measure of the overall accuracy of the model. The AUC-ROC value of 0.61 suggests that the model has a slightly better performance than a random guess, but still not satisfactory for predicting customer churn accurately. Overall, these values indicate that the model needs further refinement and improvement to achieve better accuracy in predicting customer churn in the telecom sector."
   ]
  },
  {
   "cell_type": "code",
   "execution_count": null,
   "metadata": {
    "colab": {
     "base_uri": "https://localhost:8080/",
     "height": 804
    },
    "id": "Alc21EHCpy0L",
    "outputId": "09e27876-a14b-4b6d-d8bf-37f7e5f464f4"
   },
   "outputs": [
    {
     "name": "stdout",
     "output_type": "stream",
     "text": [
      "\n",
      "Confusion Matrix:\n",
      "[[7325 5284]\n",
      " [5260 7131]]\n"
     ]
    },
    {
     "data": {
      "text/html": [
       "\n",
       "  <div id=\"df-e68021db-0666-420a-8243-9b67056c45cf\">\n",
       "    <div class=\"colab-df-container\">\n",
       "      <div>\n",
       "<style scoped>\n",
       "    .dataframe tbody tr th:only-of-type {\n",
       "        vertical-align: middle;\n",
       "    }\n",
       "\n",
       "    .dataframe tbody tr th {\n",
       "        vertical-align: top;\n",
       "    }\n",
       "\n",
       "    .dataframe thead th {\n",
       "        text-align: right;\n",
       "    }\n",
       "</style>\n",
       "<table border=\"1\" class=\"dataframe\">\n",
       "  <thead>\n",
       "    <tr style=\"text-align: right;\">\n",
       "      <th></th>\n",
       "      <th>Predicted churn</th>\n",
       "      <th>Predicted not churn</th>\n",
       "    </tr>\n",
       "  </thead>\n",
       "  <tbody>\n",
       "    <tr>\n",
       "      <th>True churn</th>\n",
       "      <td>7325</td>\n",
       "      <td>5284</td>\n",
       "    </tr>\n",
       "    <tr>\n",
       "      <th>True not churn</th>\n",
       "      <td>5260</td>\n",
       "      <td>7131</td>\n",
       "    </tr>\n",
       "  </tbody>\n",
       "</table>\n",
       "</div>\n",
       "      <button class=\"colab-df-convert\" onclick=\"convertToInteractive('df-e68021db-0666-420a-8243-9b67056c45cf')\"\n",
       "              title=\"Convert this dataframe to an interactive table.\"\n",
       "              style=\"display:none;\">\n",
       "        \n",
       "  <svg xmlns=\"http://www.w3.org/2000/svg\" height=\"24px\"viewBox=\"0 0 24 24\"\n",
       "       width=\"24px\">\n",
       "    <path d=\"M0 0h24v24H0V0z\" fill=\"none\"/>\n",
       "    <path d=\"M18.56 5.44l.94 2.06.94-2.06 2.06-.94-2.06-.94-.94-2.06-.94 2.06-2.06.94zm-11 1L8.5 8.5l.94-2.06 2.06-.94-2.06-.94L8.5 2.5l-.94 2.06-2.06.94zm10 10l.94 2.06.94-2.06 2.06-.94-2.06-.94-.94-2.06-.94 2.06-2.06.94z\"/><path d=\"M17.41 7.96l-1.37-1.37c-.4-.4-.92-.59-1.43-.59-.52 0-1.04.2-1.43.59L10.3 9.45l-7.72 7.72c-.78.78-.78 2.05 0 2.83L4 21.41c.39.39.9.59 1.41.59.51 0 1.02-.2 1.41-.59l7.78-7.78 2.81-2.81c.8-.78.8-2.07 0-2.86zM5.41 20L4 18.59l7.72-7.72 1.47 1.35L5.41 20z\"/>\n",
       "  </svg>\n",
       "      </button>\n",
       "      \n",
       "  <style>\n",
       "    .colab-df-container {\n",
       "      display:flex;\n",
       "      flex-wrap:wrap;\n",
       "      gap: 12px;\n",
       "    }\n",
       "\n",
       "    .colab-df-convert {\n",
       "      background-color: #E8F0FE;\n",
       "      border: none;\n",
       "      border-radius: 50%;\n",
       "      cursor: pointer;\n",
       "      display: none;\n",
       "      fill: #1967D2;\n",
       "      height: 32px;\n",
       "      padding: 0 0 0 0;\n",
       "      width: 32px;\n",
       "    }\n",
       "\n",
       "    .colab-df-convert:hover {\n",
       "      background-color: #E2EBFA;\n",
       "      box-shadow: 0px 1px 2px rgba(60, 64, 67, 0.3), 0px 1px 3px 1px rgba(60, 64, 67, 0.15);\n",
       "      fill: #174EA6;\n",
       "    }\n",
       "\n",
       "    [theme=dark] .colab-df-convert {\n",
       "      background-color: #3B4455;\n",
       "      fill: #D2E3FC;\n",
       "    }\n",
       "\n",
       "    [theme=dark] .colab-df-convert:hover {\n",
       "      background-color: #434B5C;\n",
       "      box-shadow: 0px 1px 3px 1px rgba(0, 0, 0, 0.15);\n",
       "      filter: drop-shadow(0px 1px 2px rgba(0, 0, 0, 0.3));\n",
       "      fill: #FFFFFF;\n",
       "    }\n",
       "  </style>\n",
       "\n",
       "      <script>\n",
       "        const buttonEl =\n",
       "          document.querySelector('#df-e68021db-0666-420a-8243-9b67056c45cf button.colab-df-convert');\n",
       "        buttonEl.style.display =\n",
       "          google.colab.kernel.accessAllowed ? 'block' : 'none';\n",
       "\n",
       "        async function convertToInteractive(key) {\n",
       "          const element = document.querySelector('#df-e68021db-0666-420a-8243-9b67056c45cf');\n",
       "          const dataTable =\n",
       "            await google.colab.kernel.invokeFunction('convertToInteractive',\n",
       "                                                     [key], {});\n",
       "          if (!dataTable) return;\n",
       "\n",
       "          const docLinkHtml = 'Like what you see? Visit the ' +\n",
       "            '<a target=\"_blank\" href=https://colab.research.google.com/notebooks/data_table.ipynb>data table notebook</a>'\n",
       "            + ' to learn more about interactive tables.';\n",
       "          element.innerHTML = '';\n",
       "          dataTable['output_type'] = 'display_data';\n",
       "          await google.colab.output.renderOutput(dataTable, element);\n",
       "          const docLink = document.createElement('div');\n",
       "          docLink.innerHTML = docLinkHtml;\n",
       "          element.appendChild(docLink);\n",
       "        }\n",
       "      </script>\n",
       "    </div>\n",
       "  </div>\n",
       "  "
      ],
      "text/plain": [
       "                Predicted churn  Predicted not churn\n",
       "True churn                 7325                 5284\n",
       "True not churn             5260                 7131"
      ]
     },
     "metadata": {},
     "output_type": "display_data"
    },
    {
     "name": "stdout",
     "output_type": "stream",
     "text": [
      "\n",
      "Classification Report:\n",
      "              precision    recall  f1-score   support\n",
      "\n",
      "           0       0.58      0.58      0.58     12609\n",
      "           1       0.57      0.58      0.57     12391\n",
      "\n",
      "    accuracy                           0.58     25000\n",
      "   macro avg       0.58      0.58      0.58     25000\n",
      "weighted avg       0.58      0.58      0.58     25000\n",
      "\n"
     ]
    },
    {
     "data": {
      "image/png": "[encoded data removed]",
      "text/plain": [
       "<Figure size 640x480 with 2 Axes>"
      ]
     },
     "metadata": {},
     "output_type": "display_data"
    }
   ],
   "source": [
    "# Print confusion matrix\n",
    "print(\"\\nConfusion Matrix:\")\n",
    "print(confusion_matrix(y_test, y_pred))\n",
    "cf_matrix=confusion_matrix(y_test, y_pred)\n",
    "cf_df = pd.DataFrame(\n",
    "    cf_matrix, \n",
    "    columns=[\"Predicted churn\", \"Predicted not churn\"],\n",
    "    index=[\"True churn\", \"True not churn\"]\n",
    ")\n",
    "\n",
    "display(cf_df)\n",
    "ConfusionMatrixDisplay.from_estimator(my_logreg1, X_test_3_scaled, y_test);\n",
    "\n",
    "\n",
    "# Print classification report\n",
    "print(\"\\nClassification Report:\")\n",
    "print(classification_report(y_test, y_pred))\n",
    "\n"
   ]
  },
  {
   "cell_type": "markdown",
   "metadata": {
    "id": "NTmxodRgxbhz"
   },
   "source": [
    "The confusion matrix shows the number of correct and incorrect predictions made by the model on the test set. In this case, there were 7325 true positive predictions, 7131 true negative predictions, 5284 false negative predictions, and 5260 false positive predictions. The classification report shows precision, recall, and f1-score values for both classes (churn and not churn). Precision represents the proportion of true positives out of all predicted positives, recall represents the proportion of true positives out of all actual positives, and f1-score is the harmonic mean of precision and recall. The macro average and weighted average are calculated to give an overall performance of the model. The accuracy value shows the overall accuracy of the model on the test set. In this case, the model has an accuracy of 0.58, which means that it correctly predicted 58% of the cases in the test set."
   ]
  },
  {
   "cell_type": "code",
   "execution_count": null,
   "metadata": {
    "colab": {
     "base_uri": "https://localhost:8080/",
     "height": 472
    },
    "id": "qHoZr9VlqMq7",
    "outputId": "d1b9712f-ce7b-42a5-f407-2048d7a88803"
   },
   "outputs": [
    {
     "data": {
      "image/png": "[encoded data removed]",
      "text/plain": [
       "<Figure size 640x480 with 1 Axes>"
      ]
     },
     "metadata": {},
     "output_type": "display_data"
    }
   ],
   "source": [
    "# Plot ROC curve\n",
    "fpr, tpr, _ = roc_curve(y_test, y_pred_proba)\n",
    "plt.figure()\n",
    "plt.plot(fpr, tpr, label=f\"ROC curve (AUC = {roc_auc:.2f})\")\n",
    "plt.plot([0, 1], [0, 1], linestyle=\"--\")\n",
    "plt.xlim([0.0, 1.0])\n",
    "plt.ylim([0.0, 1.05])\n",
    "plt.xlabel(\"False Positive Rate\")\n",
    "plt.ylabel(\"True Positive Rate\")\n",
    "plt.title(\"Receiver Operating Characteristic\")\n",
    "plt.legend(loc=\"lower right\")\n",
    "plt.show()"
   ]
  },
  {
   "cell_type": "markdown",
   "metadata": {
    "id": "EGn-0dHByB8G"
   },
   "source": [
    "The AUC-ROC value of 0.61 indicates that the logistic regression model has a fair ability to distinguish between positive and negative cases. AUC-ROC value ranges from 0 to 1, where 0.5 represents a random guess and 1 represents a perfect classifier. The value of 0.61 indicates that the model is better than random guessing but has limited discriminatory power. The ROC curve plots the true positive rate (sensitivity) against the false positive rate (1-specificity), and the AUC-ROC represents the area under this curve. "
   ]
  },
  {
   "cell_type": "markdown",
   "metadata": {
    "id": "B6RxvZvuLvp2"
   },
   "source": [
    "### **Conclusion**<a name=\"conclusion\"></a>"
   ]
  },
  {
   "cell_type": "markdown",
   "metadata": {
    "id": "1TqMR6iBQH6O"
   },
   "source": [
    "In conclusion, logistic regression is a powerful tool for customer churn prediction in the telecom sector.By using performance metrics such as accuracy, precision, recall, F1 score, and ROC-AUC score, we can evaluate the effectiveness of the model and make improvements if necessary. In this particular case, the performance metrics is calculated to assess the accuracy of the model in predicting customer churn. Based on the evaluation metrics, the model has an accuracy of 0.58, indicating that it correctly predicts the churn status of 58% of the customers. The precision score of 0.57 suggests that out of all the customers predicted to churn, only 57% of them will actually churn. The recall score of 0.58 means that out of all the actual churned customers, only 58% of them are correctly identified by the model. The F1-score of 0.57 is the harmonic mean of precision and recall and provides a balanced evaluation of the model's performance. The AUC-ROC score of 0.61 indicates that the model has a moderate ability to distinguish between churned and non-churned customers. Overall, the model may benefit from further refinement to improve its performance."
   ]
  },
  {
   "cell_type": "code",
   "execution_count": null,
   "metadata": {
    "id": "aSYcBv9JsYWx"
   },
   "outputs": [],
   "source": []
  }
 ],
 "metadata": {
  "colab": {
   "provenance": []
  },
  "kernelspec": {
   "display_name": "Python 3 (ipykernel)",
   "language": "python",
   "name": "python3"
  },
  "language_info": {
   "codemirror_mode": {
    "name": "ipython",
    "version": 3
   },
   "file_extension": ".py",
   "mimetype": "text/x-python",
   "name": "python",
   "nbconvert_exporter": "python",
   "pygments_lexer": "ipython3",
   "version": "3.9.13"
  }
 },
 "nbformat": 4,
 "nbformat_minor": 1
}
