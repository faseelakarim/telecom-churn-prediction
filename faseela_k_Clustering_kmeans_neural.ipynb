{
 "cells": [
  {
   "cell_type": "markdown",
   "metadata": {},
   "source": [
    "### Telecom churn prediction:\n",
    "**Faseela K Karim**"
   ]
  },
  {
   "cell_type": "markdown",
   "metadata": {
    "id": "RjWNZ8w6DowB"
   },
   "source": [
    "## Introduction"
   ]
  },
  {
   "cell_type": "markdown",
   "metadata": {
    "id": "Ae8wRujONMXD"
   },
   "source": [
    "In this Jupyter Notebook we use different machine learning and deep learning techniques to predict customer churn.It uses K-means clustering to identify three groups of customers based on their churn behavior. It plots the elbow curve and silhouette score to determine the optimal number of clusters. Then, it trains and evaluates a neural network model with different regularization techniques and early stopping on each group of customers separately. Finally, we compares the performance of the three models based on their test accuracy and loss."
   ]
  },
  {
   "cell_type": "code",
   "execution_count": null,
   "metadata": {
    "id": "mvdG2TbbbrLe"
   },
   "outputs": [],
   "source": [
    "import pandas as pd\n",
    "import numpy as np\n",
    "import matplotlib.pyplot as plt\n",
    "import seaborn as sns\n",
    "%matplotlib inline\n",
    "import statsmodels.api as sm\n",
    "from sklearn.preprocessing import StandardScaler\n",
    "from sklearn.preprocessing import MinMaxScaler\n",
    "from sklearn.cluster import KMeans"
   ]
  },
  {
   "cell_type": "markdown",
   "metadata": {
    "id": "_Xk5YcLnDxGo"
   },
   "source": [
    "Reading Data from Google Drive."
   ]
  },
  {
   "cell_type": "code",
   "execution_count": null,
   "metadata": {
    "colab": {
     "base_uri": "https://localhost:8080/"
    },
    "id": "IWUzs8HfcDv4",
    "outputId": "c5f05f81-3414-4225-ba35-fbcebf339897"
   },
   "outputs": [
    {
     "name": "stdout",
     "output_type": "stream",
     "text": [
      "Mounted at /content/drive\n"
     ]
    }
   ],
   "source": [
    "# from google.colab import drive\n",
    "# drive.mount('/content/drive')"
   ]
  },
  {
   "cell_type": "code",
   "execution_count": null,
   "metadata": {
    "id": "LZs2T2p2Ebyp"
   },
   "outputs": [],
   "source": [
    "# #uploading the dataset\n",
    "# #output of onehot encoding used here,no columns deleted based on collinearity\n",
    "# df_train=pd.read_csv('/content/drive/My Drive/final_capstone/train_data_onehot.csv',index_col=0)\n",
    "# df_test=pd.read_csv('/content/drive/My Drive/final_capstone/test_data_onehot.csv',index_col=0)"
   ]
  },
  {
   "cell_type": "code",
   "execution_count": null,
   "metadata": {
    "id": "hZaKPRzhEwqB"
   },
   "outputs": [],
   "source": [
    "#uploading the dataset\n",
    "df_train=pd.read_csv('data/train_data_onehot.csv',index_col=0)\n",
    "df_test=pd.read_csv('data/test_data_onehot.csv',index_col=0)"
   ]
  },
  {
   "cell_type": "code",
   "execution_count": null,
   "metadata": {
    "id": "R6Hm1ARZFQIs"
   },
   "outputs": [],
   "source": [
    "#seperating target variable from test and train data\n",
    "X_train =df_train.drop('churn',axis=1)\n",
    "X_test=df_test.drop('churn',axis=1)\n",
    "y_train=df_train.churn\n",
    "y_test=df_test.churn"
   ]
  },
  {
   "cell_type": "code",
   "execution_count": null,
   "metadata": {
    "id": "wsWL4EMSsH2q"
   },
   "outputs": [],
   "source": [
    "scaler = StandardScaler()\n",
    "X_train_scaled=scaler.fit_transform(df_train)\n",
    "X_test_scaled=scaler.transform(df_test)"
   ]
  },
  {
   "cell_type": "markdown",
   "metadata": {
    "id": "iHEWKlMSDUyV"
   },
   "source": [
    "### **Trying Different K-means Cluster sizes with inertia**<a name=\"kmean\"></a>\n",
    "\n",
    "---\n",
    "\n"
   ]
  },
  {
   "cell_type": "markdown",
   "metadata": {
    "id": "kgjUnxAIJhfX"
   },
   "source": [
    "Finding the optimal number of clusters involves balancing the reduction in inertia with avoiding overfitting. The elbow point in the inertia plot is typically the best K value. Inertia is a measure of how spread out the clusters are in K-means clustering. It is calculated as the sum of squared distances between each data point and its assigned cluster centroid. A lower inertia value indicates that the data points are closer to their respective cluster centroids, which implies a better fit of the clusters to the data."
   ]
  },
  {
   "cell_type": "code",
   "execution_count": null,
   "metadata": {
    "id": "N9HfReKu--Qy"
   },
   "outputs": [],
   "source": [
    "from sklearn.cluster import KMeans"
   ]
  },
  {
   "cell_type": "code",
   "execution_count": null,
   "metadata": {
    "colab": {
     "base_uri": "https://localhost:8080/"
    },
    "id": "FtFz7qsDcD8g",
    "outputId": "6bd86a2e-7beb-4a7e-b448-0ba7a26ca554"
   },
   "outputs": [
    {
     "name": "stderr",
     "output_type": "stream",
     "text": [
      "/usr/local/lib/python3.9/dist-packages/sklearn/cluster/_kmeans.py:870: FutureWarning: The default value of `n_init` will change from 10 to 'auto' in 1.4. Set the value of `n_init` explicitly to suppress the warning\n",
      "  warnings.warn(\n",
      "/usr/local/lib/python3.9/dist-packages/sklearn/cluster/_kmeans.py:870: FutureWarning: The default value of `n_init` will change from 10 to 'auto' in 1.4. Set the value of `n_init` explicitly to suppress the warning\n",
      "  warnings.warn(\n",
      "/usr/local/lib/python3.9/dist-packages/sklearn/cluster/_kmeans.py:870: FutureWarning: The default value of `n_init` will change from 10 to 'auto' in 1.4. Set the value of `n_init` explicitly to suppress the warning\n",
      "  warnings.warn(\n",
      "/usr/local/lib/python3.9/dist-packages/sklearn/cluster/_kmeans.py:870: FutureWarning: The default value of `n_init` will change from 10 to 'auto' in 1.4. Set the value of `n_init` explicitly to suppress the warning\n",
      "  warnings.warn(\n",
      "/usr/local/lib/python3.9/dist-packages/sklearn/cluster/_kmeans.py:870: FutureWarning: The default value of `n_init` will change from 10 to 'auto' in 1.4. Set the value of `n_init` explicitly to suppress the warning\n",
      "  warnings.warn(\n",
      "/usr/local/lib/python3.9/dist-packages/sklearn/cluster/_kmeans.py:870: FutureWarning: The default value of `n_init` will change from 10 to 'auto' in 1.4. Set the value of `n_init` explicitly to suppress the warning\n",
      "  warnings.warn(\n",
      "/usr/local/lib/python3.9/dist-packages/sklearn/cluster/_kmeans.py:870: FutureWarning: The default value of `n_init` will change from 10 to 'auto' in 1.4. Set the value of `n_init` explicitly to suppress the warning\n",
      "  warnings.warn(\n",
      "/usr/local/lib/python3.9/dist-packages/sklearn/cluster/_kmeans.py:870: FutureWarning: The default value of `n_init` will change from 10 to 'auto' in 1.4. Set the value of `n_init` explicitly to suppress the warning\n",
      "  warnings.warn(\n",
      "/usr/local/lib/python3.9/dist-packages/sklearn/cluster/_kmeans.py:870: FutureWarning: The default value of `n_init` will change from 10 to 'auto' in 1.4. Set the value of `n_init` explicitly to suppress the warning\n",
      "  warnings.warn(\n",
      "/usr/local/lib/python3.9/dist-packages/sklearn/cluster/_kmeans.py:870: FutureWarning: The default value of `n_init` will change from 10 to 'auto' in 1.4. Set the value of `n_init` explicitly to suppress the warning\n",
      "  warnings.warn(\n",
      "/usr/local/lib/python3.9/dist-packages/sklearn/cluster/_kmeans.py:870: FutureWarning: The default value of `n_init` will change from 10 to 'auto' in 1.4. Set the value of `n_init` explicitly to suppress the warning\n",
      "  warnings.warn(\n",
      "/usr/local/lib/python3.9/dist-packages/sklearn/cluster/_kmeans.py:870: FutureWarning: The default value of `n_init` will change from 10 to 'auto' in 1.4. Set the value of `n_init` explicitly to suppress the warning\n",
      "  warnings.warn(\n",
      "/usr/local/lib/python3.9/dist-packages/sklearn/cluster/_kmeans.py:870: FutureWarning: The default value of `n_init` will change from 10 to 'auto' in 1.4. Set the value of `n_init` explicitly to suppress the warning\n",
      "  warnings.warn(\n",
      "/usr/local/lib/python3.9/dist-packages/sklearn/cluster/_kmeans.py:870: FutureWarning: The default value of `n_init` will change from 10 to 'auto' in 1.4. Set the value of `n_init` explicitly to suppress the warning\n",
      "  warnings.warn(\n",
      "/usr/local/lib/python3.9/dist-packages/sklearn/cluster/_kmeans.py:870: FutureWarning: The default value of `n_init` will change from 10 to 'auto' in 1.4. Set the value of `n_init` explicitly to suppress the warning\n",
      "  warnings.warn(\n",
      "/usr/local/lib/python3.9/dist-packages/sklearn/cluster/_kmeans.py:870: FutureWarning: The default value of `n_init` will change from 10 to 'auto' in 1.4. Set the value of `n_init` explicitly to suppress the warning\n",
      "  warnings.warn(\n",
      "/usr/local/lib/python3.9/dist-packages/sklearn/cluster/_kmeans.py:870: FutureWarning: The default value of `n_init` will change from 10 to 'auto' in 1.4. Set the value of `n_init` explicitly to suppress the warning\n",
      "  warnings.warn(\n",
      "/usr/local/lib/python3.9/dist-packages/sklearn/cluster/_kmeans.py:870: FutureWarning: The default value of `n_init` will change from 10 to 'auto' in 1.4. Set the value of `n_init` explicitly to suppress the warning\n",
      "  warnings.warn(\n",
      "/usr/local/lib/python3.9/dist-packages/sklearn/cluster/_kmeans.py:870: FutureWarning: The default value of `n_init` will change from 10 to 'auto' in 1.4. Set the value of `n_init` explicitly to suppress the warning\n",
      "  warnings.warn(\n"
     ]
    }
   ],
   "source": [
    "\n",
    "# Look over a range of K values\n",
    "k_range = np.arange(1, 20)\n",
    "\n",
    "# Instantiate an empty list of inertias\n",
    "inertia_list = []\n",
    "\n",
    "# Iterate over ks\n",
    "for k in k_range:\n",
    "    \n",
    "    # Instantiate\n",
    "    k_means_model = KMeans(n_clusters=k)\n",
    "\n",
    "    # Fit\n",
    "    k_means_model.fit(X_train_scaled)\n",
    "    \n",
    "    # Get inertia and add to list\n",
    "    inertia_list.append(k_means_model.inertia_)  "
   ]
  },
  {
   "cell_type": "code",
   "execution_count": null,
   "metadata": {
    "colab": {
     "base_uri": "https://localhost:8080/",
     "height": 472
    },
    "id": "ddPyI-dpqFFS",
    "outputId": "7852749e-ff02-414d-fd3b-51cfdc337514"
   },
   "outputs": [
    {
     "data": {
      "image/png": "[encoded data removed]",
      "text/plain": [
       "<Figure size 640x480 with 1 Axes>"
      ]
     },
     "metadata": {},
     "output_type": "display_data"
    }
   ],
   "source": [
    "# Visualize\n",
    "plt.figure()\n",
    "plt.plot(k_range, inertia_list, marker=\"o\")\n",
    "plt.xlabel('Number of Clusters')\n",
    "plt.ylabel('Inertia')\n",
    "plt.title('Scree Plot for K-means for Dataset 1')\n",
    "plt.xticks(k_range)\n",
    "plt.show();"
   ]
  },
  {
   "cell_type": "markdown",
   "metadata": {
    "id": "goiwegnUihaV"
   },
   "source": [
    "We can see the knee point lies around 6. But 3-6 is a good range. considering the practicality as well( as increased clusters will reduce number of rows in each cluster, and affect Machine Learning) we can choose 3 for now. "
   ]
  },
  {
   "cell_type": "markdown",
   "metadata": {
    "id": "HmW5enbiCwqW"
   },
   "source": [
    "### **Trying Different Cluster sizes with silhouette_score**<a name=\"sil\"></a>\n",
    "\n",
    "\n",
    "\n",
    "---\n"
   ]
  },
  {
   "cell_type": "markdown",
   "metadata": {
    "id": "JZEFbloYZaKo"
   },
   "source": [
    "Another approach to finding the optimal number of clusters is to use the silhouette score, which measures how well each data point fits into its assigned cluster relative to other clusters. The silhouette score ranges from -1 to 1, with higher values indicating better cluster quality. By trying different cluster sizes and calculating their corresponding silhouette scores, we can identify the cluster size that maximizes the overall silhouette score."
   ]
  },
  {
   "cell_type": "code",
   "execution_count": null,
   "metadata": {
    "colab": {
     "base_uri": "https://localhost:8080/"
    },
    "id": "I3jl8vZoqFH-",
    "outputId": "8cd5d5b0-290a-4683-bb9a-6471a6a97346"
   },
   "outputs": [
    {
     "name": "stderr",
     "output_type": "stream",
     "text": [
      "/usr/local/lib/python3.9/dist-packages/sklearn/cluster/_kmeans.py:870: FutureWarning: The default value of `n_init` will change from 10 to 'auto' in 1.4. Set the value of `n_init` explicitly to suppress the warning\n",
      "  warnings.warn(\n",
      "/usr/local/lib/python3.9/dist-packages/sklearn/cluster/_kmeans.py:870: FutureWarning: The default value of `n_init` will change from 10 to 'auto' in 1.4. Set the value of `n_init` explicitly to suppress the warning\n",
      "  warnings.warn(\n",
      "/usr/local/lib/python3.9/dist-packages/sklearn/cluster/_kmeans.py:870: FutureWarning: The default value of `n_init` will change from 10 to 'auto' in 1.4. Set the value of `n_init` explicitly to suppress the warning\n",
      "  warnings.warn(\n",
      "/usr/local/lib/python3.9/dist-packages/sklearn/cluster/_kmeans.py:870: FutureWarning: The default value of `n_init` will change from 10 to 'auto' in 1.4. Set the value of `n_init` explicitly to suppress the warning\n",
      "  warnings.warn(\n",
      "/usr/local/lib/python3.9/dist-packages/sklearn/cluster/_kmeans.py:870: FutureWarning: The default value of `n_init` will change from 10 to 'auto' in 1.4. Set the value of `n_init` explicitly to suppress the warning\n",
      "  warnings.warn(\n",
      "/usr/local/lib/python3.9/dist-packages/sklearn/cluster/_kmeans.py:870: FutureWarning: The default value of `n_init` will change from 10 to 'auto' in 1.4. Set the value of `n_init` explicitly to suppress the warning\n",
      "  warnings.warn(\n",
      "/usr/local/lib/python3.9/dist-packages/sklearn/cluster/_kmeans.py:870: FutureWarning: The default value of `n_init` will change from 10 to 'auto' in 1.4. Set the value of `n_init` explicitly to suppress the warning\n",
      "  warnings.warn(\n",
      "/usr/local/lib/python3.9/dist-packages/sklearn/cluster/_kmeans.py:870: FutureWarning: The default value of `n_init` will change from 10 to 'auto' in 1.4. Set the value of `n_init` explicitly to suppress the warning\n",
      "  warnings.warn(\n",
      "/usr/local/lib/python3.9/dist-packages/sklearn/cluster/_kmeans.py:870: FutureWarning: The default value of `n_init` will change from 10 to 'auto' in 1.4. Set the value of `n_init` explicitly to suppress the warning\n",
      "  warnings.warn(\n",
      "/usr/local/lib/python3.9/dist-packages/sklearn/cluster/_kmeans.py:870: FutureWarning: The default value of `n_init` will change from 10 to 'auto' in 1.4. Set the value of `n_init` explicitly to suppress the warning\n",
      "  warnings.warn(\n",
      "/usr/local/lib/python3.9/dist-packages/sklearn/cluster/_kmeans.py:870: FutureWarning: The default value of `n_init` will change from 10 to 'auto' in 1.4. Set the value of `n_init` explicitly to suppress the warning\n",
      "  warnings.warn(\n",
      "/usr/local/lib/python3.9/dist-packages/sklearn/cluster/_kmeans.py:870: FutureWarning: The default value of `n_init` will change from 10 to 'auto' in 1.4. Set the value of `n_init` explicitly to suppress the warning\n",
      "  warnings.warn(\n",
      "/usr/local/lib/python3.9/dist-packages/sklearn/cluster/_kmeans.py:870: FutureWarning: The default value of `n_init` will change from 10 to 'auto' in 1.4. Set the value of `n_init` explicitly to suppress the warning\n",
      "  warnings.warn(\n",
      "/usr/local/lib/python3.9/dist-packages/sklearn/cluster/_kmeans.py:870: FutureWarning: The default value of `n_init` will change from 10 to 'auto' in 1.4. Set the value of `n_init` explicitly to suppress the warning\n",
      "  warnings.warn(\n",
      "/usr/local/lib/python3.9/dist-packages/sklearn/cluster/_kmeans.py:870: FutureWarning: The default value of `n_init` will change from 10 to 'auto' in 1.4. Set the value of `n_init` explicitly to suppress the warning\n",
      "  warnings.warn(\n",
      "/usr/local/lib/python3.9/dist-packages/sklearn/cluster/_kmeans.py:870: FutureWarning: The default value of `n_init` will change from 10 to 'auto' in 1.4. Set the value of `n_init` explicitly to suppress the warning\n",
      "  warnings.warn(\n",
      "/usr/local/lib/python3.9/dist-packages/sklearn/cluster/_kmeans.py:870: FutureWarning: The default value of `n_init` will change from 10 to 'auto' in 1.4. Set the value of `n_init` explicitly to suppress the warning\n",
      "  warnings.warn(\n",
      "/usr/local/lib/python3.9/dist-packages/sklearn/cluster/_kmeans.py:870: FutureWarning: The default value of `n_init` will change from 10 to 'auto' in 1.4. Set the value of `n_init` explicitly to suppress the warning\n",
      "  warnings.warn(\n"
     ]
    }
   ],
   "source": [
    "\n",
    "from sklearn.metrics import silhouette_score\n",
    "# Look over a range of K values\n",
    "k_range = np.arange(2, 20)\n",
    "\n",
    "# Instantiate an empty list of silhouette scores\n",
    "silhouette_scores = []\n",
    "\n",
    "# Iterate over ks\n",
    "for k in k_range:\n",
    "    \n",
    "    # Instantiate\n",
    "    k_means_model = KMeans(n_clusters=k)\n",
    "\n",
    "\n",
    "    k_means_model.fit(X_train_scaled)\n",
    "    \n",
    "    # Get cluster labels and calculate silhouette score\n",
    "    cluster_labels = k_means_model.predict(X_train_scaled)\n",
    "    silhouette = silhouette_score(X_train_scaled, cluster_labels)\n",
    "    \n",
    "    # Append to list\n",
    "    silhouette_scores.append(silhouette)"
   ]
  },
  {
   "cell_type": "markdown",
   "metadata": {
    "id": "VgwIs4rLaTgq"
   },
   "source": [
    "We are plotting a scree plot for K-means clustering using the Silhouette coefficient as the evaluation metric. The Silhouette coefficient measures how similar an object is to its own cluster compared to other clusters, and ranges from -1 to 1, where higher values indicate better-defined clusters. We are plotting the silhouette coefficient values against the number of clusters in the K-means algorithm for the Old Faithful dataset. This plot helps us determine the optimal number of clusters by identifying the point where the Silhouette coefficient is the highest, indicating the best clustering solution."
   ]
  },
  {
   "cell_type": "code",
   "execution_count": null,
   "metadata": {
    "colab": {
     "base_uri": "https://localhost:8080/"
    },
    "id": "EJGkgw_33UyJ",
    "outputId": "a5669748-7198-497a-a499-bfdfed67396e"
   },
   "outputs": [
    {
     "data": {
      "image/png": "[encoded data removed]",
      "text/plain": [
       "<Figure size 640x480 with 1 Axes>"
      ]
     },
     "metadata": {},
     "output_type": "display_data"
    }
   ],
   "source": [
    "# plot the silhouette \n",
    "plt.figure()\n",
    "plt.plot(k_range, silhouette_scores, marker=\"o\")\n",
    "plt.xlabel('Number of Clusters')\n",
    "plt.ylabel('Silhouette Coefficients')\n",
    "plt.title('Scree Plot for K-means for Old Faithful')\n",
    "plt.xticks(k_range)\n",
    "plt.show();"
   ]
  },
  {
   "cell_type": "markdown",
   "metadata": {
    "id": "7pJYe9SuadPR"
   },
   "source": [
    "We can see the knee point lies around 6. But 3-6 is a good range. considering the practicality as well( as increased clusters will reduce number of rows in each cluster, and affect Machine Learning) we can choose 3 for now. "
   ]
  },
  {
   "cell_type": "markdown",
   "metadata": {
    "id": "QGsrD6gjCet3"
   },
   "source": [
    "### **K-means Clustering( 3 clusters)**<a name=\"cluster\"></a>\n"
   ]
  },
  {
   "cell_type": "markdown",
   "metadata": {
    "id": "pv3rUwuXbKLX"
   },
   "source": [
    "Here, K-Means clustering is performed on the customer churn data. The goal of clustering is to group customers based on their shared characteristics, such as demographic, behavioral, and transactional data. The dataset is split into a training set and a test set, and the KMeans algorithm is used to cluster the training data into three clusters. The resulting cluster labels are then assigned to the corresponding data points in both the training and test sets. By grouping similar customers together, the clustering model can help to identify common characteristics among customers who are likely to churn."
   ]
  },
  {
   "cell_type": "code",
   "execution_count": null,
   "metadata": {
    "id": "5nhWVLFlKGSB"
   },
   "outputs": [],
   "source": [
    "#save the data frames into a new variable\n",
    "df_test_new=df_test\n",
    "df_train_new=df_train"
   ]
  },
  {
   "cell_type": "code",
   "execution_count": null,
   "metadata": {
    "colab": {
     "base_uri": "https://localhost:8080/",
     "height": 334
    },
    "id": "rajQO9EaqFLC",
    "outputId": "736db382-7751-4da2-dc4d-2868f90c5e0f"
   },
   "outputs": [
    {
     "name": "stderr",
     "output_type": "stream",
     "text": [
      "/usr/local/lib/python3.9/dist-packages/sklearn/cluster/_kmeans.py:870: FutureWarning: The default value of `n_init` will change from 10 to 'auto' in 1.4. Set the value of `n_init` explicitly to suppress the warning\n",
      "  warnings.warn(\n"
     ]
    },
    {
     "data": {
      "text/html": [
       "\n",
       "  <div id=\"df-b928e24d-653f-4f5c-b23d-91a06e12b557\">\n",
       "    <div class=\"colab-df-container\">\n",
       "      <div>\n",
       "<style scoped>\n",
       "    .dataframe tbody tr th:only-of-type {\n",
       "        vertical-align: middle;\n",
       "    }\n",
       "\n",
       "    .dataframe tbody tr th {\n",
       "        vertical-align: top;\n",
       "    }\n",
       "\n",
       "    .dataframe thead th {\n",
       "        text-align: right;\n",
       "    }\n",
       "</style>\n",
       "<table border=\"1\" class=\"dataframe\">\n",
       "  <thead>\n",
       "    <tr style=\"text-align: right;\">\n",
       "      <th></th>\n",
       "      <th>rev_Mean</th>\n",
       "      <th>mou_Mean</th>\n",
       "      <th>totmrc_Mean</th>\n",
       "      <th>da_Mean</th>\n",
       "      <th>ovrmou_Mean</th>\n",
       "      <th>ovrrev_Mean</th>\n",
       "      <th>vceovr_Mean</th>\n",
       "      <th>datovr_Mean</th>\n",
       "      <th>roam_Mean</th>\n",
       "      <th>change_mou</th>\n",
       "      <th>...</th>\n",
       "      <th>ethnic_M</th>\n",
       "      <th>ethnic_N</th>\n",
       "      <th>ethnic_O</th>\n",
       "      <th>ethnic_P</th>\n",
       "      <th>ethnic_R</th>\n",
       "      <th>ethnic_S</th>\n",
       "      <th>ethnic_U</th>\n",
       "      <th>ethnic_X</th>\n",
       "      <th>churn</th>\n",
       "      <th>cluster</th>\n",
       "    </tr>\n",
       "  </thead>\n",
       "  <tbody>\n",
       "    <tr>\n",
       "      <th>0</th>\n",
       "      <td>44.990</td>\n",
       "      <td>366.75</td>\n",
       "      <td>52.49</td>\n",
       "      <td>0.00</td>\n",
       "      <td>0.0</td>\n",
       "      <td>0.000</td>\n",
       "      <td>0.000</td>\n",
       "      <td>0.0</td>\n",
       "      <td>0.0000</td>\n",
       "      <td>31.25</td>\n",
       "      <td>...</td>\n",
       "      <td>0</td>\n",
       "      <td>0</td>\n",
       "      <td>0</td>\n",
       "      <td>0</td>\n",
       "      <td>0</td>\n",
       "      <td>0</td>\n",
       "      <td>0</td>\n",
       "      <td>0</td>\n",
       "      <td>1</td>\n",
       "      <td>0</td>\n",
       "    </tr>\n",
       "    <tr>\n",
       "      <th>1</th>\n",
       "      <td>49.990</td>\n",
       "      <td>115.00</td>\n",
       "      <td>59.99</td>\n",
       "      <td>0.00</td>\n",
       "      <td>0.0</td>\n",
       "      <td>0.000</td>\n",
       "      <td>0.000</td>\n",
       "      <td>0.0</td>\n",
       "      <td>0.0000</td>\n",
       "      <td>-3.00</td>\n",
       "      <td>...</td>\n",
       "      <td>0</td>\n",
       "      <td>0</td>\n",
       "      <td>0</td>\n",
       "      <td>0</td>\n",
       "      <td>0</td>\n",
       "      <td>0</td>\n",
       "      <td>0</td>\n",
       "      <td>0</td>\n",
       "      <td>1</td>\n",
       "      <td>0</td>\n",
       "    </tr>\n",
       "    <tr>\n",
       "      <th>2</th>\n",
       "      <td>30.260</td>\n",
       "      <td>337.75</td>\n",
       "      <td>39.99</td>\n",
       "      <td>0.00</td>\n",
       "      <td>1.5</td>\n",
       "      <td>0.525</td>\n",
       "      <td>0.525</td>\n",
       "      <td>0.0</td>\n",
       "      <td>0.0000</td>\n",
       "      <td>24.25</td>\n",
       "      <td>...</td>\n",
       "      <td>0</td>\n",
       "      <td>0</td>\n",
       "      <td>0</td>\n",
       "      <td>0</td>\n",
       "      <td>0</td>\n",
       "      <td>1</td>\n",
       "      <td>0</td>\n",
       "      <td>0</td>\n",
       "      <td>0</td>\n",
       "      <td>0</td>\n",
       "    </tr>\n",
       "    <tr>\n",
       "      <th>3</th>\n",
       "      <td>49.605</td>\n",
       "      <td>223.25</td>\n",
       "      <td>39.99</td>\n",
       "      <td>0.00</td>\n",
       "      <td>38.0</td>\n",
       "      <td>13.300</td>\n",
       "      <td>13.300</td>\n",
       "      <td>0.0</td>\n",
       "      <td>3.4125</td>\n",
       "      <td>332.75</td>\n",
       "      <td>...</td>\n",
       "      <td>0</td>\n",
       "      <td>0</td>\n",
       "      <td>0</td>\n",
       "      <td>0</td>\n",
       "      <td>0</td>\n",
       "      <td>0</td>\n",
       "      <td>0</td>\n",
       "      <td>0</td>\n",
       "      <td>1</td>\n",
       "      <td>0</td>\n",
       "    </tr>\n",
       "    <tr>\n",
       "      <th>4</th>\n",
       "      <td>51.295</td>\n",
       "      <td>647.50</td>\n",
       "      <td>59.99</td>\n",
       "      <td>0.99</td>\n",
       "      <td>0.0</td>\n",
       "      <td>0.000</td>\n",
       "      <td>0.000</td>\n",
       "      <td>0.0</td>\n",
       "      <td>0.0000</td>\n",
       "      <td>-522.50</td>\n",
       "      <td>...</td>\n",
       "      <td>0</td>\n",
       "      <td>1</td>\n",
       "      <td>0</td>\n",
       "      <td>0</td>\n",
       "      <td>0</td>\n",
       "      <td>0</td>\n",
       "      <td>0</td>\n",
       "      <td>0</td>\n",
       "      <td>1</td>\n",
       "      <td>1</td>\n",
       "    </tr>\n",
       "  </tbody>\n",
       "</table>\n",
       "<p>5 rows × 127 columns</p>\n",
       "</div>\n",
       "      <button class=\"colab-df-convert\" onclick=\"convertToInteractive('df-b928e24d-653f-4f5c-b23d-91a06e12b557')\"\n",
       "              title=\"Convert this dataframe to an interactive table.\"\n",
       "              style=\"display:none;\">\n",
       "        \n",
       "  <svg xmlns=\"http://www.w3.org/2000/svg\" height=\"24px\"viewBox=\"0 0 24 24\"\n",
       "       width=\"24px\">\n",
       "    <path d=\"M0 0h24v24H0V0z\" fill=\"none\"/>\n",
       "    <path d=\"M18.56 5.44l.94 2.06.94-2.06 2.06-.94-2.06-.94-.94-2.06-.94 2.06-2.06.94zm-11 1L8.5 8.5l.94-2.06 2.06-.94-2.06-.94L8.5 2.5l-.94 2.06-2.06.94zm10 10l.94 2.06.94-2.06 2.06-.94-2.06-.94-.94-2.06-.94 2.06-2.06.94z\"/><path d=\"M17.41 7.96l-1.37-1.37c-.4-.4-.92-.59-1.43-.59-.52 0-1.04.2-1.43.59L10.3 9.45l-7.72 7.72c-.78.78-.78 2.05 0 2.83L4 21.41c.39.39.9.59 1.41.59.51 0 1.02-.2 1.41-.59l7.78-7.78 2.81-2.81c.8-.78.8-2.07 0-2.86zM5.41 20L4 18.59l7.72-7.72 1.47 1.35L5.41 20z\"/>\n",
       "  </svg>\n",
       "      </button>\n",
       "      \n",
       "  <style>\n",
       "    .colab-df-container {\n",
       "      display:flex;\n",
       "      flex-wrap:wrap;\n",
       "      gap: 12px;\n",
       "    }\n",
       "\n",
       "    .colab-df-convert {\n",
       "      background-color: #E8F0FE;\n",
       "      border: none;\n",
       "      border-radius: 50%;\n",
       "      cursor: pointer;\n",
       "      display: none;\n",
       "      fill: #1967D2;\n",
       "      height: 32px;\n",
       "      padding: 0 0 0 0;\n",
       "      width: 32px;\n",
       "    }\n",
       "\n",
       "    .colab-df-convert:hover {\n",
       "      background-color: #E2EBFA;\n",
       "      box-shadow: 0px 1px 2px rgba(60, 64, 67, 0.3), 0px 1px 3px 1px rgba(60, 64, 67, 0.15);\n",
       "      fill: #174EA6;\n",
       "    }\n",
       "\n",
       "    [theme=dark] .colab-df-convert {\n",
       "      background-color: #3B4455;\n",
       "      fill: #D2E3FC;\n",
       "    }\n",
       "\n",
       "    [theme=dark] .colab-df-convert:hover {\n",
       "      background-color: #434B5C;\n",
       "      box-shadow: 0px 1px 3px 1px rgba(0, 0, 0, 0.15);\n",
       "      filter: drop-shadow(0px 1px 2px rgba(0, 0, 0, 0.3));\n",
       "      fill: #FFFFFF;\n",
       "    }\n",
       "  </style>\n",
       "\n",
       "      <script>\n",
       "        const buttonEl =\n",
       "          document.querySelector('#df-b928e24d-653f-4f5c-b23d-91a06e12b557 button.colab-df-convert');\n",
       "        buttonEl.style.display =\n",
       "          google.colab.kernel.accessAllowed ? 'block' : 'none';\n",
       "\n",
       "        async function convertToInteractive(key) {\n",
       "          const element = document.querySelector('#df-b928e24d-653f-4f5c-b23d-91a06e12b557');\n",
       "          const dataTable =\n",
       "            await google.colab.kernel.invokeFunction('convertToInteractive',\n",
       "                                                     [key], {});\n",
       "          if (!dataTable) return;\n",
       "\n",
       "          const docLinkHtml = 'Like what you see? Visit the ' +\n",
       "            '<a target=\"_blank\" href=https://colab.research.google.com/notebooks/data_table.ipynb>data table notebook</a>'\n",
       "            + ' to learn more about interactive tables.';\n",
       "          element.innerHTML = '';\n",
       "          dataTable['output_type'] = 'display_data';\n",
       "          await google.colab.output.renderOutput(dataTable, element);\n",
       "          const docLink = document.createElement('div');\n",
       "          docLink.innerHTML = docLinkHtml;\n",
       "          element.appendChild(docLink);\n",
       "        }\n",
       "      </script>\n",
       "    </div>\n",
       "  </div>\n",
       "  "
      ],
      "text/plain": [
       "   rev_Mean  mou_Mean  totmrc_Mean  da_Mean  ovrmou_Mean  ovrrev_Mean  \\\n",
       "0    44.990    366.75        52.49     0.00          0.0        0.000   \n",
       "1    49.990    115.00        59.99     0.00          0.0        0.000   \n",
       "2    30.260    337.75        39.99     0.00          1.5        0.525   \n",
       "3    49.605    223.25        39.99     0.00         38.0       13.300   \n",
       "4    51.295    647.50        59.99     0.99          0.0        0.000   \n",
       "\n",
       "   vceovr_Mean  datovr_Mean  roam_Mean  change_mou  ...  ethnic_M  ethnic_N  \\\n",
       "0        0.000          0.0     0.0000       31.25  ...         0         0   \n",
       "1        0.000          0.0     0.0000       -3.00  ...         0         0   \n",
       "2        0.525          0.0     0.0000       24.25  ...         0         0   \n",
       "3       13.300          0.0     3.4125      332.75  ...         0         0   \n",
       "4        0.000          0.0     0.0000     -522.50  ...         0         1   \n",
       "\n",
       "   ethnic_O  ethnic_P  ethnic_R  ethnic_S  ethnic_U  ethnic_X  churn  cluster  \n",
       "0         0         0         0         0         0         0      1        0  \n",
       "1         0         0         0         0         0         0      1        0  \n",
       "2         0         0         0         1         0         0      0        0  \n",
       "3         0         0         0         0         0         0      1        0  \n",
       "4         0         0         0         0         0         0      1        1  \n",
       "\n",
       "[5 rows x 127 columns]"
      ]
     },
     "execution_count": 12,
     "metadata": {},
     "output_type": "execute_result"
    }
   ],
   "source": [
    "# Perform K-Means clustering\n",
    "kmeans = KMeans(n_clusters=3, random_state=42)\n",
    "df_train_new['cluster'] = kmeans.fit_predict(X_train_scaled)\n",
    "\n",
    "\n",
    "# Print the first few rows of the DataFrame with the cluster labels\n",
    "df_train_new.head()"
   ]
  },
  {
   "cell_type": "markdown",
   "metadata": {
    "id": "8vrWBcYubTqt"
   },
   "source": [
    "This code snippet here assigns cluster labels to the test set using the KMeans model trained on the training set and prints the first few rows of the resulting DataFrame."
   ]
  },
  {
   "cell_type": "code",
   "execution_count": null,
   "metadata": {
    "colab": {
     "base_uri": "https://localhost:8080/",
     "height": 299
    },
    "id": "YQADsPWhlDc5",
    "outputId": "b72778f9-c3ec-4e47-ad07-d0d8489dcebd"
   },
   "outputs": [
    {
     "data": {
      "text/html": [
       "\n",
       "  <div id=\"df-d5adcad5-04e1-4f1c-87b2-046779d03255\">\n",
       "    <div class=\"colab-df-container\">\n",
       "      <div>\n",
       "<style scoped>\n",
       "    .dataframe tbody tr th:only-of-type {\n",
       "        vertical-align: middle;\n",
       "    }\n",
       "\n",
       "    .dataframe tbody tr th {\n",
       "        vertical-align: top;\n",
       "    }\n",
       "\n",
       "    .dataframe thead th {\n",
       "        text-align: right;\n",
       "    }\n",
       "</style>\n",
       "<table border=\"1\" class=\"dataframe\">\n",
       "  <thead>\n",
       "    <tr style=\"text-align: right;\">\n",
       "      <th></th>\n",
       "      <th>rev_Mean</th>\n",
       "      <th>mou_Mean</th>\n",
       "      <th>totmrc_Mean</th>\n",
       "      <th>da_Mean</th>\n",
       "      <th>ovrmou_Mean</th>\n",
       "      <th>ovrrev_Mean</th>\n",
       "      <th>vceovr_Mean</th>\n",
       "      <th>datovr_Mean</th>\n",
       "      <th>roam_Mean</th>\n",
       "      <th>change_mou</th>\n",
       "      <th>...</th>\n",
       "      <th>ethnic_M</th>\n",
       "      <th>ethnic_N</th>\n",
       "      <th>ethnic_O</th>\n",
       "      <th>ethnic_P</th>\n",
       "      <th>ethnic_R</th>\n",
       "      <th>ethnic_S</th>\n",
       "      <th>ethnic_U</th>\n",
       "      <th>ethnic_X</th>\n",
       "      <th>churn</th>\n",
       "      <th>cluster</th>\n",
       "    </tr>\n",
       "  </thead>\n",
       "  <tbody>\n",
       "    <tr>\n",
       "      <th>0</th>\n",
       "      <td>58.1350</td>\n",
       "      <td>401.25</td>\n",
       "      <td>50.00</td>\n",
       "      <td>0.7425</td>\n",
       "      <td>0.00</td>\n",
       "      <td>0.0000</td>\n",
       "      <td>0.0000</td>\n",
       "      <td>0.0</td>\n",
       "      <td>7.3925</td>\n",
       "      <td>87.75</td>\n",
       "      <td>...</td>\n",
       "      <td>0</td>\n",
       "      <td>0</td>\n",
       "      <td>0</td>\n",
       "      <td>0</td>\n",
       "      <td>0</td>\n",
       "      <td>0</td>\n",
       "      <td>0</td>\n",
       "      <td>0</td>\n",
       "      <td>1</td>\n",
       "      <td>1</td>\n",
       "    </tr>\n",
       "    <tr>\n",
       "      <th>1</th>\n",
       "      <td>10.5850</td>\n",
       "      <td>37.25</td>\n",
       "      <td>10.00</td>\n",
       "      <td>0.4950</td>\n",
       "      <td>0.00</td>\n",
       "      <td>0.0000</td>\n",
       "      <td>0.0000</td>\n",
       "      <td>0.0</td>\n",
       "      <td>0.0000</td>\n",
       "      <td>65.75</td>\n",
       "      <td>...</td>\n",
       "      <td>0</td>\n",
       "      <td>0</td>\n",
       "      <td>0</td>\n",
       "      <td>0</td>\n",
       "      <td>0</td>\n",
       "      <td>0</td>\n",
       "      <td>0</td>\n",
       "      <td>0</td>\n",
       "      <td>1</td>\n",
       "      <td>0</td>\n",
       "    </tr>\n",
       "    <tr>\n",
       "      <th>2</th>\n",
       "      <td>79.2650</td>\n",
       "      <td>535.75</td>\n",
       "      <td>49.99</td>\n",
       "      <td>0.0000</td>\n",
       "      <td>118.00</td>\n",
       "      <td>35.4000</td>\n",
       "      <td>35.4000</td>\n",
       "      <td>0.0</td>\n",
       "      <td>0.0000</td>\n",
       "      <td>-364.75</td>\n",
       "      <td>...</td>\n",
       "      <td>0</td>\n",
       "      <td>1</td>\n",
       "      <td>0</td>\n",
       "      <td>0</td>\n",
       "      <td>0</td>\n",
       "      <td>0</td>\n",
       "      <td>0</td>\n",
       "      <td>0</td>\n",
       "      <td>1</td>\n",
       "      <td>1</td>\n",
       "    </tr>\n",
       "    <tr>\n",
       "      <th>3</th>\n",
       "      <td>28.2050</td>\n",
       "      <td>449.00</td>\n",
       "      <td>39.99</td>\n",
       "      <td>0.0000</td>\n",
       "      <td>12.75</td>\n",
       "      <td>4.4625</td>\n",
       "      <td>4.4625</td>\n",
       "      <td>0.0</td>\n",
       "      <td>0.0000</td>\n",
       "      <td>-11.00</td>\n",
       "      <td>...</td>\n",
       "      <td>0</td>\n",
       "      <td>0</td>\n",
       "      <td>0</td>\n",
       "      <td>0</td>\n",
       "      <td>0</td>\n",
       "      <td>0</td>\n",
       "      <td>0</td>\n",
       "      <td>0</td>\n",
       "      <td>0</td>\n",
       "      <td>0</td>\n",
       "    </tr>\n",
       "    <tr>\n",
       "      <th>4</th>\n",
       "      <td>54.4375</td>\n",
       "      <td>769.00</td>\n",
       "      <td>59.99</td>\n",
       "      <td>0.0000</td>\n",
       "      <td>4.75</td>\n",
       "      <td>1.4250</td>\n",
       "      <td>1.4250</td>\n",
       "      <td>0.0</td>\n",
       "      <td>0.5850</td>\n",
       "      <td>4.00</td>\n",
       "      <td>...</td>\n",
       "      <td>0</td>\n",
       "      <td>0</td>\n",
       "      <td>0</td>\n",
       "      <td>0</td>\n",
       "      <td>0</td>\n",
       "      <td>0</td>\n",
       "      <td>0</td>\n",
       "      <td>0</td>\n",
       "      <td>1</td>\n",
       "      <td>1</td>\n",
       "    </tr>\n",
       "  </tbody>\n",
       "</table>\n",
       "<p>5 rows × 127 columns</p>\n",
       "</div>\n",
       "      <button class=\"colab-df-convert\" onclick=\"convertToInteractive('df-d5adcad5-04e1-4f1c-87b2-046779d03255')\"\n",
       "              title=\"Convert this dataframe to an interactive table.\"\n",
       "              style=\"display:none;\">\n",
       "        \n",
       "  <svg xmlns=\"http://www.w3.org/2000/svg\" height=\"24px\"viewBox=\"0 0 24 24\"\n",
       "       width=\"24px\">\n",
       "    <path d=\"M0 0h24v24H0V0z\" fill=\"none\"/>\n",
       "    <path d=\"M18.56 5.44l.94 2.06.94-2.06 2.06-.94-2.06-.94-.94-2.06-.94 2.06-2.06.94zm-11 1L8.5 8.5l.94-2.06 2.06-.94-2.06-.94L8.5 2.5l-.94 2.06-2.06.94zm10 10l.94 2.06.94-2.06 2.06-.94-2.06-.94-.94-2.06-.94 2.06-2.06.94z\"/><path d=\"M17.41 7.96l-1.37-1.37c-.4-.4-.92-.59-1.43-.59-.52 0-1.04.2-1.43.59L10.3 9.45l-7.72 7.72c-.78.78-.78 2.05 0 2.83L4 21.41c.39.39.9.59 1.41.59.51 0 1.02-.2 1.41-.59l7.78-7.78 2.81-2.81c.8-.78.8-2.07 0-2.86zM5.41 20L4 18.59l7.72-7.72 1.47 1.35L5.41 20z\"/>\n",
       "  </svg>\n",
       "      </button>\n",
       "      \n",
       "  <style>\n",
       "    .colab-df-container {\n",
       "      display:flex;\n",
       "      flex-wrap:wrap;\n",
       "      gap: 12px;\n",
       "    }\n",
       "\n",
       "    .colab-df-convert {\n",
       "      background-color: #E8F0FE;\n",
       "      border: none;\n",
       "      border-radius: 50%;\n",
       "      cursor: pointer;\n",
       "      display: none;\n",
       "      fill: #1967D2;\n",
       "      height: 32px;\n",
       "      padding: 0 0 0 0;\n",
       "      width: 32px;\n",
       "    }\n",
       "\n",
       "    .colab-df-convert:hover {\n",
       "      background-color: #E2EBFA;\n",
       "      box-shadow: 0px 1px 2px rgba(60, 64, 67, 0.3), 0px 1px 3px 1px rgba(60, 64, 67, 0.15);\n",
       "      fill: #174EA6;\n",
       "    }\n",
       "\n",
       "    [theme=dark] .colab-df-convert {\n",
       "      background-color: #3B4455;\n",
       "      fill: #D2E3FC;\n",
       "    }\n",
       "\n",
       "    [theme=dark] .colab-df-convert:hover {\n",
       "      background-color: #434B5C;\n",
       "      box-shadow: 0px 1px 3px 1px rgba(0, 0, 0, 0.15);\n",
       "      filter: drop-shadow(0px 1px 2px rgba(0, 0, 0, 0.3));\n",
       "      fill: #FFFFFF;\n",
       "    }\n",
       "  </style>\n",
       "\n",
       "      <script>\n",
       "        const buttonEl =\n",
       "          document.querySelector('#df-d5adcad5-04e1-4f1c-87b2-046779d03255 button.colab-df-convert');\n",
       "        buttonEl.style.display =\n",
       "          google.colab.kernel.accessAllowed ? 'block' : 'none';\n",
       "\n",
       "        async function convertToInteractive(key) {\n",
       "          const element = document.querySelector('#df-d5adcad5-04e1-4f1c-87b2-046779d03255');\n",
       "          const dataTable =\n",
       "            await google.colab.kernel.invokeFunction('convertToInteractive',\n",
       "                                                     [key], {});\n",
       "          if (!dataTable) return;\n",
       "\n",
       "          const docLinkHtml = 'Like what you see? Visit the ' +\n",
       "            '<a target=\"_blank\" href=https://colab.research.google.com/notebooks/data_table.ipynb>data table notebook</a>'\n",
       "            + ' to learn more about interactive tables.';\n",
       "          element.innerHTML = '';\n",
       "          dataTable['output_type'] = 'display_data';\n",
       "          await google.colab.output.renderOutput(dataTable, element);\n",
       "          const docLink = document.createElement('div');\n",
       "          docLink.innerHTML = docLinkHtml;\n",
       "          element.appendChild(docLink);\n",
       "        }\n",
       "      </script>\n",
       "    </div>\n",
       "  </div>\n",
       "  "
      ],
      "text/plain": [
       "   rev_Mean  mou_Mean  totmrc_Mean  da_Mean  ovrmou_Mean  ovrrev_Mean  \\\n",
       "0   58.1350    401.25        50.00   0.7425         0.00       0.0000   \n",
       "1   10.5850     37.25        10.00   0.4950         0.00       0.0000   \n",
       "2   79.2650    535.75        49.99   0.0000       118.00      35.4000   \n",
       "3   28.2050    449.00        39.99   0.0000        12.75       4.4625   \n",
       "4   54.4375    769.00        59.99   0.0000         4.75       1.4250   \n",
       "\n",
       "   vceovr_Mean  datovr_Mean  roam_Mean  change_mou  ...  ethnic_M  ethnic_N  \\\n",
       "0       0.0000          0.0     7.3925       87.75  ...         0         0   \n",
       "1       0.0000          0.0     0.0000       65.75  ...         0         0   \n",
       "2      35.4000          0.0     0.0000     -364.75  ...         0         1   \n",
       "3       4.4625          0.0     0.0000      -11.00  ...         0         0   \n",
       "4       1.4250          0.0     0.5850        4.00  ...         0         0   \n",
       "\n",
       "   ethnic_O  ethnic_P  ethnic_R  ethnic_S  ethnic_U  ethnic_X  churn  cluster  \n",
       "0         0         0         0         0         0         0      1        1  \n",
       "1         0         0         0         0         0         0      1        0  \n",
       "2         0         0         0         0         0         0      1        1  \n",
       "3         0         0         0         0         0         0      0        0  \n",
       "4         0         0         0         0         0         0      1        1  \n",
       "\n",
       "[5 rows x 127 columns]"
      ]
     },
     "execution_count": 13,
     "metadata": {},
     "output_type": "execute_result"
    }
   ],
   "source": [
    "\n",
    "df_test_new['cluster'] = kmeans.predict(X_test_scaled)\n",
    "\n",
    "\n",
    "# Print the first few rows of the DataFrame with the cluster labels\n",
    "df_test_new.head()"
   ]
  },
  {
   "cell_type": "markdown",
   "metadata": {
    "id": "BvPjIMmQKsr4"
   },
   "source": [
    "Print the cluster numbers"
   ]
  },
  {
   "cell_type": "code",
   "execution_count": null,
   "metadata": {
    "colab": {
     "base_uri": "https://localhost:8080/"
    },
    "id": "-dYm5y1KqFOd",
    "outputId": "3f22ecc8-035e-4d12-fddc-3488c3002711"
   },
   "outputs": [
    {
     "data": {
      "text/plain": [
       "array([0, 1, 2], dtype=int32)"
      ]
     },
     "execution_count": 14,
     "metadata": {},
     "output_type": "execute_result"
    }
   ],
   "source": [
    "df_train_new['cluster'].unique()"
   ]
  },
  {
   "cell_type": "code",
   "execution_count": null,
   "metadata": {
    "colab": {
     "base_uri": "https://localhost:8080/"
    },
    "id": "AZvmHeRTlfye",
    "outputId": "c18f91cb-1cdc-4a30-ee25-c09c2b58f803"
   },
   "outputs": [
    {
     "data": {
      "text/plain": [
       "array([1, 0, 2], dtype=int32)"
      ]
     },
     "execution_count": 15,
     "metadata": {},
     "output_type": "execute_result"
    }
   ],
   "source": [
    "df_test_new['cluster'].unique()"
   ]
  },
  {
   "cell_type": "markdown",
   "metadata": {
    "id": "w5LBSLt9_SXr"
   },
   "source": [
    "### **Seperating each Clusters into dataframe**"
   ]
  },
  {
   "cell_type": "markdown",
   "metadata": {
    "id": "YpUUh3Rncgdk"
   },
   "source": [
    "In this section, the clusters obtained from K-Means clustering are separated into individual data frames based on the cluster labels. This allows us to perform separate analyses on each cluster and develop targeted strategies to prevent churn. For example, we can identify the demographic, behavioral, and transactional characteristics of customers in each cluster and compare them to the overall customer population to determine the unique features of each cluster. We can then develop retention strategies specific to each cluster, such as offering personalized incentives, improving customer service, or tailoring marketing campaigns. The separated data frames are used to train and evaluate machine learning models on each cluster individually. This helps to build more accurate models that capture the specific characteristics of each cluster and improve the overall accuracy of customer churn prediction."
   ]
  },
  {
   "cell_type": "markdown",
   "metadata": {
    "id": "4_DhQUvhLRPl"
   },
   "source": [
    "Saving different clusters in different dataframes for test and train data"
   ]
  },
  {
   "cell_type": "code",
   "execution_count": null,
   "metadata": {
    "id": "6e6vZxeASeu3"
   },
   "outputs": [],
   "source": [
    "df_cluster_0=df_train_new[df_train_new['cluster']==0]"
   ]
  },
  {
   "cell_type": "code",
   "execution_count": null,
   "metadata": {
    "id": "1u-ChNaOS-O-"
   },
   "outputs": [],
   "source": [
    "df_cluster_1=df_train_new[df_train_new['cluster']==1]"
   ]
  },
  {
   "cell_type": "code",
   "execution_count": null,
   "metadata": {
    "id": "7jiNZgl8S-Rt"
   },
   "outputs": [],
   "source": [
    "df_cluster_2=df_train_new[df_train_new['cluster']==2]"
   ]
  },
  {
   "cell_type": "code",
   "execution_count": null,
   "metadata": {
    "id": "sONyI9G1lrhr"
   },
   "outputs": [],
   "source": [
    "df_cluster_test_0=df_test_new[df_test_new['cluster']==0]"
   ]
  },
  {
   "cell_type": "code",
   "execution_count": null,
   "metadata": {
    "id": "v5NwZ7ijls3x"
   },
   "outputs": [],
   "source": [
    "df_cluster_test_1=df_test_new[df_test_new['cluster']==1]"
   ]
  },
  {
   "cell_type": "code",
   "execution_count": null,
   "metadata": {
    "id": "4YVwu509ls7E"
   },
   "outputs": [],
   "source": [
    "df_cluster_test_2=df_test_new[df_test_new['cluster']==2]"
   ]
  },
  {
   "cell_type": "markdown",
   "metadata": {
    "id": "b5dr_4_YLfK8"
   },
   "source": [
    "Splitting the cluster specific data frames into target variable and other independent variables"
   ]
  },
  {
   "cell_type": "code",
   "execution_count": null,
   "metadata": {
    "id": "_9biSXqzmUI4"
   },
   "outputs": [],
   "source": [
    "X_test_0=df_cluster_test_0.drop('churn',axis=1)\n",
    "y_test_0=df_cluster_test_0.churn"
   ]
  },
  {
   "cell_type": "code",
   "execution_count": null,
   "metadata": {
    "id": "G0hmPJbumUMc"
   },
   "outputs": [],
   "source": [
    "X_test_1=df_cluster_test_1.drop('churn',axis=1)\n",
    "y_test_1=df_cluster_test_1.churn"
   ]
  },
  {
   "cell_type": "code",
   "execution_count": null,
   "metadata": {
    "id": "SKSY1_d8mUR8"
   },
   "outputs": [],
   "source": [
    "X_test_2=df_cluster_test_2.drop('churn',axis=1)\n",
    "y_test_2=df_cluster_test_2.churn"
   ]
  },
  {
   "cell_type": "markdown",
   "metadata": {
    "id": "IbUkEM7Mbnbq"
   },
   "source": [
    "These lines of code below are creating three separate dataframes for the training data, one for each cluster, with the features and target variable separated into X and y respectively."
   ]
  },
  {
   "cell_type": "code",
   "execution_count": null,
   "metadata": {
    "id": "pykd5ggXeKlm"
   },
   "outputs": [],
   "source": [
    "X_train_0=df_cluster_0.drop('churn',axis=1)\n",
    "y_train_0=df_cluster_0.churn"
   ]
  },
  {
   "cell_type": "code",
   "execution_count": null,
   "metadata": {
    "id": "d3_J-45GeKpP"
   },
   "outputs": [],
   "source": [
    "X_train_1=df_cluster_1.drop('churn',axis=1)\n",
    "y_train_1=df_cluster_1.churn"
   ]
  },
  {
   "cell_type": "code",
   "execution_count": null,
   "metadata": {
    "id": "WQ1keXNleKsu"
   },
   "outputs": [],
   "source": [
    "X_train_2=df_cluster_2.drop('churn',axis=1)\n",
    "y_train_2=df_cluster_2.churn"
   ]
  },
  {
   "cell_type": "markdown",
   "metadata": {
    "id": "lK-JYW6k5UVB"
   },
   "source": [
    "### **Scaling Cluster dfs**"
   ]
  },
  {
   "cell_type": "markdown",
   "metadata": {
    "id": "kbClgce4OBUy"
   },
   "source": [
    "The below given code is performing feature scaling on the data of three clusters, each of which represents a different customer segment. StandardScaler() from Scikit-learn is used to standardize the features of each cluster. The scaled data is saved in X_train_0_scaled, X_test_0_scaled for cluster 0, X_train_1_scaled, X_test_1_scaled for cluster 1 and X_train_2_scaled, X_test_2_scaled for cluster 2. The shapes of X_train_0, X_train_1 and X_train_2 are printed to check the number of samples and features in each cluster.\n",
    "\n",
    "\n",
    "\n"
   ]
  },
  {
   "cell_type": "code",
   "execution_count": null,
   "metadata": {
    "id": "jOrK4nR9rstO"
   },
   "outputs": [],
   "source": [
    "scaler_cluster_0 = StandardScaler()\n",
    "X_train_0_scaled=scaler_cluster_0.fit_transform(X_train_0)\n",
    "X_test_0_scaled=scaler_cluster_0.transform(X_test_0)"
   ]
  },
  {
   "cell_type": "code",
   "execution_count": null,
   "metadata": {
    "id": "H7C4Lr7yqnfV"
   },
   "outputs": [],
   "source": [
    "scaler_cluster_1 = StandardScaler()\n",
    "X_train_1_scaled=scaler_cluster_1.fit_transform(X_train_1)\n",
    "X_test_1_scaled=scaler_cluster_1.transform(X_test_1)"
   ]
  },
  {
   "cell_type": "code",
   "execution_count": null,
   "metadata": {
    "id": "m3PtN9NErYj1"
   },
   "outputs": [],
   "source": [
    "scaler_cluster_2 = StandardScaler()\n",
    "X_train_2_scaled=scaler_cluster_2.fit_transform(X_train_2)\n",
    "X_test_2_scaled=scaler_cluster_2.transform(X_test_2)"
   ]
  },
  {
   "cell_type": "markdown",
   "metadata": {
    "id": "YDXquVKbMLSR"
   },
   "source": [
    "Checking the shape of different cluster dataframes"
   ]
  },
  {
   "cell_type": "code",
   "execution_count": null,
   "metadata": {
    "colab": {
     "base_uri": "https://localhost:8080/"
    },
    "id": "SAZzV7sppiMt",
    "outputId": "6c50941a-1fbc-421f-8bac-17bbf7de3fa5"
   },
   "outputs": [
    {
     "data": {
      "text/plain": [
       "(49708, 126)"
      ]
     },
     "execution_count": 32,
     "metadata": {},
     "output_type": "execute_result"
    }
   ],
   "source": [
    "X_train_0.shape"
   ]
  },
  {
   "cell_type": "code",
   "execution_count": null,
   "metadata": {
    "colab": {
     "base_uri": "https://localhost:8080/"
    },
    "id": "P7rDfQ0QpiJP",
    "outputId": "16df8ce1-0afb-404f-a7c6-3f97c22a601c"
   },
   "outputs": [
    {
     "data": {
      "text/plain": [
       "(21326, 126)"
      ]
     },
     "execution_count": 33,
     "metadata": {},
     "output_type": "execute_result"
    }
   ],
   "source": [
    "X_train_1.shape"
   ]
  },
  {
   "cell_type": "code",
   "execution_count": null,
   "metadata": {
    "colab": {
     "base_uri": "https://localhost:8080/"
    },
    "id": "D0JbJV_RpiEm",
    "outputId": "63aa37c1-217b-40f2-9e03-6c4d5e4eab70"
   },
   "outputs": [
    {
     "data": {
      "text/plain": [
       "(3966, 126)"
      ]
     },
     "execution_count": 34,
     "metadata": {},
     "output_type": "execute_result"
    }
   ],
   "source": [
    "X_train_2.shape"
   ]
  },
  {
   "cell_type": "markdown",
   "metadata": {
    "id": "HlLOc2sx0yQ8"
   },
   "source": [
    "### **Importing Neural Network Libraries**"
   ]
  },
  {
   "cell_type": "code",
   "execution_count": null,
   "metadata": {
    "id": "a4lUcExQS-eG"
   },
   "outputs": [],
   "source": [
    "import tensorflow as tf\n",
    "from tensorflow import keras\n",
    "from tensorflow.keras import layers\n",
    "from tensorflow.keras.models import Sequential\n",
    "from tensorflow.keras.layers import Dense\n",
    "from tensorflow.keras.metrics import MeanAbsoluteError\n",
    "from tensorflow.keras.callbacks import EarlyStopping\n",
    "from tensorflow.keras import regularizers\n",
    "from sklearn.metrics import confusion_matrix\n",
    "from sklearn.metrics import classification_report"
   ]
  },
  {
   "cell_type": "markdown",
   "metadata": {
    "id": "J7CzmbQtzyrp"
   },
   "source": [
    "### **Trying Neural networks on different clusters**\n",
    "\n",
    "In this code snippet, we are trying out different neural network models to predict customer churn. Overall, we are experimenting with different neural network architectures and hyperparameters to identify the best model for predicting customer churn."
   ]
  },
  {
   "cell_type": "markdown",
   "metadata": {
    "id": "rCpyyVQWOh-h"
   },
   "source": [
    "\n",
    "First, we create a simple neural network model with four hidden layers and one output layer. We compile the model with binary cross-entropy loss and accuracy metrics, and train it on the preprocessed training data for 10 epochs. We then evaluate the model on the test set and print the test loss and test accuracy."
   ]
  },
  {
   "cell_type": "code",
   "execution_count": null,
   "metadata": {
    "colab": {
     "base_uri": "https://localhost:8080/"
    },
    "id": "eWppxrj5Seyv",
    "outputId": "222a899b-1b82-44fa-c141-96ddec87d60c"
   },
   "outputs": [
    {
     "name": "stdout",
     "output_type": "stream",
     "text": [
      "Epoch 1/10\n",
      "600/600 [==============================] - 5s 5ms/step - loss: 0.6891 - accuracy: 0.5471 - val_loss: 0.6745 - val_accuracy: 0.5692\n",
      "Epoch 2/10\n",
      "600/600 [==============================] - 2s 3ms/step - loss: 0.6733 - accuracy: 0.5883 - val_loss: 0.6726 - val_accuracy: 0.5818\n",
      "Epoch 3/10\n",
      "600/600 [==============================] - 2s 3ms/step - loss: 0.6655 - accuracy: 0.5968 - val_loss: 0.6715 - val_accuracy: 0.5738\n",
      "Epoch 4/10\n",
      "600/600 [==============================] - 2s 3ms/step - loss: 0.6607 - accuracy: 0.6040 - val_loss: 0.6667 - val_accuracy: 0.5968\n",
      "Epoch 5/10\n",
      "600/600 [==============================] - 2s 3ms/step - loss: 0.6550 - accuracy: 0.6133 - val_loss: 0.6674 - val_accuracy: 0.5921\n",
      "Epoch 6/10\n",
      "600/600 [==============================] - 2s 3ms/step - loss: 0.6484 - accuracy: 0.6177 - val_loss: 0.6686 - val_accuracy: 0.5921\n",
      "Epoch 7/10\n",
      "600/600 [==============================] - 3s 5ms/step - loss: 0.6411 - accuracy: 0.6290 - val_loss: 0.6707 - val_accuracy: 0.5902\n",
      "Epoch 8/10\n",
      "600/600 [==============================] - 2s 4ms/step - loss: 0.6370 - accuracy: 0.6328 - val_loss: 0.6762 - val_accuracy: 0.5837\n",
      "Epoch 9/10\n",
      "600/600 [==============================] - 2s 3ms/step - loss: 0.6265 - accuracy: 0.6459 - val_loss: 0.6812 - val_accuracy: 0.5762\n",
      "Epoch 10/10\n",
      "600/600 [==============================] - 2s 3ms/step - loss: 0.6216 - accuracy: 0.6475 - val_loss: 0.6796 - val_accuracy: 0.5818\n",
      "222/222 [==============================] - 0s 2ms/step - loss: 0.6713 - accuracy: 0.5994\n",
      "Test Loss: 0.6712818741798401, Test Accuracy: 0.5993797779083252\n"
     ]
    }
   ],
   "source": [
    "#Create a simple neural network model\n",
    "model = tf.keras.Sequential([\n",
    "    tf.keras.layers.Dense(128, activation='relu', input_shape=(126,)),\n",
    "    tf.keras.layers.Dropout(0.2),\n",
    "    tf.keras.layers.Dense(256, activation='relu'),\n",
    "    tf.keras.layers.Dropout(0.2),\n",
    "    tf.keras.layers.Dense(128, activation='relu'),\n",
    "    tf.keras.layers.Dropout(0.2),\n",
    "    tf.keras.layers.Dense(64, activation='relu'),\n",
    "    tf.keras.layers.Dropout(0.2),\n",
    "    tf.keras.layers.Dense(1, activation='sigmoid')\n",
    "])\n",
    "\n",
    "# Compile the model\n",
    "model.compile(optimizer='adam', loss='binary_crossentropy', metrics=['accuracy'])\n",
    "\n",
    "# Train the model\n",
    "model.fit(X_train_1_scaled, y_train_1, epochs=10, batch_size=32, validation_split=0.1)\n",
    "\n",
    "# Evaluate the model on the test set\n",
    "test_loss, test_accuracy = model.evaluate(X_test_1_scaled, y_test_1)\n",
    "print(f'Test Loss: {test_loss}, Test Accuracy: {test_accuracy}')\n"
   ]
  },
  {
   "cell_type": "markdown",
   "metadata": {
    "id": "EyihsrSwNs7o"
   },
   "source": [
    "Now we can try neural network model by adding cluster labels as an additional feature in the dataframe"
   ]
  },
  {
   "cell_type": "code",
   "execution_count": null,
   "metadata": {
    "id": "9C86U-xivvUP"
   },
   "outputs": [],
   "source": [
    "df_cluster_train=df_train_new.drop('churn',axis=1)\n",
    "df_cluster_test=df_test_new.drop('churn',axis=1)\n",
    "scaler_cluster = StandardScaler()\n",
    "cluster_train_scaled=scaler_cluster.fit_transform(df_cluster_train)\n",
    "cluster_test_scaled=scaler_cluster.transform(df_cluster_test)"
   ]
  },
  {
   "cell_type": "markdown",
   "metadata": {
    "id": "QlXWFedDO9WY"
   },
   "source": [
    "Next, we preprocess the training and test data again, this time adding the cluster label as a feature. We then create another neural network model with the same architecture as before, but with added regularization to prevent overfitting. We compile the model with binary cross-entropy loss and accuracy metrics, and train it on the preprocessed training data for 200 epochs with early stopping to prevent overfitting. We evaluate the model on the test set and print the test loss and test accuracy."
   ]
  },
  {
   "cell_type": "code",
   "execution_count": null,
   "metadata": {
    "colab": {
     "base_uri": "https://localhost:8080/"
    },
    "id": "NpRlb3qks-Ls",
    "outputId": "e0dc320e-4214-4135-cd78-52926f88361a"
   },
   "outputs": [
    {
     "name": "stdout",
     "output_type": "stream",
     "text": [
      "Epoch 1/200\n",
      "2110/2110 [==============================] - 12s 4ms/step - loss: 0.8041 - accuracy: 0.5715 - val_loss: 0.6866 - val_accuracy: 0.5836\n",
      "Epoch 2/200\n",
      "2110/2110 [==============================] - 8s 4ms/step - loss: 0.6841 - accuracy: 0.5871 - val_loss: 0.6816 - val_accuracy: 0.5877\n",
      "Epoch 3/200\n",
      "2110/2110 [==============================] - 7s 4ms/step - loss: 0.6809 - accuracy: 0.5909 - val_loss: 0.6786 - val_accuracy: 0.5872\n",
      "Epoch 4/200\n",
      "2110/2110 [==============================] - 8s 4ms/step - loss: 0.6794 - accuracy: 0.5942 - val_loss: 0.6796 - val_accuracy: 0.5895\n",
      "Epoch 5/200\n",
      "2110/2110 [==============================] - 8s 4ms/step - loss: 0.6783 - accuracy: 0.5929 - val_loss: 0.6762 - val_accuracy: 0.5968\n",
      "Epoch 6/200\n",
      "2110/2110 [==============================] - 8s 4ms/step - loss: 0.6775 - accuracy: 0.5952 - val_loss: 0.6768 - val_accuracy: 0.5905\n",
      "Epoch 7/200\n",
      "2110/2110 [==============================] - 8s 4ms/step - loss: 0.6766 - accuracy: 0.5977 - val_loss: 0.6753 - val_accuracy: 0.5943\n",
      "Epoch 8/200\n",
      "2110/2110 [==============================] - 8s 4ms/step - loss: 0.6762 - accuracy: 0.5985 - val_loss: 0.6768 - val_accuracy: 0.5916\n",
      "Epoch 9/200\n",
      "2110/2110 [==============================] - 8s 4ms/step - loss: 0.6755 - accuracy: 0.5992 - val_loss: 0.6759 - val_accuracy: 0.5939\n",
      "Epoch 10/200\n",
      "2110/2110 [==============================] - 8s 4ms/step - loss: 0.6755 - accuracy: 0.5996 - val_loss: 0.6750 - val_accuracy: 0.6000\n",
      "Epoch 11/200\n",
      "2110/2110 [==============================] - 12s 6ms/step - loss: 0.6752 - accuracy: 0.6003 - val_loss: 0.6760 - val_accuracy: 0.5941\n",
      "Epoch 12/200\n",
      "2110/2110 [==============================] - 9s 4ms/step - loss: 0.6740 - accuracy: 0.6025 - val_loss: 0.6782 - val_accuracy: 0.5944\n",
      "Epoch 13/200\n",
      "2110/2110 [==============================] - 9s 4ms/step - loss: 0.6743 - accuracy: 0.6026 - val_loss: 0.6734 - val_accuracy: 0.5993\n",
      "Epoch 14/200\n",
      "2110/2110 [==============================] - 8s 4ms/step - loss: 0.6741 - accuracy: 0.6023 - val_loss: 0.6743 - val_accuracy: 0.5997\n",
      "Epoch 15/200\n",
      "2110/2110 [==============================] - 7s 3ms/step - loss: 0.6734 - accuracy: 0.6031 - val_loss: 0.6720 - val_accuracy: 0.6017\n",
      "Epoch 16/200\n",
      "2110/2110 [==============================] - 9s 4ms/step - loss: 0.6733 - accuracy: 0.6024 - val_loss: 0.6758 - val_accuracy: 0.5981\n",
      "Epoch 17/200\n",
      "2110/2110 [==============================] - 7s 3ms/step - loss: 0.6734 - accuracy: 0.6046 - val_loss: 0.6777 - val_accuracy: 0.5948\n",
      "Epoch 18/200\n",
      "2110/2110 [==============================] - 9s 4ms/step - loss: 0.6737 - accuracy: 0.6029 - val_loss: 0.6717 - val_accuracy: 0.6023\n",
      "Epoch 19/200\n",
      "2110/2110 [==============================] - 7s 3ms/step - loss: 0.6732 - accuracy: 0.6050 - val_loss: 0.6771 - val_accuracy: 0.5991\n",
      "Epoch 20/200\n",
      "2110/2110 [==============================] - 9s 4ms/step - loss: 0.6731 - accuracy: 0.6028 - val_loss: 0.6722 - val_accuracy: 0.6000\n",
      "Epoch 21/200\n",
      "2110/2110 [==============================] - 8s 4ms/step - loss: 0.6729 - accuracy: 0.6053 - val_loss: 0.6768 - val_accuracy: 0.5936\n",
      "Epoch 22/200\n",
      "2110/2110 [==============================] - 8s 4ms/step - loss: 0.6735 - accuracy: 0.6051 - val_loss: 0.6737 - val_accuracy: 0.5996\n",
      "Epoch 23/200\n",
      "2110/2110 [==============================] - 10s 5ms/step - loss: 0.6736 - accuracy: 0.6040 - val_loss: 0.6740 - val_accuracy: 0.5956\n",
      "Epoch 24/200\n",
      "2110/2110 [==============================] - 13s 6ms/step - loss: 0.6737 - accuracy: 0.6025 - val_loss: 0.6738 - val_accuracy: 0.6031\n",
      "Epoch 25/200\n",
      "2110/2110 [==============================] - 8s 4ms/step - loss: 0.6735 - accuracy: 0.6040 - val_loss: 0.6748 - val_accuracy: 0.6004\n",
      "Epoch 26/200\n",
      "2110/2110 [==============================] - 12s 5ms/step - loss: 0.6734 - accuracy: 0.6057 - val_loss: 0.6752 - val_accuracy: 0.5933\n",
      "Epoch 27/200\n",
      "2110/2110 [==============================] - 10s 5ms/step - loss: 0.6729 - accuracy: 0.6052 - val_loss: 0.6722 - val_accuracy: 0.6047\n",
      "Epoch 28/200\n",
      "2110/2110 [==============================] - 8s 4ms/step - loss: 0.6731 - accuracy: 0.6033 - val_loss: 0.6731 - val_accuracy: 0.6043\n",
      "782/782 [==============================] - 1s 2ms/step - loss: 0.6718 - accuracy: 0.6014\n",
      "Test Loss: 0.6718384623527527, Test Accuracy: 0.601360023021698\n"
     ]
    }
   ],
   "source": [
    "#TRYING WITH CLUSTER LABEL AS A FEATURE\n",
    "# Try some methods such as early stopping and different regularizers. \n",
    "#Create a simple neural network model with regularization\n",
    "model = tf.keras.Sequential([\n",
    "    tf.keras.layers.Dense(128, activation='relu', input_shape=(126,), kernel_regularizer=tf.keras.regularizers.l2(0.001)),\n",
    "    tf.keras.layers.Dropout(0.2),\n",
    "    tf.keras.layers.Dense(256, activation='relu', kernel_regularizer=tf.keras.regularizers.l2(0.001)),\n",
    "    tf.keras.layers.Dropout(0.2),\n",
    "    tf.keras.layers.Dense(128, activation='relu', kernel_regularizer=tf.keras.regularizers.l2(0.001)),\n",
    "    tf.keras.layers.Dropout(0.2),\n",
    "    tf.keras.layers.Dense(64, activation='relu', kernel_regularizer=tf.keras.regularizers.l2(0.001)),\n",
    "    tf.keras.layers.Dropout(0.2),\n",
    "    tf.keras.layers.Dense(1, activation='sigmoid')\n",
    "])\n",
    "\n",
    "# Compile the model\n",
    "model.compile(optimizer='adam', loss='binary_crossentropy', metrics=['accuracy'])\n",
    "\n",
    "# Define callbacks for early stopping\n",
    "early_stopping = tf.keras.callbacks.EarlyStopping(patience=10)\n",
    "\n",
    "# Train the model with early stopping\n",
    "history = model.fit(cluster_train_scaled, y_train, epochs=200, batch_size=32, validation_split=0.1, callbacks=[early_stopping])\n",
    "\n",
    "# Evaluate the model on the test set\n",
    "test_loss, test_accuracy = model.evaluate(cluster_test_scaled, y_test)\n",
    "print(f'Test Loss: {test_loss}, Test Accuracy: {test_accuracy}')\n",
    "\n",
    "\n",
    "\n"
   ]
  },
  {
   "cell_type": "markdown",
   "metadata": {
    "id": "PIPkY6YzPxVz"
   },
   "source": [
    "Try some methods such as early stopping and different regularizers."
   ]
  },
  {
   "cell_type": "code",
   "execution_count": null,
   "metadata": {
    "colab": {
     "base_uri": "https://localhost:8080/"
    },
    "id": "1JDCR1pwPYX_",
    "outputId": "5f1aaed0-e9f9-437a-e6b0-f932de5bb2a3"
   },
   "outputs": [
    {
     "name": "stdout",
     "output_type": "stream",
     "text": [
      "Epoch 1/200\n",
      "1670/1670 [==============================] - 10s 5ms/step - loss: 0.8176 - accuracy: 0.5815 - val_loss: 0.6900 - val_accuracy: 0.5911\n",
      "Epoch 2/200\n",
      "1670/1670 [==============================] - 7s 4ms/step - loss: 0.6817 - accuracy: 0.5981 - val_loss: 0.6769 - val_accuracy: 0.6004\n",
      "Epoch 3/200\n",
      "1670/1670 [==============================] - 8s 5ms/step - loss: 0.6766 - accuracy: 0.5995 - val_loss: 0.6758 - val_accuracy: 0.6068\n",
      "Epoch 4/200\n",
      "1670/1670 [==============================] - 9s 5ms/step - loss: 0.6747 - accuracy: 0.6042 - val_loss: 0.6704 - val_accuracy: 0.6051\n",
      "Epoch 5/200\n",
      "1670/1670 [==============================] - 7s 4ms/step - loss: 0.6730 - accuracy: 0.6051 - val_loss: 0.6715 - val_accuracy: 0.6044\n",
      "Epoch 6/200\n",
      "1670/1670 [==============================] - 8s 5ms/step - loss: 0.6717 - accuracy: 0.6061 - val_loss: 0.6716 - val_accuracy: 0.6026\n",
      "Epoch 7/200\n",
      "1670/1670 [==============================] - 7s 4ms/step - loss: 0.6707 - accuracy: 0.6043 - val_loss: 0.6719 - val_accuracy: 0.6037\n",
      "Epoch 8/200\n",
      "1670/1670 [==============================] - 8s 5ms/step - loss: 0.6708 - accuracy: 0.6061 - val_loss: 0.6678 - val_accuracy: 0.6071\n",
      "Epoch 9/200\n",
      "1670/1670 [==============================] - 8s 5ms/step - loss: 0.6688 - accuracy: 0.6077 - val_loss: 0.6684 - val_accuracy: 0.6064\n",
      "Epoch 10/200\n",
      "1670/1670 [==============================] - 7s 4ms/step - loss: 0.6693 - accuracy: 0.6090 - val_loss: 0.6686 - val_accuracy: 0.6105\n",
      "Epoch 11/200\n",
      "1670/1670 [==============================] - 8s 5ms/step - loss: 0.6688 - accuracy: 0.6102 - val_loss: 0.6703 - val_accuracy: 0.6044\n",
      "Epoch 12/200\n",
      "1670/1670 [==============================] - 7s 4ms/step - loss: 0.6680 - accuracy: 0.6116 - val_loss: 0.6706 - val_accuracy: 0.6063\n",
      "Epoch 13/200\n",
      "1670/1670 [==============================] - 8s 5ms/step - loss: 0.6685 - accuracy: 0.6132 - val_loss: 0.6697 - val_accuracy: 0.6103\n",
      "Epoch 14/200\n",
      "1670/1670 [==============================] - 8s 5ms/step - loss: 0.6678 - accuracy: 0.6140 - val_loss: 0.6652 - val_accuracy: 0.6135\n",
      "Epoch 15/200\n",
      "1670/1670 [==============================] - 7s 4ms/step - loss: 0.6676 - accuracy: 0.6128 - val_loss: 0.6672 - val_accuracy: 0.6120\n",
      "Epoch 16/200\n",
      "1670/1670 [==============================] - 8s 5ms/step - loss: 0.6669 - accuracy: 0.6137 - val_loss: 0.6685 - val_accuracy: 0.6090\n",
      "Epoch 17/200\n",
      "1670/1670 [==============================] - 7s 4ms/step - loss: 0.6669 - accuracy: 0.6124 - val_loss: 0.6704 - val_accuracy: 0.6029\n",
      "Epoch 18/200\n",
      "1670/1670 [==============================] - 8s 5ms/step - loss: 0.6661 - accuracy: 0.6151 - val_loss: 0.6689 - val_accuracy: 0.6110\n",
      "Epoch 19/200\n",
      "1670/1670 [==============================] - 8s 5ms/step - loss: 0.6663 - accuracy: 0.6137 - val_loss: 0.6692 - val_accuracy: 0.6125\n",
      "Epoch 20/200\n",
      "1670/1670 [==============================] - 8s 5ms/step - loss: 0.6670 - accuracy: 0.6106 - val_loss: 0.6680 - val_accuracy: 0.6132\n",
      "Epoch 21/200\n",
      "1670/1670 [==============================] - 8s 5ms/step - loss: 0.6662 - accuracy: 0.6146 - val_loss: 0.6740 - val_accuracy: 0.6019\n",
      "Epoch 22/200\n",
      "1670/1670 [==============================] - 7s 4ms/step - loss: 0.6649 - accuracy: 0.6151 - val_loss: 0.6656 - val_accuracy: 0.6122\n",
      "Epoch 23/200\n",
      "1670/1670 [==============================] - 8s 5ms/step - loss: 0.6667 - accuracy: 0.6139 - val_loss: 0.6657 - val_accuracy: 0.6078\n",
      "Epoch 24/200\n",
      "1670/1670 [==============================] - 7s 4ms/step - loss: 0.6661 - accuracy: 0.6158 - val_loss: 0.6703 - val_accuracy: 0.6111\n",
      "205/205 [==============================] - 0s 2ms/step - loss: 0.6618 - accuracy: 0.6218\n",
      "Test Loss: 0.6618028879165649, Test Accuracy: 0.6218487620353699\n"
     ]
    }
   ],
   "source": [
    "# Try some methods such as early stopping and different regularizers. \n",
    "#Create a simple neural network model with regularization\n",
    "model = tf.keras.Sequential([\n",
    "    tf.keras.layers.Dense(128, activation='relu', input_shape=(126,), kernel_regularizer=tf.keras.regularizers.l2(0.001)),\n",
    "    tf.keras.layers.Dropout(0.2),\n",
    "    tf.keras.layers.Dense(256, activation='relu', kernel_regularizer=tf.keras.regularizers.l2(0.001)),\n",
    "    tf.keras.layers.Dropout(0.2),\n",
    "    tf.keras.layers.Dense(128, activation='relu', kernel_regularizer=tf.keras.regularizers.l2(0.001)),\n",
    "    tf.keras.layers.Dropout(0.2),\n",
    "    tf.keras.layers.Dense(64, activation='relu', kernel_regularizer=tf.keras.regularizers.l2(0.001)),\n",
    "    tf.keras.layers.Dropout(0.2),\n",
    "    tf.keras.layers.Dense(1, activation='sigmoid')\n",
    "])\n",
    "\n",
    "# Compile the model\n",
    "model.compile(optimizer='adam', loss='binary_crossentropy', metrics=['accuracy'])\n",
    "\n",
    "# Define callbacks for early stopping\n",
    "early_stopping = tf.keras.callbacks.EarlyStopping(patience=10)\n",
    "\n",
    "# Train the model with early stopping\n",
    "history = model.fit(X_train_0_scaled, y_train_0, epochs=200, batch_size=32, validation_split=0.1, callbacks=[early_stopping])\n",
    "\n",
    "# Evaluate the model on the test set\n",
    "test_loss, test_accuracy = model.evaluate(X_test_0_scaled, y_test_0)\n",
    "print(f'Test Loss: {test_loss}, Test Accuracy: {test_accuracy}')\n",
    "\n"
   ]
  },
  {
   "cell_type": "markdown",
   "metadata": {
    "id": "TVs8JSF3ze01"
   },
   "source": [
    "## Function for Neural network Training."
   ]
  },
  {
   "cell_type": "markdown",
   "metadata": {
    "id": "e9zr0OveVOkE"
   },
   "source": [
    "This code defines a function for training a neural network on the customer churn dataset. The function takes in the preprocessed training and test data sets as input, creates a sequential neural network model with four hidden layers and one output layer, compiles the model with binary cross-entropy loss and accuracy metrics, trains the model on the training data for 15 epochs, and evaluates the model on the test set. The trained model, test loss, and test accuracy are returned as output from the function. This function can be used to train and evaluate multiple neural network models with different configurations of hidden layers and other hyperparameters to identify the best model for predicting customer churn."
   ]
  },
  {
   "cell_type": "code",
   "execution_count": null,
   "metadata": {
    "id": "2raAxQDy9m1w"
   },
   "outputs": [],
   "source": [
    "import tensorflow as tf\n",
    "\n",
    "def train_neural_network(X_train_scaled, y_train, X_test_scaled, y_test):\n",
    "    # Create a simple neural network model\n",
    "    model = tf.keras.Sequential([\n",
    "        tf.keras.layers.Dense(128, activation='relu', input_shape=(X_train_scaled.shape[1],)),\n",
    "        tf.keras.layers.Dropout(0.2),\n",
    "        tf.keras.layers.Dense(256, activation='relu'),\n",
    "        tf.keras.layers.Dropout(0.2),\n",
    "        tf.keras.layers.Dense(128, activation='relu'),\n",
    "        tf.keras.layers.Dropout(0.2),\n",
    "        tf.keras.layers.Dense(64, activation='relu'),\n",
    "        tf.keras.layers.Dropout(0.2),\n",
    "        tf.keras.layers.Dense(1, activation='sigmoid')\n",
    "    ])\n",
    "\n",
    "    # Compile the model\n",
    "    model.compile(optimizer='adam', loss='binary_crossentropy', metrics=['accuracy'])\n",
    "\n",
    "    # Train the model\n",
    "    model.fit(X_train_scaled, y_train, epochs=15, batch_size=50, validation_split=0.1)\n",
    "\n",
    "    # Evaluate the model on the test set\n",
    "    test_loss, test_accuracy = model.evaluate(X_test_scaled, y_test)\n",
    "\n",
    "    return model, test_loss, test_accuracy\n"
   ]
  },
  {
   "cell_type": "markdown",
   "metadata": {
    "id": "aD1iHZx9zI_H"
   },
   "source": [
    "## All three clusters and their neural network models\n",
    "\n",
    "In this code, we have trained and evaluated three neural network models on the preprocessed customer churn dataset. The dataset was split into three clusters using k-means clustering, and each cluster was separately used to train and test the neural network models. The neural network architecture consisted of four hidden layers and one output layer, with ReLU activation for the hidden layers and sigmoid activation for the output layer. The models were trained using binary cross-entropy loss and accuracy metrics, and different hyperparameters were tried to optimize the model performance.\n"
   ]
  },
  {
   "cell_type": "code",
   "execution_count": null,
   "metadata": {
    "colab": {
     "base_uri": "https://localhost:8080/",
     "height": 1000
    },
    "id": "JqS7bowS9m4w",
    "outputId": "6fde03b0-5ee2-4f0a-b6ad-ebbac7e59deb"
   },
   "outputs": [
    {
     "name": "stdout",
     "output_type": "stream",
     "text": [
      "Epoch 1/15\n",
      "895/895 [==============================] - 5s 5ms/step - loss: 0.6802 - accuracy: 0.5702 - val_loss: 0.6693 - val_accuracy: 0.5936\n",
      "Epoch 2/15\n",
      "895/895 [==============================] - 6s 7ms/step - loss: 0.6641 - accuracy: 0.6012 - val_loss: 0.6653 - val_accuracy: 0.5938\n",
      "Epoch 3/15\n",
      "895/895 [==============================] - 4s 5ms/step - loss: 0.6580 - accuracy: 0.6122 - val_loss: 0.6647 - val_accuracy: 0.5971\n",
      "Epoch 4/15\n",
      "895/895 [==============================] - 4s 5ms/step - loss: 0.6536 - accuracy: 0.6166 - val_loss: 0.6622 - val_accuracy: 0.5961\n",
      "Epoch 5/15\n",
      "895/895 [==============================] - 6s 7ms/step - loss: 0.6489 - accuracy: 0.6212 - val_loss: 0.6617 - val_accuracy: 0.6023\n",
      "Epoch 6/15\n",
      "895/895 [==============================] - 4s 5ms/step - loss: 0.6446 - accuracy: 0.6244 - val_loss: 0.6600 - val_accuracy: 0.6029\n",
      "Epoch 7/15\n",
      "895/895 [==============================] - 4s 5ms/step - loss: 0.6410 - accuracy: 0.6288 - val_loss: 0.6587 - val_accuracy: 0.6055\n",
      "Epoch 8/15\n",
      "895/895 [==============================] - 6s 7ms/step - loss: 0.6373 - accuracy: 0.6312 - val_loss: 0.6598 - val_accuracy: 0.6089\n",
      "Epoch 9/15\n",
      "895/895 [==============================] - 4s 5ms/step - loss: 0.6337 - accuracy: 0.6343 - val_loss: 0.6625 - val_accuracy: 0.5989\n",
      "Epoch 10/15\n",
      "895/895 [==============================] - 4s 5ms/step - loss: 0.6316 - accuracy: 0.6409 - val_loss: 0.6602 - val_accuracy: 0.6073\n",
      "Epoch 11/15\n",
      "895/895 [==============================] - 6s 7ms/step - loss: 0.6261 - accuracy: 0.6431 - val_loss: 0.6632 - val_accuracy: 0.6025\n",
      "Epoch 12/15\n",
      "895/895 [==============================] - 6s 7ms/step - loss: 0.6214 - accuracy: 0.6476 - val_loss: 0.6585 - val_accuracy: 0.6073\n",
      "Epoch 13/15\n",
      "895/895 [==============================] - 5s 6ms/step - loss: 0.6186 - accuracy: 0.6521 - val_loss: 0.6616 - val_accuracy: 0.6033\n",
      "Epoch 14/15\n",
      "895/895 [==============================] - 5s 6ms/step - loss: 0.6153 - accuracy: 0.6529 - val_loss: 0.6624 - val_accuracy: 0.6087\n",
      "Epoch 15/15\n",
      "895/895 [==============================] - 4s 5ms/step - loss: 0.6126 - accuracy: 0.6556 - val_loss: 0.6677 - val_accuracy: 0.6031\n",
      "520/520 [==============================] - 1s 2ms/step - loss: 0.6637 - accuracy: 0.6043\n",
      "520/520 [==============================] - 1s 1ms/step\n"
     ]
    },
    {
     "data": {
      "image/png": "[encoded data removed]",
      "text/plain": [
       "<Figure size 640x480 with 2 Axes>"
      ]
     },
     "metadata": {},
     "output_type": "display_data"
    },
    {
     "name": "stdout",
     "output_type": "stream",
     "text": [
      "Test Loss: 0.663711428642273, Test Accuracy: 0.6042793393135071\n",
      "              precision    recall  f1-score   support\n",
      "\n",
      "           0       0.60      0.57      0.58      8160\n",
      "           1       0.61      0.64      0.62      8478\n",
      "\n",
      "    accuracy                           0.60     16638\n",
      "   macro avg       0.60      0.60      0.60     16638\n",
      "weighted avg       0.60      0.60      0.60     16638\n",
      "\n"
     ]
    }
   ],
   "source": [
    "from sklearn.metrics import confusion_matrix\n",
    "\n",
    "model, test_loss, test_accuracy = train_neural_network(X_train_0_scaled, y_train_0, X_test_0_scaled, y_test_0)\n",
    "# Make predictions on the test set\n",
    "y_pred = model.predict(X_test_0_scaled)\n",
    "y_pred_classes = np.where(y_pred > 0.5, 1, 0)\n",
    "\n",
    "# Calculate the confusion matrix\n",
    "conf_mat = confusion_matrix(y_test_0, y_pred_classes)\n",
    "\n",
    "# Display the confusion matrix\n",
    "sns.heatmap(conf_mat, annot=True, fmt='g', cmap='Blues')\n",
    "plt.xlabel('Predicted labels')\n",
    "plt.ylabel('True labels')\n",
    "plt.title('Confusion matrix')\n",
    "plt.show()\n",
    "print(f'Test Loss: {test_loss}, Test Accuracy: {test_accuracy}')\n",
    "\n",
    "# Calculate the classification report\n",
    "report = classification_report(y_test_0, y_pred_classes)\n",
    "\n",
    "# Print the classification report\n",
    "print(report)\n",
    "\n"
   ]
  },
  {
   "cell_type": "code",
   "execution_count": null,
   "metadata": {
    "colab": {
     "base_uri": "https://localhost:8080/",
     "height": 1000
    },
    "id": "ac_63uht9m7y",
    "outputId": "c83d4b01-8b26-4ed4-f73f-9f9d5bd88004"
   },
   "outputs": [
    {
     "name": "stdout",
     "output_type": "stream",
     "text": [
      "Epoch 1/15\n",
      "384/384 [==============================] - 3s 5ms/step - loss: 0.6893 - accuracy: 0.5408 - val_loss: 0.6736 - val_accuracy: 0.5659\n",
      "Epoch 2/15\n",
      "384/384 [==============================] - 2s 5ms/step - loss: 0.6745 - accuracy: 0.5847 - val_loss: 0.6704 - val_accuracy: 0.5907\n",
      "Epoch 3/15\n",
      "384/384 [==============================] - 2s 5ms/step - loss: 0.6654 - accuracy: 0.5984 - val_loss: 0.6680 - val_accuracy: 0.5842\n",
      "Epoch 4/15\n",
      "384/384 [==============================] - 3s 7ms/step - loss: 0.6591 - accuracy: 0.6050 - val_loss: 0.6666 - val_accuracy: 0.5959\n",
      "Epoch 5/15\n",
      "384/384 [==============================] - 3s 8ms/step - loss: 0.6535 - accuracy: 0.6139 - val_loss: 0.6659 - val_accuracy: 0.6010\n",
      "Epoch 6/15\n",
      "384/384 [==============================] - 2s 5ms/step - loss: 0.6489 - accuracy: 0.6230 - val_loss: 0.6648 - val_accuracy: 0.5902\n",
      "Epoch 7/15\n",
      "384/384 [==============================] - 2s 5ms/step - loss: 0.6435 - accuracy: 0.6273 - val_loss: 0.6684 - val_accuracy: 0.6015\n",
      "Epoch 8/15\n",
      "384/384 [==============================] - 2s 5ms/step - loss: 0.6367 - accuracy: 0.6361 - val_loss: 0.6723 - val_accuracy: 0.5898\n",
      "Epoch 9/15\n",
      "384/384 [==============================] - 2s 5ms/step - loss: 0.6295 - accuracy: 0.6411 - val_loss: 0.6729 - val_accuracy: 0.5870\n",
      "Epoch 10/15\n",
      "384/384 [==============================] - 2s 5ms/step - loss: 0.6231 - accuracy: 0.6546 - val_loss: 0.6863 - val_accuracy: 0.5893\n",
      "Epoch 11/15\n",
      "384/384 [==============================] - 3s 7ms/step - loss: 0.6188 - accuracy: 0.6593 - val_loss: 0.6780 - val_accuracy: 0.5870\n",
      "Epoch 12/15\n",
      "384/384 [==============================] - 3s 7ms/step - loss: 0.6105 - accuracy: 0.6583 - val_loss: 0.6827 - val_accuracy: 0.5809\n",
      "Epoch 13/15\n",
      "384/384 [==============================] - 2s 5ms/step - loss: 0.6059 - accuracy: 0.6632 - val_loss: 0.6986 - val_accuracy: 0.5799\n",
      "Epoch 14/15\n",
      "384/384 [==============================] - 2s 5ms/step - loss: 0.5980 - accuracy: 0.6723 - val_loss: 0.6916 - val_accuracy: 0.5602\n",
      "Epoch 15/15\n",
      "384/384 [==============================] - 2s 5ms/step - loss: 0.5879 - accuracy: 0.6849 - val_loss: 0.6902 - val_accuracy: 0.5799\n",
      "222/222 [==============================] - 1s 2ms/step - loss: 0.6853 - accuracy: 0.5868\n",
      "222/222 [==============================] - 0s 1ms/step\n"
     ]
    },
    {
     "data": {
      "image/png": "[encoded data removed]",
      "text/plain": [
       "<Figure size 640x480 with 2 Axes>"
      ]
     },
     "metadata": {},
     "output_type": "display_data"
    },
    {
     "name": "stdout",
     "output_type": "stream",
     "text": [
      "Test Loss: 0.6852957606315613, Test Accuracy: 0.5868339538574219\n",
      "              precision    recall  f1-score   support\n",
      "\n",
      "           0       0.60      0.64      0.62      3749\n",
      "           1       0.57      0.52      0.54      3345\n",
      "\n",
      "    accuracy                           0.59      7094\n",
      "   macro avg       0.58      0.58      0.58      7094\n",
      "weighted avg       0.59      0.59      0.59      7094\n",
      "\n"
     ]
    }
   ],
   "source": [
    "from sklearn.metrics import confusion_matrix\n",
    "model, test_loss, test_accuracy = train_neural_network(X_train_1_scaled, y_train_1, X_test_1_scaled, y_test_1)\n",
    "# Make predictions on the test set\n",
    "y_pred = model.predict(X_test_1_scaled)\n",
    "y_pred_classes = np.where(y_pred > 0.5, 1, 0)\n",
    "\n",
    "# Calculate the confusion matrix\n",
    "conf_mat = confusion_matrix(y_test_1, y_pred_classes)\n",
    "\n",
    "# Display the confusion matrix\n",
    "sns.heatmap(conf_mat, annot=True, fmt='g', cmap='Blues')\n",
    "plt.xlabel('Predicted labels')\n",
    "plt.ylabel('True labels')\n",
    "plt.title('Confusion matrix')\n",
    "plt.show()\n",
    "print(f'Test Loss: {test_loss}, Test Accuracy: {test_accuracy}')\n",
    "\n",
    "# Calculate the classification report\n",
    "report = classification_report(y_test_1, y_pred_classes)\n",
    "\n",
    "# Print the classification report\n",
    "print(report)"
   ]
  },
  {
   "cell_type": "code",
   "execution_count": null,
   "metadata": {
    "colab": {
     "base_uri": "https://localhost:8080/",
     "height": 1000
    },
    "id": "mXKp1a9j9m-j",
    "outputId": "e220d5e3-7e40-4acd-facc-b6da81d5bb3e"
   },
   "outputs": [
    {
     "name": "stdout",
     "output_type": "stream",
     "text": [
      "Epoch 1/15\n",
      "72/72 [==============================] - 3s 18ms/step - loss: 0.6961 - accuracy: 0.5551 - val_loss: 0.6900 - val_accuracy: 0.5416\n",
      "Epoch 2/15\n",
      "72/72 [==============================] - 1s 11ms/step - loss: 0.6795 - accuracy: 0.5817 - val_loss: 0.6838 - val_accuracy: 0.5718\n",
      "Epoch 3/15\n",
      "72/72 [==============================] - 1s 11ms/step - loss: 0.6604 - accuracy: 0.6016 - val_loss: 0.6726 - val_accuracy: 0.5970\n",
      "Epoch 4/15\n",
      "72/72 [==============================] - 1s 9ms/step - loss: 0.6512 - accuracy: 0.6153 - val_loss: 0.6608 - val_accuracy: 0.6196\n",
      "Epoch 5/15\n",
      "72/72 [==============================] - 0s 5ms/step - loss: 0.6406 - accuracy: 0.6388 - val_loss: 0.6664 - val_accuracy: 0.5919\n",
      "Epoch 6/15\n",
      "72/72 [==============================] - 0s 5ms/step - loss: 0.6227 - accuracy: 0.6492 - val_loss: 0.6674 - val_accuracy: 0.6121\n",
      "Epoch 7/15\n",
      "72/72 [==============================] - 0s 5ms/step - loss: 0.6102 - accuracy: 0.6655 - val_loss: 0.6687 - val_accuracy: 0.5945\n",
      "Epoch 8/15\n",
      "72/72 [==============================] - 0s 5ms/step - loss: 0.5902 - accuracy: 0.6831 - val_loss: 0.6788 - val_accuracy: 0.5995\n",
      "Epoch 9/15\n",
      "72/72 [==============================] - 0s 5ms/step - loss: 0.5774 - accuracy: 0.6938 - val_loss: 0.6853 - val_accuracy: 0.6071\n",
      "Epoch 10/15\n",
      "72/72 [==============================] - 0s 5ms/step - loss: 0.5549 - accuracy: 0.7128 - val_loss: 0.7223 - val_accuracy: 0.6096\n",
      "Epoch 11/15\n",
      "72/72 [==============================] - 0s 5ms/step - loss: 0.5289 - accuracy: 0.7257 - val_loss: 0.7061 - val_accuracy: 0.6096\n",
      "Epoch 12/15\n",
      "72/72 [==============================] - 0s 5ms/step - loss: 0.5124 - accuracy: 0.7467 - val_loss: 0.7306 - val_accuracy: 0.5995\n",
      "Epoch 13/15\n",
      "72/72 [==============================] - 0s 5ms/step - loss: 0.5044 - accuracy: 0.7489 - val_loss: 0.7487 - val_accuracy: 0.6196\n",
      "Epoch 14/15\n",
      "72/72 [==============================] - 1s 8ms/step - loss: 0.4755 - accuracy: 0.7716 - val_loss: 0.7228 - val_accuracy: 0.6121\n",
      "Epoch 15/15\n",
      "72/72 [==============================] - 1s 9ms/step - loss: 0.4576 - accuracy: 0.7854 - val_loss: 0.8098 - val_accuracy: 0.5970\n",
      "40/40 [==============================] - 0s 2ms/step - loss: 0.8086 - accuracy: 0.5781\n",
      "40/40 [==============================] - 0s 2ms/step\n"
     ]
    },
    {
     "data": {
      "image/png": "[encoded data removed]",
      "text/plain": [
       "<Figure size 640x480 with 2 Axes>"
      ]
     },
     "metadata": {},
     "output_type": "display_data"
    },
    {
     "name": "stdout",
     "output_type": "stream",
     "text": [
      "Test Loss: 0.8085553646087646, Test Accuracy: 0.5780757069587708\n",
      "              precision    recall  f1-score   support\n",
      "\n",
      "           0       0.59      0.74      0.66       700\n",
      "           1       0.54      0.38      0.45       568\n",
      "\n",
      "    accuracy                           0.58      1268\n",
      "   macro avg       0.57      0.56      0.55      1268\n",
      "weighted avg       0.57      0.58      0.56      1268\n",
      "\n"
     ]
    }
   ],
   "source": [
    "\n",
    "\n",
    "\n",
    "model, test_loss, test_accuracy = train_neural_network(X_train_2_scaled, y_train_2, X_test_2_scaled, y_test_2)\n",
    "# Make predictions on the test set\n",
    "y_pred = model.predict(X_test_2_scaled)\n",
    "y_pred_classes = np.where(y_pred > 0.5, 1, 0)\n",
    "\n",
    "# Calculate the confusion matrix\n",
    "conf_mat = confusion_matrix(y_test_2, y_pred_classes)\n",
    "\n",
    "# Display the confusion matrix\n",
    "sns.heatmap(conf_mat, annot=True, fmt='g', cmap='Blues')\n",
    "plt.xlabel('Predicted labels')\n",
    "plt.ylabel('True labels')\n",
    "plt.title('Confusion matrix')\n",
    "plt.show()\n",
    "print(f'Test Loss: {test_loss}, Test Accuracy: {test_accuracy}')\n",
    "\n",
    "# Calculate the classification report\n",
    "report = classification_report(y_test_2, y_pred_classes)\n",
    "\n",
    "# Print the classification report\n",
    "print(report)"
   ]
  },
  {
   "cell_type": "markdown",
   "metadata": {
    "id": "GXw_5WbMQImI"
   },
   "source": [
    "\n",
    "## Conclusion\n",
    "We started by exploring the dataset and preprocessing the data by handling missing values, encoding categorical features, and scaling numerical features. We then used various machine learning algorithms such as logistic regression, decision tree, random forest, and XGBoost to train and evaluate models for predicting customer churn. We also used K-means clustering to identify three distinct groups of customers based on their characteristics.\n",
    "\n",
    "We then used neural networks to build and train models for predicting customer churn. We tried different configurations of hidden layers, regularization techniques, and early stopping to improve the performance of the models. We also trained separate models on each of the three clusters identified earlier to see if clustering improves the performance of the models.\n",
    "\n",
    "For cluster 1,for exampe,  the neural network model with 4 hidden layers and 15 epochs achieved a test accuracy of 60.43, which is slightly lower than the  random forest models. Regularization with L2 penalty was used to prevent overfitting. Overall, the neural network model did not outperform the other models in this cluster. However, it is still a good approach to consider when dealing with complex datasets where other models may not perform well.\n",
    "\n",
    "**Reasons**\n",
    "\n",
    "\n",
    "There can be several reasons for the low accuracy of the model in this context. Firstly, the dataset may not have enough data or may not be diverse enough to capture the complexity of the problem. This can lead to overfitting or underfitting of the model, resulting in poor generalization performance. Secondly, the choice of hyperparameters such as the learning rate, batch size, and number of epochs can significantly impact the accuracy of the model. Poor choices of hyperparameters can lead to slow convergence or even divergence, making it difficult to achieve high accuracy.\n",
    "\n",
    "Thirdly, feature selection and engineering can have a significant impact on the performance of the model. The selected features may not capture the relevant information needed to predict churn accurately. Feature engineering, on the other hand, can help extract more meaningful features from the raw data and improve the accuracy of the model. Fourthly, the choice of algorithm or model architecture can also impact the performance of the model. Different models have different strengths and weaknesses, and choosing the right model for the problem at hand can make a significant difference in the accuracy of the predictions.\n",
    "\n",
    "Lastly, it is possible that the problem itself is inherently difficult to solve, and the best possible accuracy that can be achieved with the current dataset and methods is lower than expected. In such cases, it may be necessary to collect more data or explore more advanced methods to improve the accuracy. Overall, achieving high accuracy in predictive modeling is a challenging task that requires careful consideration of several factors, including data quality, feature engineering, model selection, and hyperparameter tuning."
   ]
  }
 ],
 "metadata": {
  "colab": {
   "provenance": []
  },
  "kernelspec": {
   "display_name": "Python 3 (ipykernel)",
   "language": "python",
   "name": "python3"
  },
  "language_info": {
   "codemirror_mode": {
    "name": "ipython",
    "version": 3
   },
   "file_extension": ".py",
   "mimetype": "text/x-python",
   "name": "python",
   "nbconvert_exporter": "python",
   "pygments_lexer": "ipython3",
   "version": "3.9.13"
  }
 },
 "nbformat": 4,
 "nbformat_minor": 1
}
