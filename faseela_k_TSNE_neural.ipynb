{
 "cells": [
  {
   "cell_type": "markdown",
   "metadata": {},
   "source": [
    "### Telecom churn prediction:\n",
    "**Faseela K Karim**"
   ]
  },
  {
   "cell_type": "markdown",
   "metadata": {
    "id": "RjWNZ8w6DowB"
   },
   "source": [
    "## Introduction\n",
    "In this notebook, we will be exploring a customer churn dataset and building a neural network model to predict customer churn with the help of TSNE. We will start by preprocessing the data and performing dimensionality reduction using t-SNE. Then, we will train and evaluate a neural network model on the reduced data. We will use the Keras library for building and training the neural network model. We will also use various preprocessing techniques like standard scaling to preprocess the data. Throughout this notebook, we will be using Python and various libraries such as pandas, numpy, matplotlib, seaborn, and tensorflow. So let's get started and explore this dataset!"
   ]
  },
  {
   "cell_type": "code",
   "execution_count": 1,
   "metadata": {
    "id": "mvdG2TbbbrLe"
   },
   "outputs": [],
   "source": [
    "import pandas as pd\n",
    "import numpy as np\n",
    "import matplotlib.pyplot as plt\n",
    "import seaborn as sns\n",
    "%matplotlib inline\n",
    "import statsmodels.api as sm\n",
    "from sklearn.preprocessing import StandardScaler\n",
    "from sklearn.preprocessing import MinMaxScaler"
   ]
  },
  {
   "cell_type": "code",
   "execution_count": 2,
   "metadata": {
    "colab": {
     "base_uri": "https://localhost:8080/"
    },
    "id": "IWUzs8HfcDv4",
    "outputId": "c2600d6d-85e5-4635-8e72-81181e89b316"
   },
   "outputs": [
    {
     "name": "stdout",
     "output_type": "stream",
     "text": [
      "Mounted at /content/drive\n"
     ]
    }
   ],
   "source": [
    "# from google.colab import drive\n",
    "# drive.mount('/content/drive')"
   ]
  },
  {
   "cell_type": "code",
   "execution_count": 3,
   "metadata": {
    "id": "7ERrhpARcD4-"
   },
   "outputs": [],
   "source": [
    "# #uploading the dataset\n",
    "# #output of onehot encoding used here,no columns deleted based on collinearity\n",
    "# df_train=pd.read_csv('/content/drive/My Drive/final_capstone/train_data_onehot.csv',index_col=0)\n",
    "# df_test=pd.read_csv('/content/drive/My Drive/final_capstone/test_data_onehot.csv',index_col=0)"
   ]
  },
  {
   "cell_type": "code",
   "execution_count": null,
   "metadata": {
    "id": "2nlro__DTpRm"
   },
   "outputs": [],
   "source": [
    "#uploading the dataset from local drive\n",
    "\n",
    "df_train=pd.read_csv('data/train_data_onehot.csv',index_col=0)\n",
    "df_test=pd.read_csv('data/test_data_onehot.csv',index_col=0)"
   ]
  },
  {
   "cell_type": "code",
   "execution_count": 4,
   "metadata": {
    "id": "oYPBbNv-TqPQ"
   },
   "outputs": [],
   "source": [
    "#seperating target variable from test and train data\n",
    "X_train =df_train.drop('churn',axis=1)\n",
    "X_test=df_test.drop('churn',axis=1)\n",
    "y_train=df_train.churn\n",
    "y_test=df_test.churn"
   ]
  },
  {
   "cell_type": "code",
   "execution_count": 5,
   "metadata": {
    "id": "wsWL4EMSsH2q"
   },
   "outputs": [],
   "source": [
    "scaler = StandardScaler()\n",
    "X_train_scaled=scaler.fit_transform(df_train)\n",
    "X_test_scaled=scaler.transform(df_test)"
   ]
  },
  {
   "cell_type": "code",
   "execution_count": 6,
   "metadata": {
    "id": "A7U2l19IV6Tn"
   },
   "outputs": [],
   "source": [
    "df_train_new=df_train\n",
    "df_test_new=df_test"
   ]
  },
  {
   "cell_type": "markdown",
   "metadata": {
    "id": "AwdZUHNg5nA5"
   },
   "source": [
    "## Performing TSNE\n",
    "\n",
    "TSNE is a popular technique for reducing high-dimensional data to lower dimensions for machine learning. It is particularly useful for visualizing complex data, as it can transform data into a 2D or 3D space that can be easily plotted too. In this context, TSNE was used to reduce the dimensionality of the customer churn dataset, allowing for easy processing. The reduced data was then fed into a neural network for prediction. By using TSNE as a dimension reducer, the model can achieve a high accuracy."
   ]
  },
  {
   "cell_type": "code",
   "execution_count": null,
   "metadata": {
    "id": "ebbdj6lRBIpM"
   },
   "outputs": [],
   "source": [
    "from sklearn.manifold import TSNE"
   ]
  },
  {
   "cell_type": "code",
   "execution_count": 7,
   "metadata": {
    "colab": {
     "base_uri": "https://localhost:8080/"
    },
    "id": "ZRy2jdC4Cjdx",
    "outputId": "a051872f-ac2f-4e2c-b621-2be235f47a87"
   },
   "outputs": [
    {
     "data": {
      "text/plain": [
       "(75000, 126)"
      ]
     },
     "execution_count": 7,
     "metadata": {},
     "output_type": "execute_result"
    }
   ],
   "source": [
    "df_train.shape"
   ]
  },
  {
   "cell_type": "code",
   "execution_count": 8,
   "metadata": {
    "colab": {
     "base_uri": "https://localhost:8080/"
    },
    "id": "4t-GKzjJCjqq",
    "outputId": "049fbf64-4a02-4ce3-dae0-323ece34b84f"
   },
   "outputs": [
    {
     "data": {
      "text/plain": [
       "(25000, 126)"
      ]
     },
     "execution_count": 8,
     "metadata": {},
     "output_type": "execute_result"
    }
   ],
   "source": [
    "df_test.shape"
   ]
  },
  {
   "cell_type": "code",
   "execution_count": null,
   "metadata": {
    "id": "sJOfl3PkBIxt"
   },
   "outputs": [],
   "source": [
    "tsne = TSNE(n_components=3,perplexity=40, random_state=42)\n",
    "\n",
    "#We also need to drop the cluster labels so that t-sne won't use them when computing distance\n",
    "tsne_data = tsne.fit_transform(df_train)"
   ]
  },
  {
   "cell_type": "code",
   "execution_count": null,
   "metadata": {
    "id": "U3rSbBwxBI1N"
   },
   "outputs": [],
   "source": [
    "tsne_df = pd.DataFrame(tsne_data, columns=[f'tsne D{i+1}' for i in range(tsne_data.shape[1])])\n",
    "# pca_df['kmeans_labels'] = X_train_4['cluster'].values\n",
    "tsne_df['churn'] = df_train_new['churn'].values\n"
   ]
  },
  {
   "cell_type": "code",
   "execution_count": null,
   "metadata": {
    "id": "xCvSo03_BI9z"
   },
   "outputs": [],
   "source": [
    "tsne_test_data = tsne.fit_transform(df_test)"
   ]
  },
  {
   "cell_type": "code",
   "execution_count": null,
   "metadata": {
    "id": "b8Qz2UGlBoOs"
   },
   "outputs": [],
   "source": [
    "tsne_df_test = pd.DataFrame(tsne_test_data, columns=[f'tsne D{i+1}' for i in range(tsne_data.shape[1])])\n",
    "# pca_df['kmeans_labels'] = X_train_4['cluster'].values\n",
    "tsne_df_test['churn'] = df_test_new['churn'].values\n"
   ]
  },
  {
   "cell_type": "markdown",
   "metadata": {
    "id": "HlLOc2sx0yQ8"
   },
   "source": [
    "## Importing Neural Network Libraries"
   ]
  },
  {
   "cell_type": "code",
   "execution_count": null,
   "metadata": {
    "id": "a4lUcExQS-eG"
   },
   "outputs": [],
   "source": [
    "import tensorflow as tf\n",
    "from tensorflow import keras\n",
    "from tensorflow.keras import layers\n",
    "from tensorflow.keras.models import Sequential\n",
    "from tensorflow.keras.layers import Dense\n",
    "from tensorflow.keras.metrics import MeanAbsoluteError\n",
    "from tensorflow.keras.callbacks import EarlyStopping\n",
    "from tensorflow.keras import regularizers"
   ]
  },
  {
   "cell_type": "markdown",
   "metadata": {
    "id": "TVs8JSF3ze01"
   },
   "source": [
    "## Function for Neural network Training.\n",
    "\n",
    "This code defines a function for training a neural network on the customer churn dataset. The function takes in the preprocessed training and test data sets as input, creates a sequential neural network model with four hidden layers and one output layer, compiles the model with binary cross-entropy loss and accuracy metrics, trains the model on the training data for 15 epochs, and evaluates the model on the test set. The trained model, test loss, and test accuracy are returned as output from the function. This function can be used to train and evaluate multiple neural network models with different configurations of hidden layers and other hyperparameters to identify the best model for predicting customer churn."
   ]
  },
  {
   "cell_type": "code",
   "execution_count": null,
   "metadata": {
    "id": "2raAxQDy9m1w"
   },
   "outputs": [],
   "source": [
    "import tensorflow as tf\n",
    "\n",
    "def train_neural_network(X_train_scaled, y_train, X_test_scaled, y_test):\n",
    "    # Create a simple neural network model\n",
    "    model = tf.keras.Sequential([\n",
    "        tf.keras.layers.Dense(128, activation='relu', input_shape=(X_train_scaled.shape[1],)),\n",
    "        tf.keras.layers.Dropout(0.2),\n",
    "        tf.keras.layers.Dense(256, activation='relu'),\n",
    "        tf.keras.layers.Dropout(0.2),\n",
    "        tf.keras.layers.Dense(128, activation='relu'),\n",
    "        tf.keras.layers.Dropout(0.2),\n",
    "        tf.keras.layers.Dense(64, activation='relu'),\n",
    "        tf.keras.layers.Dropout(0.2),\n",
    "        tf.keras.layers.Dense(1, activation='sigmoid')\n",
    "    ])\n",
    "\n",
    "    # Compile the model\n",
    "    model.compile(optimizer='adam', loss='binary_crossentropy', metrics=['accuracy'])\n",
    "\n",
    "    # Train the model\n",
    "    model.fit(X_train_scaled, y_train, epochs=15, batch_size=50, validation_split=0.1)\n",
    "\n",
    "    # Evaluate the model on the test set\n",
    "    test_loss, test_accuracy = model.evaluate(X_test_scaled, y_test)\n",
    "\n",
    "    return model, test_loss, test_accuracy\n"
   ]
  },
  {
   "cell_type": "markdown",
   "metadata": {
    "id": "ujAICZ9Wu0zV"
   },
   "source": [
    "## Here is TSNE being fed into Neural network\n",
    "\n",
    "In this code, the t-SNE embeddings generated earlier are fed into a neural network model. The code first separates the churn column from the tsne_df dataframe and scales the numerical features using a standard scaler. The same process is also performed for the test set. Then, the train_neural_network function is called to train the model and evaluate its performance on the test set. The test loss and test accuracy are printed to the console. This process is repeated for the tsne_df dataset."
   ]
  },
  {
   "cell_type": "code",
   "execution_count": null,
   "metadata": {
    "id": "S69mxMeHO0Dw"
   },
   "outputs": [],
   "source": [
    "#tsne_df has been made earlier\n",
    "tsne_df_x=tsne_df.drop('churn',axis=1)\n",
    "tsne_y=tsne_df.churn"
   ]
  },
  {
   "cell_type": "code",
   "execution_count": null,
   "metadata": {
    "id": "qPqWP1Y6O193"
   },
   "outputs": [],
   "source": [
    "tsne_df_x_test=tsne_df_test.drop('churn',axis=1)\n",
    "tsne_y_test=tsne_df_test.churn"
   ]
  },
  {
   "cell_type": "code",
   "execution_count": null,
   "metadata": {
    "colab": {
     "base_uri": "https://localhost:8080/",
     "height": 1000
    },
    "id": "UlpREn6q9nEp",
    "outputId": "234c3fa1-2bcb-482e-c40f-d15d6b20caf7"
   },
   "outputs": [
    {
     "name": "stdout",
     "output_type": "stream",
     "text": [
      "Epoch 1/15\n",
      "1620/1620 [==============================] - 14s 8ms/step - loss: 0.6807 - accuracy: 0.5686 - val_loss: 0.6674 - val_accuracy: 0.5943\n",
      "Epoch 2/15\n",
      "1620/1620 [==============================] - 10s 6ms/step - loss: 0.6684 - accuracy: 0.5935 - val_loss: 0.6626 - val_accuracy: 0.6049\n",
      "Epoch 3/15\n",
      "1620/1620 [==============================] - 10s 6ms/step - loss: 0.6625 - accuracy: 0.6008 - val_loss: 0.6599 - val_accuracy: 0.6046\n",
      "Epoch 4/15\n",
      "1620/1620 [==============================] - 10s 6ms/step - loss: 0.6590 - accuracy: 0.6045 - val_loss: 0.6635 - val_accuracy: 0.6028\n",
      "Epoch 5/15\n",
      "1620/1620 [==============================] - 11s 7ms/step - loss: 0.6555 - accuracy: 0.6099 - val_loss: 0.6561 - val_accuracy: 0.6107\n",
      "Epoch 6/15\n",
      "1620/1620 [==============================] - 10s 6ms/step - loss: 0.6529 - accuracy: 0.6138 - val_loss: 0.6553 - val_accuracy: 0.6088\n",
      "Epoch 7/15\n",
      "1620/1620 [==============================] - 10s 6ms/step - loss: 0.6500 - accuracy: 0.6198 - val_loss: 0.6571 - val_accuracy: 0.6098\n",
      "Epoch 8/15\n",
      "1620/1620 [==============================] - 9s 5ms/step - loss: 0.6477 - accuracy: 0.6199 - val_loss: 0.6569 - val_accuracy: 0.6137\n",
      "Epoch 9/15\n",
      "1620/1620 [==============================] - 10s 6ms/step - loss: 0.6457 - accuracy: 0.6231 - val_loss: 0.6559 - val_accuracy: 0.6090\n",
      "Epoch 10/15\n",
      "1620/1620 [==============================] - 10s 6ms/step - loss: 0.6433 - accuracy: 0.6245 - val_loss: 0.6544 - val_accuracy: 0.6073\n",
      "Epoch 11/15\n",
      "1620/1620 [==============================] - 10s 6ms/step - loss: 0.6417 - accuracy: 0.6265 - val_loss: 0.6538 - val_accuracy: 0.6128\n",
      "Epoch 12/15\n",
      "1620/1620 [==============================] - 9s 6ms/step - loss: 0.6398 - accuracy: 0.6294 - val_loss: 0.6541 - val_accuracy: 0.6127\n",
      "Epoch 13/15\n",
      "1620/1620 [==============================] - 10s 6ms/step - loss: 0.6372 - accuracy: 0.6322 - val_loss: 0.6538 - val_accuracy: 0.6160\n",
      "Epoch 14/15\n",
      "1620/1620 [==============================] - 10s 6ms/step - loss: 0.6356 - accuracy: 0.6338 - val_loss: 0.6566 - val_accuracy: 0.6060\n",
      "Epoch 15/15\n",
      "1620/1620 [==============================] - 10s 6ms/step - loss: 0.6335 - accuracy: 0.6365 - val_loss: 0.6543 - val_accuracy: 0.6092\n",
      "313/313 [==============================] - 1s 2ms/step - loss: 0.6526 - accuracy: 0.6156\n",
      "313/313 [==============================] - 1s 1ms/step\n"
     ]
    },
    {
     "data": {
      "image/png": "[encoded data removed]",
      "text/plain": [
       "<Figure size 640x480 with 2 Axes>"
      ]
     },
     "metadata": {},
     "output_type": "display_data"
    },
    {
     "name": "stdout",
     "output_type": "stream",
     "text": [
      "Test Loss: 0.6526330709457397, Test Accuracy: 0.6155999898910522\n",
      "              precision    recall  f1-score   support\n",
      "\n",
      "           0       0.63      0.57      0.60      5044\n",
      "           1       0.60      0.67      0.63      4956\n",
      "\n",
      "    accuracy                           0.62     10000\n",
      "   macro avg       0.62      0.62      0.61     10000\n",
      "weighted avg       0.62      0.62      0.61     10000\n",
      "\n"
     ]
    }
   ],
   "source": [
    "from sklearn.metrics import confusion_matrix\n",
    "from sklearn.metrics import classification_report\n",
    "\n",
    "# Train the neural network by calling the nural network training function.\n",
    "model, test_loss, test_accuracy = train_neural_network(X_train_scaled, y_train, X_test_scaled, y_test)\n",
    "\n",
    "\n",
    "# Make predictions on the test set\n",
    "y_pred = model.predict(X_test_scaled)\n",
    "y_pred_classes = np.where(y_pred > 0.5, 1, 0)\n",
    "\n",
    "# Calculate the confusion matrix\n",
    "conf_mat = confusion_matrix(y_test, y_pred_classes)\n",
    "\n",
    "# Display the confusion matrix\n",
    "sns.heatmap(conf_mat, annot=True, fmt='g', cmap='Blues')\n",
    "plt.xlabel('Predicted labels')\n",
    "plt.ylabel('True labels')\n",
    "plt.title('Confusion matrix')\n",
    "plt.show()\n",
    "\n",
    "# Print the test loss and test accuracy\n",
    "print(f'Test Loss: {test_loss}, Test Accuracy: {test_accuracy}')\n",
    "\n",
    "\n",
    "# Calculate the classification report\n",
    "report = classification_report(y_test, y_pred_classes)\n",
    "\n",
    "# Print the classification report\n",
    "print(report)"
   ]
  },
  {
   "cell_type": "markdown",
   "metadata": {
    "id": "SaOVBXgjW8Rd"
   },
   "source": [
    "The confusion matrix shows the values predicted correctly and the false predictions. The diagonal shows true predictions. True predictions are more than false ones, but still needs improvement. "
   ]
  },
  {
   "cell_type": "markdown",
   "metadata": {
    "id": "zC-D_oNUx3Ds"
   },
   "source": [
    "## Conclusion \n",
    "\n",
    "\n",
    "From the output, we can see that the neural network model was trained on the reduced dimensionality dataset using t-SNE and evaluated on the test set. The model's accuracy is not improved compared to other models we already done.\n",
    "However, it is important to note that this is just one iteration of training a neural network model, and we can further improve the accuracy by experimenting with different configurations of hidden layers and other hyperparameters of the neural network. We can also try different dimensionality reduction techniques and compare their performance."
   ]
  }
 ],
 "metadata": {
  "colab": {
   "provenance": []
  },
  "kernelspec": {
   "display_name": "Python 3 (ipykernel)",
   "language": "python",
   "name": "python3"
  },
  "language_info": {
   "codemirror_mode": {
    "name": "ipython",
    "version": 3
   },
   "file_extension": ".py",
   "mimetype": "text/x-python",
   "name": "python",
   "nbconvert_exporter": "python",
   "pygments_lexer": "ipython3",
   "version": "3.9.13"
  }
 },
 "nbformat": 4,
 "nbformat_minor": 1
}
